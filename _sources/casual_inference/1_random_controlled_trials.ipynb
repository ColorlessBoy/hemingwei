{
 "cells": [
  {
   "cell_type": "markdown",
   "metadata": {},
   "source": [
    "# Random Controlled Trials "
   ]
  },
  {
   "cell_type": "markdown",
   "metadata": {},
   "source": [
    "## Prepare\n",
    "\n",
    "问题一：我们从两个正态分布中采样 $x_1 \\sim \\mathcal{N}(\\mu_1, \\sigma^2_1)$ 和 $x_2 \\sim \\mathcal{N}(\\mu_2, \\sigma^2_2)$，那么 $x_1 + x_2$ 服从什么分布呢？  \n",
    "\n",
    "\\begin{aligned}\n",
    "P(x_1 + x_2 \\le t)\n",
    "=& \\int^{\\infty}_{-\\infty} p_1(x_1) \\int^{t - x_1}_{-\\infty} p_2(x_2) \\mathrm{d} x_2 \\mathrm{d} x_1 \\\\\n",
    "=& \\int^{\\infty}_{-\\infty} p_1(x_1) P_2(t - x_1) \\mathrm{d} x_1 \\\\\n",
    "\\end{aligned}\n",
    "\n",
    "\\begin{aligned}\n",
    "p(t) =& \\int^{\\infty}_{-\\infty} p_1(x_1) p_2(t - x_1) \\mathrm{d} x_1 \\\\\n",
    "=& \\int^{\\infty}_{-\\infty}\n",
    "\\frac{1}{\\sqrt {2 \\pi} \\sigma_1}\\exp\\bigg(-\\frac{(x_1 - \\mu_1)^2}{2\\sigma^2_1}\\bigg)\n",
    "\\frac{1}{\\sqrt {2 \\pi} \\sigma_2}\\exp\\bigg(-\\frac{(t - x_1 - \\mu_2)^2}{2\\sigma^2_2}\\bigg)\n",
    "\\mathrm{d} x_1 \\\\\n",
    "=& \\int^{\\infty}_{-\\infty}\n",
    "\\frac{1}{{2 \\pi} \\sigma_1 \\sigma_2}\\exp\\bigg(\n",
    "    - \\frac{\\sigma^2_1 + \\sigma^2_2}{2\\sigma^2_1 \\sigma^2_2} x_1^2\n",
    "    + \\frac{\\sigma^2_2 \\mu_1 + \\sigma^2_1 (t - \\mu_2)}{\\sigma^2_1 \\sigma^2_2} x_1\n",
    "    - \\frac{\\mu^2_1 \\sigma^2_2 + (t - \\mu_2)^2 \\sigma^2_1}{2\\sigma^2_1 \\sigma^2_2}\n",
    "\\bigg)\\mathrm{d} x_1 \\\\\n",
    "=& \\int^{\\infty}_{-\\infty}\n",
    "\\frac{1}{{2 \\pi} \\sigma_1 \\sigma_2}\\exp\\bigg[\n",
    "- \\frac{\\sigma^2_1 + \\sigma^2_2}{2\\sigma^2_1 \\sigma^2_2} \\bigg(\n",
    "    x_1 - \\frac{\\sigma^2_2 \\mu_1  + \\sigma^2_1(t - \\mu_2)^2}{\\sigma^2_1 + \\sigma^2_2}\n",
    "\\bigg)^2\n",
    "- \\frac{(t - \\mu_1 - \\mu_2)^2}{2(\\sigma^2_1 + \\sigma^2_2)}\n",
    "\\bigg] \\mathrm{d} x_1 \\\\\n",
    "=& \\exp \\bigg( - \\frac{(t - \\mu_1 - \\mu_2)^2}{2(\\sigma^2_1 + \\sigma^2_2)} \\bigg) \\cdot \n",
    "\\frac{1}{{2 \\pi} \\sigma_1 \\sigma_2}\n",
    "\\int^{\\infty}_{-\\infty}\n",
    "\\exp\\bigg[\n",
    "- \\frac{\\sigma^2_1 + \\sigma^2_2}{2\\sigma^2_1 \\sigma^2_2} \\bigg(\n",
    "    x_1 - \\frac{\\sigma^2_2 \\mu_1  + \\sigma^2_1(t - \\mu_2)^2}{\\sigma^2_1 + \\sigma^2_2}\n",
    "\\bigg)^2\n",
    "\\bigg] \\mathrm{d} x_1 \\\\\n",
    "=& \\exp \\bigg( - \\frac{(t - \\mu_1 - \\mu_2)^2}{2(\\sigma^2_1 + \\sigma^2_2)} \\bigg) \\cdot \\frac{1}{{2 \\pi} \\sigma_1 \\sigma_2} \n",
    "\\sqrt{\\frac{2\\pi\\sigma^2_1 \\sigma^2_2}{\\sigma^2_1 + \\sigma^2_2}} \\\\\n",
    "=& \\frac{1}{\\sqrt{2\\pi (\\sigma^2_1 + \\sigma^2_2)}} \\exp \\bigg( - \\frac{(t - \\mu_1 - \\mu_2)^2}{2(\\sigma^2_1 + \\sigma^2_2)} \\bigg)\n",
    "\\end{aligned}\n",
    "\n",
    "综上所述，$t = x_1 + x_2 \\sim \\mathcal{N}(\\mu_1 + \\mu_2, \\sigma^2_1 + \\sigma^2_2)$"
   ]
  },
  {
   "cell_type": "code",
   "execution_count": 43,
   "metadata": {},
   "outputs": [
    {
     "data": {
      "text/latex": [
       "$\\displaystyle \\operatorname{Poly}{\\left( \\frac{- \\sigma_{1}^{2} - \\sigma_{2}^{2}}{2 \\sigma_{1}^{2} \\sigma_{2}^{2}} x_{1}^{2} + \\frac{\\mu_{1} \\sigma_{2}^{2} - \\mu_{2} \\sigma_{1}^{2} + \\sigma_{1}^{2} t}{\\sigma_{1}^{2} \\sigma_{2}^{2}} x_{1} + \\frac{- \\mu_{1}^{2} \\sigma_{2}^{2} - \\mu_{2}^{2} \\sigma_{1}^{2} + 2 \\mu_{2} \\sigma_{1}^{2} t - \\sigma_{1}^{2} t^{2}}{2 \\sigma_{1}^{2} \\sigma_{2}^{2}}, x_{1}, domain=\\mathbb{Z}\\left(t, \\mu_{1}, \\mu_{2}, \\sigma_{1}, \\sigma_{2}\\right) \\right)}$"
      ],
      "text/plain": [
       "Poly((-\\sigma_1**2 - sigma_2**2)/(2*\\sigma_1**2*sigma_2**2)*x_1**2 + (\\mu_1*sigma_2**2 - \\mu_2*\\sigma_1**2 + \\sigma_1**2*t)/(\\sigma_1**2*sigma_2**2)*x_1 + (-\\mu_1**2*sigma_2**2 - \\mu_2**2*\\sigma_1**2 + 2*\\mu_2*\\sigma_1**2*t - \\sigma_1**2*t**2)/(2*\\sigma_1**2*sigma_2**2), x_1, domain='ZZ(t,\\mu_1,\\mu_2,\\sigma_1,sigma_2)')"
      ]
     },
     "metadata": {},
     "output_type": "display_data"
    },
    {
     "data": {
      "text/latex": [
       "$\\displaystyle \\frac{- \\sigma_{1}^{2} - \\sigma_{2}^{2}}{2 \\sigma_{1}^{2} \\sigma_{2}^{2}}$"
      ],
      "text/plain": [
       "(-\\sigma_1**2 - sigma_2**2)/(2*\\sigma_1**2*sigma_2**2)"
      ]
     },
     "metadata": {},
     "output_type": "display_data"
    },
    {
     "data": {
      "text/latex": [
       "$\\displaystyle \\frac{\\mu_{1} \\sigma_{2}^{2} - \\mu_{2} \\sigma_{1}^{2} + \\sigma_{1}^{2} t}{\\sigma_{1}^{2} \\sigma_{2}^{2}}$"
      ],
      "text/plain": [
       "(\\mu_1*sigma_2**2 - \\mu_2*\\sigma_1**2 + \\sigma_1**2*t)/(\\sigma_1**2*sigma_2**2)"
      ]
     },
     "metadata": {},
     "output_type": "display_data"
    },
    {
     "data": {
      "text/latex": [
       "$\\displaystyle \\frac{- \\mu_{1}^{2} \\sigma_{2}^{2} - \\mu_{2}^{2} \\sigma_{1}^{2} + 2 \\mu_{2} \\sigma_{1}^{2} t - \\sigma_{1}^{2} t^{2}}{2 \\sigma_{1}^{2} \\sigma_{2}^{2}}$"
      ],
      "text/plain": [
       "(-\\mu_1**2*sigma_2**2 - \\mu_2**2*\\sigma_1**2 + 2*\\mu_2*\\sigma_1**2*t - \\sigma_1**2*t**2)/(2*\\sigma_1**2*sigma_2**2)"
      ]
     },
     "metadata": {},
     "output_type": "display_data"
    }
   ],
   "source": [
    "import sympy as sp\n",
    "x1, mu1, sigma1, t, mu2, sigma2 = sp.symbols('x_1 \\mu_1 \\sigma_1 t \\mu_2 sigma_2')\n",
    "poly1 = - (x1 - mu1)**2 / (2 * sigma1**2) - (t - x1 - mu2)**2 / (2 * sigma2**2)\n",
    "poly2 = sp.Poly(poly1, x1)\n",
    "coeffs = poly2.coeffs()\n",
    "display(poly2)\n",
    "display(coeffs[0])\n",
    "display(coeffs[1])\n",
    "display(coeffs[2])"
   ]
  },
  {
   "cell_type": "code",
   "execution_count": 57,
   "metadata": {},
   "outputs": [
    {
     "data": {
      "text/latex": [
       "$\\displaystyle \\frac{\\mu_{1} \\sigma_{2}^{2} - \\mu_{2} \\sigma_{1}^{2} + \\sigma_{1}^{2} t}{- \\sigma_{1}^{2} - \\sigma_{2}^{2}}$"
      ],
      "text/plain": [
       "(\\mu_1*sigma_2**2 - \\mu_2*\\sigma_1**2 + \\sigma_1**2*t)/(-\\sigma_1**2 - sigma_2**2)"
      ]
     },
     "metadata": {},
     "output_type": "display_data"
    },
    {
     "data": {
      "text/plain": [
       "'\\\\frac{\\\\mu_{1} \\\\sigma_{2}^{2} - \\\\mu_{2} \\\\sigma_{1}^{2} + \\\\sigma_{1}^{2} t}{- \\\\sigma_{1}^{2} - \\\\sigma_{2}^{2}}'"
      ]
     },
     "execution_count": 57,
     "metadata": {},
     "output_type": "execute_result"
    }
   ],
   "source": [
    "k = coeffs[1] / 2 / coeffs[0]\n",
    "display(k)\n",
    "print(sp.latex(k))"
   ]
  },
  {
   "cell_type": "code",
   "execution_count": 50,
   "metadata": {},
   "outputs": [
    {
     "data": {
      "text/latex": [
       "$\\displaystyle \\operatorname{Poly}{\\left( - \\frac{1}{2 \\sigma_{1}^{2} + 2 \\sigma_{2}^{2}} t^{2} + \\frac{\\mu_{1} + \\mu_{2}}{\\sigma_{1}^{2} + \\sigma_{2}^{2}} t + \\frac{- \\mu_{1}^{2} - 2 \\mu_{1} \\mu_{2} - \\mu_{2}^{2}}{2 \\sigma_{1}^{2} + 2 \\sigma_{2}^{2}}, t, domain=\\mathbb{Z}\\left(\\mu_{1}, \\mu_{2}, \\sigma_{1}, \\sigma_{2}\\right) \\right)}$"
      ],
      "text/plain": [
       "Poly(-1/(2*\\sigma_1**2 + 2*sigma_2**2)*t**2 + (\\mu_1 + \\mu_2)/(\\sigma_1**2 + sigma_2**2)*t + (-\\mu_1**2 - 2*\\mu_1*\\mu_2 - \\mu_2**2)/(2*\\sigma_1**2 + 2*sigma_2**2), t, domain='ZZ(\\mu_1,\\mu_2,\\sigma_1,sigma_2)')"
      ]
     },
     "execution_count": 50,
     "metadata": {},
     "output_type": "execute_result"
    }
   ],
   "source": [
    "poly3 = sp.Poly(-(coeffs[1] / 2)**2 / coeffs[0] + coeffs[2], t)\n",
    "poly3"
   ]
  },
  {
   "cell_type": "markdown",
   "metadata": {},
   "source": [
    "## 从一个简单的例子出发\n",
    "\n",
    "问题二：已知三个随机变量满足： \n",
    "- $x \\sim \\mathcal{N}(\\mu_x, \\sigma^2_x)$ \n",
    "- $w \\sim B(0.5)$, $p(w = 0) = 0.5$, $p(w = 1) = 0.5$ \n",
    "- $y(x, w) \\sim \\mathcal{N}(a_w x + b_w, \\sigma^2_w) $  \n",
    "那么，$ r = (2w - 1) y $ 满足什么分布呢？\n",
    "\n",
    "那么，三个随机变量联合分布满足：\n",
    "\\begin{aligned}\n",
    "p(x, w, y) =& \n",
    "\\frac{1}{\\sqrt{2\\pi} \\sigma_x} \\exp \\bigg(- \\frac{(x - \\mu_x)^2}{2\\sigma^2_x}\\bigg) \n",
    "\\cdot \\frac{1}{2} \\cdot \n",
    "\\frac{1}{\\sqrt{2\\pi} \\sigma_w} \\exp \\bigg(- \\frac{(y - a_w x - b_w)^2}{2\\sigma^2_w}\\bigg) \\\\\n",
    "=& \n",
    "\\frac{1}{4 \\pi \\sigma_x \\sigma_w} \\exp \\bigg[ \n",
    "-\\frac{\\sigma_{w}^{2} + \\sigma_{x}^{2} a_{w}^{2}}{2 \\sigma_{w}^{2} \\sigma_{x}^{2}}\n",
    "\\bigg(\n",
    "    x -\n",
    "    \\frac{\\mu_{x} \\sigma_{w}^{2} - \\sigma_{x}^{2} a_{w} b_{w} + \\sigma_{x}^{2} a_{w} y}{\\sigma_{w}^{2} + \\sigma_{x}^{2} a_{w}^{2}}\n",
    "\\bigg)^2 - \\frac{(y - \\mu_{x} a_{w} - b_{w})^2}{2(\\sigma_{w}^{2} + \\sigma_{x}^{2} a_{w})}\n",
    "\\bigg]\n",
    "\\end{aligned}\n",
    "\n",
    "联合分布 $p(w, y)$ 满足：\n",
    "\\begin{aligned}\n",
    "p(w, y) =& \\int^\\infty_{-\\infty} p(x, w, y) \\mathrm{d} x \\\\\n",
    "=& \n",
    "\\frac{1}{4 \\pi \\sigma_x \\sigma_w}\n",
    "\\frac{\\sqrt{2 \\pi} \\sigma_{w} \\sigma_{x}}{\\sqrt{\\sigma_{w}^{2} + \\sigma_{x}^{2} a_{w}^{2}}}\n",
    "\\exp \\bigg( - \\frac{(y - \\mu_{x} a_{w} - b_{w})^2}{2(\\sigma_{w}^{2} + \\sigma_{x}^{2} a_{w}^2)} \\bigg) \\\\\n",
    "=& \\frac{1}{2 \\sqrt{2 \\pi (\\sigma_{w}^{2} + \\sigma_{x}^{2} a_{w}^{2}})} \n",
    "\\exp \\bigg( - \\frac{(y - \\mu_{x} a_{w} - b_{w})^2}{2(\\sigma_{w}^{2} + \\sigma_{x}^{2} a_{w}^2)} \\bigg) \\\\\n",
    "\\end{aligned}\n",
    "\n",
    "$$\n",
    "p(y \\vert w) = \n",
    "\\frac{1}{\\sqrt{2 \\pi (\\sigma_{w}^{2} + \\sigma_{x}^{2} a_{w}^{2}})} \n",
    "\\exp \\bigg( - \\frac{(y - \\mu_{x} a_{w} - b_{w})^2}{2(\\sigma_{w}^{2} + \\sigma_{x}^{2} a_{w}^2)} \\bigg) \\\\\n",
    "$$\n",
    "\n",
    "$$ E(y \\vert w) = \\mu_x a_w + b_w$$ \n",
    "\n",
    "$$ Var(y \\vert w) = \\sigma_w^2 + \\sigma_x^2 a_w^2 $$\n",
    "\n",
    "那么目标分布\n",
    "\n",
    "\\begin{aligned}\n",
    "&P[(2w - 1)y \\le r] \\\\ \n",
    "=& \\int^{r}_{-\\infty} p(w = 1, y) \\mathrm{d} y + \\int^{\\infty}_{-r} p(w = 0, y) \\mathrm{d} y \\\\\n",
    "=& \\int^r_{-\\infty} \\frac{1}{2 \\sqrt{2 \\pi (\\sigma_{1}^{2} + \\sigma_{x}^{2} a_{1}^{2}})} \n",
    "\\exp \\bigg( - \\frac{(y - \\mu_{x} a_{1} - b_{1})^2}{2(\\sigma_{1}^{2} + \\sigma_{x}^{2} a_{1}^2)} \\bigg) \\mathrm{d} y\n",
    "\\\\\n",
    "& + \\int^{\\infty}_{-r} \\frac{1}{2 \\sqrt{2 \\pi (\\sigma_{0}^{2} + \\sigma_{x}^{2} a_{0}^{2}})} \n",
    "\\exp \\bigg( - \\frac{(y - \\mu_{x} a_{0} - b_{0})^2}{2(\\sigma_{0}^{2} + \\sigma_{x}^{2} a_{0}^2)} \\bigg) \\mathrm{d} y\n",
    "\\end{aligned}\n",
    "\n",
    "$$\n",
    "p(r)\n",
    "= \\frac{1}{2 \\sqrt{2 \\pi (\\sigma_{1}^{2} + \\sigma_{x}^{2} a_{1}^{2}})} \n",
    "\\exp \\bigg( - \\frac{(r - \\mu_{x} a_{1} - b_{1})^2}{2(\\sigma_{1}^{2} + \\sigma_{x}^{2} a_{1}^2)} \\bigg)\n",
    "- \\frac{1}{2 \\sqrt{2 \\pi (\\sigma_{0}^{2} + \\sigma_{x}^{2} a_{0}^{2}})} \n",
    "\\exp \\bigg( - \\frac{(-r - \\mu_{x} a_{0} - b_{0})^2}{2(\\sigma_{0}^{2} + \\sigma_{x}^{2} a_{0}^2)} \\bigg)\n",
    "$$\n",
    "\n",
    "\\begin{aligned}\n",
    "E(r) =& \\int^{\\infty}_{-\\infty} \n",
    "\\frac{r}{2 \\sqrt{2 \\pi (\\sigma_{1}^{2} + \\sigma_{x}^{2} a_{1}^{2}})} \n",
    "\\exp \\bigg( - \\frac{(r - \\mu_{x} a_{1} - b_{1})^2}{2(\\sigma_{1}^{2} + \\sigma_{x}^{2} a_{1}^2)} \\bigg)\n",
    "- \\frac{r}{2 \\sqrt{2 \\pi (\\sigma_{0}^{2} + \\sigma_{x}^{2} a_{0}^{2}})} \n",
    "\\exp \\bigg( - \\frac{(-r - \\mu_{x} a_{0} - b_{0})^2}{2(\\sigma_{0}^{2} + \\sigma_{x}^{2} a_{0}^2)} \\bigg) \n",
    "\\mathrm{d} r \\\\\n",
    "=& \\frac{1}{2}[(\\mu_x a_1 + b_1) - (\\mu_x a_0 + b_0)] \\\\\n",
    "=& \\frac{1}{2}[E(y \\vert w = 1) - E(y \\vert w = 0)]\n",
    "\\end{aligned}\n",
    "\n",
    "\\begin{aligned}\n",
    "Var(r) = \\frac{1}{2}[\\sigma_1^2 + \\sigma_x^2 a_1^2 + \\sigma_0^2 + \\sigma_x^2 a_0^2]\n",
    "= \\frac{1}{2} [Var(y \\vert w = 1) + Var(y \\vert w = 0)]\n",
    "\\end{aligned}"
   ]
  },
  {
   "cell_type": "markdown",
   "metadata": {},
   "source": [
    "我们如果使用线性回归，能不能有更好的结果呢？\n",
    "\n",
    "首先处理采样的样本 $(x_i, w_i, y_i) \\rightarrow (\\mathbf{x}_i = [(1 - w_i)x_i, 1 - w_i, w_i x_i, w_i, 1.0]^T, y_i)$:\n",
    "\n",
    "根据线性回归公式：$\\mathbf{k} = (\\mathbf{X}^T \\mathbf{X})^{-1} \\mathbf{X} \\mathbf{y}$, 其中 $\\mathbf{X} = [\\mathbf{x}_1, \\mathbf{x}_2, \\ldots, \\mathbf{x}_n]$, $\\mathbf{y} = [y_1, y_2, \\ldots, y_n]^T$\n",
    "\n",
    "有点复杂，处理样本 $(x_i, w_i, y_i)$ 为两类样本 $(\\mathbf{x}_0 = [1 - w_i)x_i, 1 - w_i]^T, (1 - w_i) y_i)$ 和 $(\\mathbf{x}_1 = [w_i x_i, w_i]^T, w_i y_i)$\n",
    "\n",
    "$\\mathbf{k}_0 = (\\mathbf{X}^T_0 \\mathbf{X}_0)^{-1} \\mathbf{X}_0 \\mathbf{y}_0$, $\\mathbf{k}_1 = (\\mathbf{X}^T_1 \\mathbf{X}_1)^{-1} \\mathbf{X}_1 \\mathbf{y}_1$\n",
    "\n",
    "\\begin{aligned}\n",
    "\\mathbf{k}_0 =& \n",
    "\\begin{bmatrix}\n",
    "\\sum (1 - w_i)^2 x_i^2 & \\sum (1 - w_i)^2 x_i \\\\\n",
    "\\sum (1 - w_i)^2 x_i & \\sum (1 - w_i)^2 \n",
    "\\end{bmatrix} ^{-1} \n",
    "\\begin{bmatrix}\n",
    "\\sum (1 - w_i) x_i y_i \\\\ \\sum (1 - w_i) y_i\n",
    "\\end{bmatrix} \\\\\n",
    "=& \n",
    "\\begin{bmatrix}\n",
    "\\frac{\\sum (1 - w_i)^2 x_i^2}{\\sum (1 - w_i)^2 x_i^2 \\sum (1 - w_i)^2 - \\sum (1 - w_i)^2 x_i \\sum (1 - w_i)^2 x_i} \n",
    "& -\\frac{\\sum (1 - w_i)^2 x_i}{\\sum (1 - w_i)^2 x_i^2 \\sum (1 - w_i)^2 - \\sum (1 - w_i)^2 x_i \\sum (1 - w_i)^2 x_i} \\\\\n",
    "-\\frac{\\sum (1 - w_i)^2 x_i}{\\sum (1 - w_i)^2 x_i^2 \\sum (1 - w_i)^2 - \\sum (1 - w_i)^2 x_i \\sum (1 - w_i)^2 x_i} \n",
    "& \\frac{\\sum (1 - w_i)^2}{\\sum (1 - w_i)^2 x_i^2 \\sum (1 - w_i)^2 - \\sum (1 - w_i)^2 x_i \\sum (1 - w_i)^2 x_i} \n",
    "\\end{bmatrix}\n",
    "\\begin{bmatrix}\n",
    "\\sum (1 - w_i) x_i y_i \\\\ \\sum (1 - w_i) y_i\n",
    "\\end{bmatrix} \\\\\n",
    "=& \n",
    "\\begin{bmatrix}\n",
    "\\frac{\\sum (1 - w_i)^2 x_i^2 \\sum (1 - w_i) x_i y_i - \\sum (1 - w_i)^2 x_i \\sum (1 - w_i) y_i}{\\sum (1 - w_i)^2 x_i^2 \\sum (1 - w_i)^2 - \\sum (1 - w_i)^2 x_i \\sum (1 - w_i)^2 x_i} \\\\\n",
    "\\frac{-\\sum (1 - w_i)^2 x_i \\sum (1 - w_i) x_i y_i + \\sum (1 - w_i)^2 x_i \\sum (1 - w_i) x_i y_i}{\\sum (1 - w_i)^2 x_i^2 \\sum (1 - w_i)^2 - \\sum (1 - w_i)^2 x_i \\sum (1 - w_i)^2 x_i} \n",
    "\\end{bmatrix}\n",
    "\\end{aligned}\n",
    "\n",
    "$$\n",
    "\\mathbf{k}_1 = \n",
    "\\begin{bmatrix}\n",
    "\\frac{\\sum w_i^2 x_i^2 \\sum w_i x_i y_i - \\sum w_i^2 x_i \\sum w_i y_i}{\\sum w_i^2 x_i^2 \\sum w_i^2 - \\sum w_i^2 x_i \\sum w_i^2 x_i} \\\\\n",
    "\\frac{-\\sum w_i^2 x_i \\sum w_i x_i y_i + \\sum w_i^2 x_i \\sum w_i x_i y_i}{\\sum w_i^2 x_i^2 \\sum w_i^2 - \\sum w_i^2 x_i \\sum w_i^2 x_i} \n",
    "\\end{bmatrix}\n",
    "$$"
   ]
  },
  {
   "cell_type": "code",
   "execution_count": 1,
   "metadata": {},
   "outputs": [
    {
     "data": {
      "text/latex": [
       "$\\displaystyle \\operatorname{Poly}{\\left( \\frac{- \\sigma_{w}^{2} - \\sigma_{x}^{2} a_{w}^{2}}{2 \\sigma_{w}^{2} \\sigma_{x}^{2}} x^{2} + \\frac{\\mu_{x} \\sigma_{w}^{2} - \\sigma_{x}^{2} a_{w} b_{w} + \\sigma_{x}^{2} a_{w} y}{\\sigma_{w}^{2} \\sigma_{x}^{2}} x + \\frac{- \\mu_{x}^{2} \\sigma_{w}^{2} - \\sigma_{x}^{2} b_{w}^{2} + 2 \\sigma_{x}^{2} b_{w} y - \\sigma_{x}^{2} y^{2}}{2 \\sigma_{w}^{2} \\sigma_{x}^{2}}, x, domain=\\mathbb{Z}\\left(y, \\mu_{x}, \\sigma_{w}, \\sigma_{x}, a_{w}, b_{w}\\right) \\right)}$"
      ],
      "text/plain": [
       "Poly((-\\sigma_w**2 - \\sigma_x**2*a_w**2)/(2*\\sigma_w**2*\\sigma_x**2)*x**2 + (\\mu_x*\\sigma_w**2 - \\sigma_x**2*a_w*b_w + \\sigma_x**2*a_w*y)/(\\sigma_w**2*\\sigma_x**2)*x + (-\\mu_x**2*\\sigma_w**2 - \\sigma_x**2*b_w**2 + 2*\\sigma_x**2*b_w*y - \\sigma_x**2*y**2)/(2*\\sigma_w**2*\\sigma_x**2), x, domain='ZZ(y,\\mu_x,\\sigma_w,\\sigma_x,a_w,b_w)')"
      ]
     },
     "metadata": {},
     "output_type": "display_data"
    },
    {
     "data": {
      "text/latex": [
       "$\\displaystyle \\frac{- \\sigma_{w}^{2} - \\sigma_{x}^{2} a_{w}^{2}}{2 \\sigma_{w}^{2} \\sigma_{x}^{2}}$"
      ],
      "text/plain": [
       "(-\\sigma_w**2 - \\sigma_x**2*a_w**2)/(2*\\sigma_w**2*\\sigma_x**2)"
      ]
     },
     "metadata": {},
     "output_type": "display_data"
    },
    {
     "data": {
      "text/latex": [
       "$\\displaystyle \\frac{\\mu_{x} \\sigma_{w}^{2} - \\sigma_{x}^{2} a_{w} b_{w} + \\sigma_{x}^{2} a_{w} y}{\\sigma_{w}^{2} \\sigma_{x}^{2}}$"
      ],
      "text/plain": [
       "(\\mu_x*\\sigma_w**2 - \\sigma_x**2*a_w*b_w + \\sigma_x**2*a_w*y)/(\\sigma_w**2*\\sigma_x**2)"
      ]
     },
     "metadata": {},
     "output_type": "display_data"
    },
    {
     "data": {
      "text/latex": [
       "$\\displaystyle \\frac{- \\mu_{x}^{2} \\sigma_{w}^{2} - \\sigma_{x}^{2} b_{w}^{2} + 2 \\sigma_{x}^{2} b_{w} y - \\sigma_{x}^{2} y^{2}}{2 \\sigma_{w}^{2} \\sigma_{x}^{2}}$"
      ],
      "text/plain": [
       "(-\\mu_x**2*\\sigma_w**2 - \\sigma_x**2*b_w**2 + 2*\\sigma_x**2*b_w*y - \\sigma_x**2*y**2)/(2*\\sigma_w**2*\\sigma_x**2)"
      ]
     },
     "metadata": {},
     "output_type": "display_data"
    }
   ],
   "source": [
    "import sympy as sp\n",
    "x, mux, sigmax, y, aw, bw, sigmaw = sp.symbols('x \\mu_x \\sigma_x y a_w b_w \\sigma_w')\n",
    "poly1 = - (x - mux)**2 / (2 * sigmax**2) - (y - aw * x - bw)**2 / (2 * sigmaw**2)\n",
    "poly2 = sp.Poly(poly1, x)\n",
    "coeffs = poly2.coeffs()\n",
    "display(poly2)\n",
    "display(coeffs[0])\n",
    "display(coeffs[1])\n",
    "display(coeffs[2])"
   ]
  },
  {
   "cell_type": "code",
   "execution_count": 6,
   "metadata": {},
   "outputs": [
    {
     "data": {
      "text/latex": [
       "$\\displaystyle \\frac{\\mu_{x} \\sigma_{w}^{2} - \\sigma_{x}^{2} a_{w} b_{w} + \\sigma_{x}^{2} a_{w} y}{- \\sigma_{w}^{2} - \\sigma_{x}^{2} a_{w}^{2}}$"
      ],
      "text/plain": [
       "(\\mu_x*\\sigma_w**2 - \\sigma_x**2*a_w*b_w + \\sigma_x**2*a_w*y)/(-\\sigma_w**2 - \\sigma_x**2*a_w**2)"
      ]
     },
     "metadata": {},
     "output_type": "display_data"
    },
    {
     "name": "stdout",
     "output_type": "stream",
     "text": [
      "\\frac{\\mu_{x} \\sigma_{w}^{2} - \\sigma_{x}^{2} a_{w} b_{w} + \\sigma_{x}^{2} a_{w} y}{- \\sigma_{w}^{2} - \\sigma_{x}^{2} a_{w}^{2}}\n",
      "\\frac{- \\sigma_{w}^{2} - \\sigma_{x}^{2} a_{w}^{2}}{2 \\sigma_{w}^{2} \\sigma_{x}^{2}}\n"
     ]
    }
   ],
   "source": [
    "k = coeffs[1] / 2 / coeffs[0]\n",
    "display(k)\n",
    "print(sp.latex(k))\n",
    "print(sp.latex(coeffs[0]))"
   ]
  },
  {
   "cell_type": "code",
   "execution_count": 11,
   "metadata": {},
   "outputs": [
    {
     "data": {
      "text/latex": [
       "$\\displaystyle \\operatorname{Poly}{\\left( - \\frac{1}{2 \\sigma_{w}^{2} + 2 \\sigma_{x}^{2} a_{w}^{2}} y^{2} + \\frac{\\mu_{x} a_{w} + b_{w}}{\\sigma_{w}^{2} + \\sigma_{x}^{2} a_{w}^{2}} y + \\frac{- \\mu_{x}^{2} a_{w}^{2} - 2 \\mu_{x} a_{w} b_{w} - b_{w}^{2}}{2 \\sigma_{w}^{2} + 2 \\sigma_{x}^{2} a_{w}^{2}}, y, domain=\\mathbb{Z}\\left(\\mu_{x}, \\sigma_{w}, \\sigma_{x}, a_{w}, b_{w}\\right) \\right)}$"
      ],
      "text/plain": [
       "Poly(-1/(2*\\sigma_w**2 + 2*\\sigma_x**2*a_w**2)*y**2 + (\\mu_x*a_w + b_w)/(\\sigma_w**2 + \\sigma_x**2*a_w**2)*y + (-\\mu_x**2*a_w**2 - 2*\\mu_x*a_w*b_w - b_w**2)/(2*\\sigma_w**2 + 2*\\sigma_x**2*a_w**2), y, domain='ZZ(\\mu_x,\\sigma_w,\\sigma_x,a_w,b_w)')"
      ]
     },
     "metadata": {},
     "output_type": "display_data"
    },
    {
     "name": "stdout",
     "output_type": "stream",
     "text": [
      "- \\frac{1}{2 \\sigma_{w}^{2} + 2 \\sigma_{x}^{2} a_{w}^{2}}\n",
      "\\frac{\\mu_{x} a_{w} + b_{w}}{\\sigma_{w}^{2} + \\sigma_{x}^{2} a_{w}^{2}}\n"
     ]
    }
   ],
   "source": [
    "poly3 = sp.Poly(-(coeffs[1] / 2)**2 / coeffs[0] + coeffs[2], y)\n",
    "display(poly3)\n",
    "print(sp.latex(poly3.coeffs()[0]))\n",
    "print(sp.latex(poly3.coeffs()[1]))"
   ]
  },
  {
   "cell_type": "markdown",
   "metadata": {},
   "source": []
  }
 ],
 "metadata": {
  "kernelspec": {
   "display_name": ".venv",
   "language": "python",
   "name": "python3"
  },
  "language_info": {
   "codemirror_mode": {
    "name": "ipython",
    "version": 3
   },
   "file_extension": ".py",
   "mimetype": "text/x-python",
   "name": "python",
   "nbconvert_exporter": "python",
   "pygments_lexer": "ipython3",
   "version": "3.11.4"
  }
 },
 "nbformat": 4,
 "nbformat_minor": 2
}
