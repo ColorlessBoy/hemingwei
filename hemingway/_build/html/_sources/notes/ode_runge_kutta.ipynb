{
 "cells": [
  {
   "cell_type": "markdown",
   "metadata": {},
   "source": [
    "# ODE-Runge-Kutta"
   ]
  },
  {
   "cell_type": "markdown",
   "metadata": {},
   "source": [
    "## Runge-Kutta-RK3"
   ]
  },
  {
   "cell_type": "code",
   "execution_count": 84,
   "metadata": {},
   "outputs": [],
   "source": [
    "import sympy as sp\n",
    "def removeSub(expr):\n",
    "    if isinstance(expr, sp.Subs):\n",
    "        return expr.args[0].replace(expr.args[1][0], expr.args[2][0])\n",
    "    for arg in expr.args:\n",
    "        expr = expr.replace(arg, removeSub(arg))\n",
    "    return expr"
   ]
  },
  {
   "cell_type": "code",
   "execution_count": 85,
   "metadata": {},
   "outputs": [],
   "source": [
    "x, dx, y, dy = sp.symbols('x \\Delta{x} y \\Delta{y}')\n",
    "f, y_ = sp.symbols('f y', cls=sp.Function)"
   ]
  },
  {
   "cell_type": "code",
   "execution_count": 86,
   "metadata": {},
   "outputs": [
    {
     "data": {
      "text/latex": [
       "$\\displaystyle f{\\left(x,y \\right)}$"
      ],
      "text/plain": [
       "f(x, y)"
      ]
     },
     "metadata": {},
     "output_type": "display_data"
    },
    {
     "data": {
      "text/latex": [
       "$\\displaystyle f{\\left(x,y \\right)} \\frac{\\partial}{\\partial y} f{\\left(x,y \\right)} + \\frac{\\partial}{\\partial x} f{\\left(x,y \\right)}$"
      ],
      "text/plain": [
       "f(x, y)*Derivative(f(x, y), y) + Derivative(f(x, y), x)"
      ]
     },
     "metadata": {},
     "output_type": "display_data"
    },
    {
     "data": {
      "text/latex": [
       "$\\displaystyle f^{2}{\\left(x,y \\right)} \\frac{\\partial^{2}}{\\partial y^{2}} f{\\left(x,y \\right)} + f{\\left(x,y \\right)} \\left(\\frac{\\partial}{\\partial y} f{\\left(x,y \\right)}\\right)^{2} + 2 f{\\left(x,y \\right)} \\frac{\\partial^{2}}{\\partial y\\partial x} f{\\left(x,y \\right)} + \\frac{\\partial}{\\partial x} f{\\left(x,y \\right)} \\frac{\\partial}{\\partial y} f{\\left(x,y \\right)} + \\frac{\\partial^{2}}{\\partial x^{2}} f{\\left(x,y \\right)}$"
      ],
      "text/plain": [
       "f(x, y)**2*Derivative(f(x, y), (y, 2)) + f(x, y)*Derivative(f(x, y), y)**2 + 2*f(x, y)*Derivative(f(x, y), x, y) + Derivative(f(x, y), x)*Derivative(f(x, y), y) + Derivative(f(x, y), (x, 2))"
      ]
     },
     "metadata": {},
     "output_type": "display_data"
    },
    {
     "data": {
      "text/latex": [
       "$\\displaystyle \\frac{\\Delta{x}^{3} \\left(f^{2}{\\left(x,y \\right)} \\frac{\\partial^{2}}{\\partial y^{2}} f{\\left(x,y \\right)} + f{\\left(x,y \\right)} \\left(\\frac{\\partial}{\\partial y} f{\\left(x,y \\right)}\\right)^{2} + 2 f{\\left(x,y \\right)} \\frac{\\partial^{2}}{\\partial y\\partial x} f{\\left(x,y \\right)} + \\frac{\\partial}{\\partial x} f{\\left(x,y \\right)} \\frac{\\partial}{\\partial y} f{\\left(x,y \\right)} + \\frac{\\partial^{2}}{\\partial x^{2}} f{\\left(x,y \\right)}\\right)}{6} + \\frac{\\Delta{x}^{2} \\left(f{\\left(x,y \\right)} \\frac{\\partial}{\\partial y} f{\\left(x,y \\right)} + \\frac{\\partial}{\\partial x} f{\\left(x,y \\right)}\\right)}{2} + \\Delta{x} f{\\left(x,y \\right)} + y{\\left(x \\right)}$"
      ],
      "text/plain": [
       "\\Delta{x}**3*(f(x, y)**2*Derivative(f(x, y), (y, 2)) + f(x, y)*Derivative(f(x, y), y)**2 + 2*f(x, y)*Derivative(f(x, y), x, y) + Derivative(f(x, y), x)*Derivative(f(x, y), y) + Derivative(f(x, y), (x, 2)))/6 + \\Delta{x}**2*(f(x, y)*Derivative(f(x, y), y) + Derivative(f(x, y), x))/2 + \\Delta{x}*f(x, y) + y(x)"
      ]
     },
     "metadata": {},
     "output_type": "display_data"
    }
   ],
   "source": [
    "dy_dx = f(x, y)\n",
    "dy_dx2 = removeSub(f(x, y_(x)).diff(x).subs(y_(x).diff(x), dy_dx).subs(y_(x), y))\n",
    "dy_dx3 = removeSub(f(x, y_(x)).diff(x, 2).subs(y_(x).diff(x, 2), dy_dx2).subs(y_(x).diff(x), dy_dx).subs(y_(x), y)).expand().simplify()\n",
    "y_taylor = y_(x) + dy_dx*dx + dy_dx2*dx**2/2 + dy_dx3*dx**3/6\n",
    "display(dy_dx, dy_dx2, dy_dx3, y_taylor)"
   ]
  },
  {
   "cell_type": "code",
   "execution_count": 87,
   "metadata": {},
   "outputs": [
    {
     "data": {
      "text/latex": [
       "$\\displaystyle \\Delta{x} \\frac{\\partial}{\\partial x} f{\\left(x,y \\right)} + \\Delta{y} \\frac{\\partial}{\\partial y} f{\\left(x,y \\right)}$"
      ],
      "text/plain": [
       "\\Delta{x}*Derivative(f(x, y), x) + \\Delta{y}*Derivative(f(x, y), y)"
      ]
     },
     "metadata": {},
     "output_type": "display_data"
    },
    {
     "data": {
      "text/latex": [
       "$\\displaystyle \\Delta{x}^{2} \\frac{\\partial^{2}}{\\partial x^{2}} f{\\left(x,y \\right)} + 2 \\Delta{x} \\Delta{y} \\frac{\\partial^{2}}{\\partial y\\partial x} f{\\left(x,y \\right)} + \\Delta{y}^{2} \\frac{\\partial^{2}}{\\partial y^{2}} f{\\left(x,y \\right)}$"
      ],
      "text/plain": [
       "\\Delta{x}**2*Derivative(f(x, y), (x, 2)) + 2*\\Delta{x}*\\Delta{y}*Derivative(f(x, y), x, y) + \\Delta{y}**2*Derivative(f(x, y), (y, 2))"
      ]
     },
     "metadata": {},
     "output_type": "display_data"
    },
    {
     "data": {
      "text/latex": [
       "$\\displaystyle \\frac{\\Delta{x}^{2} \\frac{\\partial^{2}}{\\partial x^{2}} f{\\left(x,y \\right)}}{2} + \\Delta{x} \\Delta{y} \\frac{\\partial^{2}}{\\partial y\\partial x} f{\\left(x,y \\right)} + \\Delta{x} \\frac{\\partial}{\\partial x} f{\\left(x,y \\right)} + \\frac{\\Delta{y}^{2} \\frac{\\partial^{2}}{\\partial y^{2}} f{\\left(x,y \\right)}}{2} + \\Delta{y} \\frac{\\partial}{\\partial y} f{\\left(x,y \\right)} + f{\\left(x,y \\right)}$"
      ],
      "text/plain": [
       "\\Delta{x}**2*Derivative(f(x, y), (x, 2))/2 + \\Delta{x}*\\Delta{y}*Derivative(f(x, y), x, y) + \\Delta{x}*Derivative(f(x, y), x) + \\Delta{y}**2*Derivative(f(x, y), (y, 2))/2 + \\Delta{y}*Derivative(f(x, y), y) + f(x, y)"
      ]
     },
     "metadata": {},
     "output_type": "display_data"
    }
   ],
   "source": [
    "pdf1 = f(x, y).diff(x)*dx + f(x, y).diff(y)*dy\n",
    "pdf2 = (pdf1.diff(x)*dx + pdf1.diff(y)*dy).expand().simplify()\n",
    "f_taylor = f(x, y) + pdf1 + pdf2/2\n",
    "display(pdf1, pdf2, f_taylor)"
   ]
  },
  {
   "cell_type": "markdown",
   "metadata": {},
   "source": [
    "$$\n",
    "\\begin{aligned}\n",
    "y_{n+1} =& y_n + h(C_1 K_1 + C_2 K_2 + C_3 K_3)\\\\\n",
    "K_1 =& f(x_n, y_n)\\\\\n",
    "K_2 =& f(x_n + a_2 h, y_n + b_{21} h K_1)\\\\\n",
    "K_3 =& f(x_n + a_3 h, y_n + b_{31} h K_1 + b_{32} h K_2)\n",
    "\\end{aligned}\n",
    "$$"
   ]
  },
  {
   "cell_type": "code",
   "execution_count": 88,
   "metadata": {},
   "outputs": [],
   "source": [
    "C1, C2, C3 = sp.symbols('C_1 C_2 C_3')\n",
    "h, a2, a3 = sp.symbols('h a_2 a_3')\n",
    "b21, b31, b32 = sp.symbols('b_{21} b_{31} b_{32}')"
   ]
  },
  {
   "cell_type": "code",
   "execution_count": 89,
   "metadata": {},
   "outputs": [
    {
     "data": {
      "text/latex": [
       "$\\displaystyle f{\\left(x,y \\right)}$"
      ],
      "text/plain": [
       "f(x, y)"
      ]
     },
     "metadata": {},
     "output_type": "display_data"
    },
    {
     "data": {
      "text/latex": [
       "$\\displaystyle \\frac{a_{2}^{2} h^{2} \\frac{\\partial^{2}}{\\partial x^{2}} f{\\left(x,y \\right)}}{2} + a_{2} b_{21} h^{2} f{\\left(x,y \\right)} \\frac{\\partial^{2}}{\\partial y\\partial x} f{\\left(x,y \\right)} + a_{2} h \\frac{\\partial}{\\partial x} f{\\left(x,y \\right)} + \\frac{b_{21}^{2} h^{2} f^{2}{\\left(x,y \\right)} \\frac{\\partial^{2}}{\\partial y^{2}} f{\\left(x,y \\right)}}{2} + b_{21} h f{\\left(x,y \\right)} \\frac{\\partial}{\\partial y} f{\\left(x,y \\right)} + f{\\left(x,y \\right)}$"
      ],
      "text/plain": [
       "a_2**2*h**2*Derivative(f(x, y), (x, 2))/2 + a_2*b_{21}*h**2*f(x, y)*Derivative(f(x, y), x, y) + a_2*h*Derivative(f(x, y), x) + b_{21}**2*h**2*f(x, y)**2*Derivative(f(x, y), (y, 2))/2 + b_{21}*h*f(x, y)*Derivative(f(x, y), y) + f(x, y)"
      ]
     },
     "metadata": {},
     "output_type": "display_data"
    },
    {
     "data": {
      "text/latex": [
       "$\\displaystyle \\frac{a_{2}^{2} b_{32} h^{3} \\frac{\\partial^{2}}{\\partial x^{2}} f{\\left(x,y \\right)} \\frac{\\partial}{\\partial y} f{\\left(x,y \\right)}}{2} + a_{2} a_{3} b_{32} h^{3} \\frac{\\partial}{\\partial x} f{\\left(x,y \\right)} \\frac{\\partial^{2}}{\\partial y\\partial x} f{\\left(x,y \\right)} + a_{2} b_{21} b_{32} h^{3} f{\\left(x,y \\right)} \\frac{\\partial}{\\partial y} f{\\left(x,y \\right)} \\frac{\\partial^{2}}{\\partial y\\partial x} f{\\left(x,y \\right)} + a_{2} b_{31} b_{32} h^{3} f{\\left(x,y \\right)} \\frac{\\partial}{\\partial x} f{\\left(x,y \\right)} \\frac{\\partial^{2}}{\\partial y^{2}} f{\\left(x,y \\right)} + a_{2} b_{32}^{2} h^{3} f{\\left(x,y \\right)} \\frac{\\partial}{\\partial x} f{\\left(x,y \\right)} \\frac{\\partial^{2}}{\\partial y^{2}} f{\\left(x,y \\right)} + a_{2} b_{32} h^{2} \\frac{\\partial}{\\partial x} f{\\left(x,y \\right)} \\frac{\\partial}{\\partial y} f{\\left(x,y \\right)} + \\frac{a_{3}^{2} h^{2} \\frac{\\partial^{2}}{\\partial x^{2}} f{\\left(x,y \\right)}}{2} + a_{3} b_{21} b_{32} h^{3} f{\\left(x,y \\right)} \\frac{\\partial}{\\partial y} f{\\left(x,y \\right)} \\frac{\\partial^{2}}{\\partial y\\partial x} f{\\left(x,y \\right)} + a_{3} b_{31} h^{2} f{\\left(x,y \\right)} \\frac{\\partial^{2}}{\\partial y\\partial x} f{\\left(x,y \\right)} + a_{3} b_{32} h^{2} f{\\left(x,y \\right)} \\frac{\\partial^{2}}{\\partial y\\partial x} f{\\left(x,y \\right)} + a_{3} h \\frac{\\partial}{\\partial x} f{\\left(x,y \\right)} + \\frac{b_{21}^{2} b_{32} h^{3} f^{2}{\\left(x,y \\right)} \\frac{\\partial}{\\partial y} f{\\left(x,y \\right)} \\frac{\\partial^{2}}{\\partial y^{2}} f{\\left(x,y \\right)}}{2} + b_{21} b_{31} b_{32} h^{3} f^{2}{\\left(x,y \\right)} \\frac{\\partial}{\\partial y} f{\\left(x,y \\right)} \\frac{\\partial^{2}}{\\partial y^{2}} f{\\left(x,y \\right)} + b_{21} b_{32}^{2} h^{3} f^{2}{\\left(x,y \\right)} \\frac{\\partial}{\\partial y} f{\\left(x,y \\right)} \\frac{\\partial^{2}}{\\partial y^{2}} f{\\left(x,y \\right)} + b_{21} b_{32} h^{2} f{\\left(x,y \\right)} \\left(\\frac{\\partial}{\\partial y} f{\\left(x,y \\right)}\\right)^{2} + \\frac{b_{31}^{2} h^{2} f^{2}{\\left(x,y \\right)} \\frac{\\partial^{2}}{\\partial y^{2}} f{\\left(x,y \\right)}}{2} + b_{31} b_{32} h^{2} f^{2}{\\left(x,y \\right)} \\frac{\\partial^{2}}{\\partial y^{2}} f{\\left(x,y \\right)} + b_{31} h f{\\left(x,y \\right)} \\frac{\\partial}{\\partial y} f{\\left(x,y \\right)} + \\frac{b_{32}^{2} h^{2} f^{2}{\\left(x,y \\right)} \\frac{\\partial^{2}}{\\partial y^{2}} f{\\left(x,y \\right)}}{2} + b_{32} h f{\\left(x,y \\right)} \\frac{\\partial}{\\partial y} f{\\left(x,y \\right)} + f{\\left(x,y \\right)}$"
      ],
      "text/plain": [
       "a_2**2*b_{32}*h**3*Derivative(f(x, y), (x, 2))*Derivative(f(x, y), y)/2 + a_2*a_3*b_{32}*h**3*Derivative(f(x, y), x)*Derivative(f(x, y), x, y) + a_2*b_{21}*b_{32}*h**3*f(x, y)*Derivative(f(x, y), y)*Derivative(f(x, y), x, y) + a_2*b_{31}*b_{32}*h**3*f(x, y)*Derivative(f(x, y), x)*Derivative(f(x, y), (y, 2)) + a_2*b_{32}**2*h**3*f(x, y)*Derivative(f(x, y), x)*Derivative(f(x, y), (y, 2)) + a_2*b_{32}*h**2*Derivative(f(x, y), x)*Derivative(f(x, y), y) + a_3**2*h**2*Derivative(f(x, y), (x, 2))/2 + a_3*b_{21}*b_{32}*h**3*f(x, y)*Derivative(f(x, y), y)*Derivative(f(x, y), x, y) + a_3*b_{31}*h**2*f(x, y)*Derivative(f(x, y), x, y) + a_3*b_{32}*h**2*f(x, y)*Derivative(f(x, y), x, y) + a_3*h*Derivative(f(x, y), x) + b_{21}**2*b_{32}*h**3*f(x, y)**2*Derivative(f(x, y), y)*Derivative(f(x, y), (y, 2))/2 + b_{21}*b_{31}*b_{32}*h**3*f(x, y)**2*Derivative(f(x, y), y)*Derivative(f(x, y), (y, 2)) + b_{21}*b_{32}**2*h**3*f(x, y)**2*Derivative(f(x, y), y)*Derivative(f(x, y), (y, 2)) + b_{21}*b_{32}*h**2*f(x, y)*Derivative(f(x, y), y)**2 + b_{31}**2*h**2*f(x, y)**2*Derivative(f(x, y), (y, 2))/2 + b_{31}*b_{32}*h**2*f(x, y)**2*Derivative(f(x, y), (y, 2)) + b_{31}*h*f(x, y)*Derivative(f(x, y), y) + b_{32}**2*h**2*f(x, y)**2*Derivative(f(x, y), (y, 2))/2 + b_{32}*h*f(x, y)*Derivative(f(x, y), y) + f(x, y)"
      ]
     },
     "metadata": {},
     "output_type": "display_data"
    },
    {
     "data": {
      "text/latex": [
       "$\\displaystyle C_{1} h f{\\left(x,y \\right)} + \\frac{C_{2} a_{2}^{2} h^{3} \\frac{\\partial^{2}}{\\partial x^{2}} f{\\left(x,y \\right)}}{2} + C_{2} a_{2} b_{21} h^{3} f{\\left(x,y \\right)} \\frac{\\partial^{2}}{\\partial y\\partial x} f{\\left(x,y \\right)} + C_{2} a_{2} h^{2} \\frac{\\partial}{\\partial x} f{\\left(x,y \\right)} + \\frac{C_{2} b_{21}^{2} h^{3} f^{2}{\\left(x,y \\right)} \\frac{\\partial^{2}}{\\partial y^{2}} f{\\left(x,y \\right)}}{2} + C_{2} b_{21} h^{2} f{\\left(x,y \\right)} \\frac{\\partial}{\\partial y} f{\\left(x,y \\right)} + C_{2} h f{\\left(x,y \\right)} + \\frac{C_{3} a_{2}^{2} b_{32} h^{4} \\frac{\\partial^{2}}{\\partial x^{2}} f{\\left(x,y \\right)} \\frac{\\partial}{\\partial y} f{\\left(x,y \\right)}}{2} + C_{3} a_{2} a_{3} b_{32} h^{4} \\frac{\\partial}{\\partial x} f{\\left(x,y \\right)} \\frac{\\partial^{2}}{\\partial y\\partial x} f{\\left(x,y \\right)} + C_{3} a_{2} b_{21} b_{32} h^{4} f{\\left(x,y \\right)} \\frac{\\partial}{\\partial y} f{\\left(x,y \\right)} \\frac{\\partial^{2}}{\\partial y\\partial x} f{\\left(x,y \\right)} + C_{3} a_{2} b_{31} b_{32} h^{4} f{\\left(x,y \\right)} \\frac{\\partial}{\\partial x} f{\\left(x,y \\right)} \\frac{\\partial^{2}}{\\partial y^{2}} f{\\left(x,y \\right)} + C_{3} a_{2} b_{32}^{2} h^{4} f{\\left(x,y \\right)} \\frac{\\partial}{\\partial x} f{\\left(x,y \\right)} \\frac{\\partial^{2}}{\\partial y^{2}} f{\\left(x,y \\right)} + C_{3} a_{2} b_{32} h^{3} \\frac{\\partial}{\\partial x} f{\\left(x,y \\right)} \\frac{\\partial}{\\partial y} f{\\left(x,y \\right)} + \\frac{C_{3} a_{3}^{2} h^{3} \\frac{\\partial^{2}}{\\partial x^{2}} f{\\left(x,y \\right)}}{2} + C_{3} a_{3} b_{21} b_{32} h^{4} f{\\left(x,y \\right)} \\frac{\\partial}{\\partial y} f{\\left(x,y \\right)} \\frac{\\partial^{2}}{\\partial y\\partial x} f{\\left(x,y \\right)} + C_{3} a_{3} b_{31} h^{3} f{\\left(x,y \\right)} \\frac{\\partial^{2}}{\\partial y\\partial x} f{\\left(x,y \\right)} + C_{3} a_{3} b_{32} h^{3} f{\\left(x,y \\right)} \\frac{\\partial^{2}}{\\partial y\\partial x} f{\\left(x,y \\right)} + C_{3} a_{3} h^{2} \\frac{\\partial}{\\partial x} f{\\left(x,y \\right)} + \\frac{C_{3} b_{21}^{2} b_{32} h^{4} f^{2}{\\left(x,y \\right)} \\frac{\\partial}{\\partial y} f{\\left(x,y \\right)} \\frac{\\partial^{2}}{\\partial y^{2}} f{\\left(x,y \\right)}}{2} + C_{3} b_{21} b_{31} b_{32} h^{4} f^{2}{\\left(x,y \\right)} \\frac{\\partial}{\\partial y} f{\\left(x,y \\right)} \\frac{\\partial^{2}}{\\partial y^{2}} f{\\left(x,y \\right)} + C_{3} b_{21} b_{32}^{2} h^{4} f^{2}{\\left(x,y \\right)} \\frac{\\partial}{\\partial y} f{\\left(x,y \\right)} \\frac{\\partial^{2}}{\\partial y^{2}} f{\\left(x,y \\right)} + C_{3} b_{21} b_{32} h^{3} f{\\left(x,y \\right)} \\left(\\frac{\\partial}{\\partial y} f{\\left(x,y \\right)}\\right)^{2} + \\frac{C_{3} b_{31}^{2} h^{3} f^{2}{\\left(x,y \\right)} \\frac{\\partial^{2}}{\\partial y^{2}} f{\\left(x,y \\right)}}{2} + C_{3} b_{31} b_{32} h^{3} f^{2}{\\left(x,y \\right)} \\frac{\\partial^{2}}{\\partial y^{2}} f{\\left(x,y \\right)} + C_{3} b_{31} h^{2} f{\\left(x,y \\right)} \\frac{\\partial}{\\partial y} f{\\left(x,y \\right)} + \\frac{C_{3} b_{32}^{2} h^{3} f^{2}{\\left(x,y \\right)} \\frac{\\partial^{2}}{\\partial y^{2}} f{\\left(x,y \\right)}}{2} + C_{3} b_{32} h^{2} f{\\left(x,y \\right)} \\frac{\\partial}{\\partial y} f{\\left(x,y \\right)} + C_{3} h f{\\left(x,y \\right)} + y{\\left(x \\right)}$"
      ],
      "text/plain": [
       "C_1*h*f(x, y) + C_2*a_2**2*h**3*Derivative(f(x, y), (x, 2))/2 + C_2*a_2*b_{21}*h**3*f(x, y)*Derivative(f(x, y), x, y) + C_2*a_2*h**2*Derivative(f(x, y), x) + C_2*b_{21}**2*h**3*f(x, y)**2*Derivative(f(x, y), (y, 2))/2 + C_2*b_{21}*h**2*f(x, y)*Derivative(f(x, y), y) + C_2*h*f(x, y) + C_3*a_2**2*b_{32}*h**4*Derivative(f(x, y), (x, 2))*Derivative(f(x, y), y)/2 + C_3*a_2*a_3*b_{32}*h**4*Derivative(f(x, y), x)*Derivative(f(x, y), x, y) + C_3*a_2*b_{21}*b_{32}*h**4*f(x, y)*Derivative(f(x, y), y)*Derivative(f(x, y), x, y) + C_3*a_2*b_{31}*b_{32}*h**4*f(x, y)*Derivative(f(x, y), x)*Derivative(f(x, y), (y, 2)) + C_3*a_2*b_{32}**2*h**4*f(x, y)*Derivative(f(x, y), x)*Derivative(f(x, y), (y, 2)) + C_3*a_2*b_{32}*h**3*Derivative(f(x, y), x)*Derivative(f(x, y), y) + C_3*a_3**2*h**3*Derivative(f(x, y), (x, 2))/2 + C_3*a_3*b_{21}*b_{32}*h**4*f(x, y)*Derivative(f(x, y), y)*Derivative(f(x, y), x, y) + C_3*a_3*b_{31}*h**3*f(x, y)*Derivative(f(x, y), x, y) + C_3*a_3*b_{32}*h**3*f(x, y)*Derivative(f(x, y), x, y) + C_3*a_3*h**2*Derivative(f(x, y), x) + C_3*b_{21}**2*b_{32}*h**4*f(x, y)**2*Derivative(f(x, y), y)*Derivative(f(x, y), (y, 2))/2 + C_3*b_{21}*b_{31}*b_{32}*h**4*f(x, y)**2*Derivative(f(x, y), y)*Derivative(f(x, y), (y, 2)) + C_3*b_{21}*b_{32}**2*h**4*f(x, y)**2*Derivative(f(x, y), y)*Derivative(f(x, y), (y, 2)) + C_3*b_{21}*b_{32}*h**3*f(x, y)*Derivative(f(x, y), y)**2 + C_3*b_{31}**2*h**3*f(x, y)**2*Derivative(f(x, y), (y, 2))/2 + C_3*b_{31}*b_{32}*h**3*f(x, y)**2*Derivative(f(x, y), (y, 2)) + C_3*b_{31}*h**2*f(x, y)*Derivative(f(x, y), y) + C_3*b_{32}**2*h**3*f(x, y)**2*Derivative(f(x, y), (y, 2))/2 + C_3*b_{32}*h**2*f(x, y)*Derivative(f(x, y), y) + C_3*h*f(x, y) + y(x)"
      ]
     },
     "metadata": {},
     "output_type": "display_data"
    }
   ],
   "source": [
    "K1 = f(x, y)\n",
    "K2 = (f_taylor.subs([(dx, a2*h), (dy, b21*h*K1)])+sp.O(h**4)).expand().removeO()\n",
    "K3 = (f_taylor.subs([(dx, a3*h), (dy, b31*h*K1 + b32*h*K2)])+sp.O(h**4)).expand().removeO()\n",
    "ynp1 = (y_(x) + h * (C1*K1 + C2*K2 + C3*K3)).expand()\n",
    "display(K1, K2, K3, ynp1)"
   ]
  },
  {
   "cell_type": "code",
   "execution_count": 90,
   "metadata": {},
   "outputs": [
    {
     "data": {
      "text/latex": [
       "$\\displaystyle \\frac{h^{3} f^{2}{\\left(x,y \\right)} \\frac{\\partial^{2}}{\\partial y^{2}} f{\\left(x,y \\right)}}{6} + \\frac{h^{3} f{\\left(x,y \\right)} \\left(\\frac{\\partial}{\\partial y} f{\\left(x,y \\right)}\\right)^{2}}{6} + \\frac{h^{3} f{\\left(x,y \\right)} \\frac{\\partial^{2}}{\\partial y\\partial x} f{\\left(x,y \\right)}}{3} + \\frac{h^{3} \\frac{\\partial}{\\partial x} f{\\left(x,y \\right)} \\frac{\\partial}{\\partial y} f{\\left(x,y \\right)}}{6} + \\frac{h^{3} \\frac{\\partial^{2}}{\\partial x^{2}} f{\\left(x,y \\right)}}{6} + \\frac{h^{2} f{\\left(x,y \\right)} \\frac{\\partial}{\\partial y} f{\\left(x,y \\right)}}{2} + \\frac{h^{2} \\frac{\\partial}{\\partial x} f{\\left(x,y \\right)}}{2} + h f{\\left(x,y \\right)} + y{\\left(x \\right)}$"
      ],
      "text/plain": [
       "h**3*f(x, y)**2*Derivative(f(x, y), (y, 2))/6 + h**3*f(x, y)*Derivative(f(x, y), y)**2/6 + h**3*f(x, y)*Derivative(f(x, y), x, y)/3 + h**3*Derivative(f(x, y), x)*Derivative(f(x, y), y)/6 + h**3*Derivative(f(x, y), (x, 2))/6 + h**2*f(x, y)*Derivative(f(x, y), y)/2 + h**2*Derivative(f(x, y), x)/2 + h*f(x, y) + y(x)"
      ]
     },
     "metadata": {},
     "output_type": "display_data"
    },
    {
     "data": {
      "text/latex": [
       "$\\displaystyle C_{1} h f{\\left(x,y \\right)} + \\frac{C_{2} a_{2}^{2} h^{3} \\frac{\\partial^{2}}{\\partial x^{2}} f{\\left(x,y \\right)}}{2} + C_{2} a_{2} b_{21} h^{3} f{\\left(x,y \\right)} \\frac{\\partial^{2}}{\\partial y\\partial x} f{\\left(x,y \\right)} + C_{2} a_{2} h^{2} \\frac{\\partial}{\\partial x} f{\\left(x,y \\right)} + \\frac{C_{2} b_{21}^{2} h^{3} f^{2}{\\left(x,y \\right)} \\frac{\\partial^{2}}{\\partial y^{2}} f{\\left(x,y \\right)}}{2} + C_{2} b_{21} h^{2} f{\\left(x,y \\right)} \\frac{\\partial}{\\partial y} f{\\left(x,y \\right)} + C_{2} h f{\\left(x,y \\right)} + \\frac{C_{3} a_{2}^{2} b_{32} h^{4} \\frac{\\partial^{2}}{\\partial x^{2}} f{\\left(x,y \\right)} \\frac{\\partial}{\\partial y} f{\\left(x,y \\right)}}{2} + C_{3} a_{2} a_{3} b_{32} h^{4} \\frac{\\partial}{\\partial x} f{\\left(x,y \\right)} \\frac{\\partial^{2}}{\\partial y\\partial x} f{\\left(x,y \\right)} + C_{3} a_{2} b_{21} b_{32} h^{4} f{\\left(x,y \\right)} \\frac{\\partial}{\\partial y} f{\\left(x,y \\right)} \\frac{\\partial^{2}}{\\partial y\\partial x} f{\\left(x,y \\right)} + C_{3} a_{2} b_{31} b_{32} h^{4} f{\\left(x,y \\right)} \\frac{\\partial}{\\partial x} f{\\left(x,y \\right)} \\frac{\\partial^{2}}{\\partial y^{2}} f{\\left(x,y \\right)} + C_{3} a_{2} b_{32}^{2} h^{4} f{\\left(x,y \\right)} \\frac{\\partial}{\\partial x} f{\\left(x,y \\right)} \\frac{\\partial^{2}}{\\partial y^{2}} f{\\left(x,y \\right)} + C_{3} a_{2} b_{32} h^{3} \\frac{\\partial}{\\partial x} f{\\left(x,y \\right)} \\frac{\\partial}{\\partial y} f{\\left(x,y \\right)} + \\frac{C_{3} a_{3}^{2} h^{3} \\frac{\\partial^{2}}{\\partial x^{2}} f{\\left(x,y \\right)}}{2} + C_{3} a_{3} b_{21} b_{32} h^{4} f{\\left(x,y \\right)} \\frac{\\partial}{\\partial y} f{\\left(x,y \\right)} \\frac{\\partial^{2}}{\\partial y\\partial x} f{\\left(x,y \\right)} + C_{3} a_{3} b_{31} h^{3} f{\\left(x,y \\right)} \\frac{\\partial^{2}}{\\partial y\\partial x} f{\\left(x,y \\right)} + C_{3} a_{3} b_{32} h^{3} f{\\left(x,y \\right)} \\frac{\\partial^{2}}{\\partial y\\partial x} f{\\left(x,y \\right)} + C_{3} a_{3} h^{2} \\frac{\\partial}{\\partial x} f{\\left(x,y \\right)} + \\frac{C_{3} b_{21}^{2} b_{32} h^{4} f^{2}{\\left(x,y \\right)} \\frac{\\partial}{\\partial y} f{\\left(x,y \\right)} \\frac{\\partial^{2}}{\\partial y^{2}} f{\\left(x,y \\right)}}{2} + C_{3} b_{21} b_{31} b_{32} h^{4} f^{2}{\\left(x,y \\right)} \\frac{\\partial}{\\partial y} f{\\left(x,y \\right)} \\frac{\\partial^{2}}{\\partial y^{2}} f{\\left(x,y \\right)} + C_{3} b_{21} b_{32}^{2} h^{4} f^{2}{\\left(x,y \\right)} \\frac{\\partial}{\\partial y} f{\\left(x,y \\right)} \\frac{\\partial^{2}}{\\partial y^{2}} f{\\left(x,y \\right)} + C_{3} b_{21} b_{32} h^{3} f{\\left(x,y \\right)} \\left(\\frac{\\partial}{\\partial y} f{\\left(x,y \\right)}\\right)^{2} + \\frac{C_{3} b_{31}^{2} h^{3} f^{2}{\\left(x,y \\right)} \\frac{\\partial^{2}}{\\partial y^{2}} f{\\left(x,y \\right)}}{2} + C_{3} b_{31} b_{32} h^{3} f^{2}{\\left(x,y \\right)} \\frac{\\partial^{2}}{\\partial y^{2}} f{\\left(x,y \\right)} + C_{3} b_{31} h^{2} f{\\left(x,y \\right)} \\frac{\\partial}{\\partial y} f{\\left(x,y \\right)} + \\frac{C_{3} b_{32}^{2} h^{3} f^{2}{\\left(x,y \\right)} \\frac{\\partial^{2}}{\\partial y^{2}} f{\\left(x,y \\right)}}{2} + C_{3} b_{32} h^{2} f{\\left(x,y \\right)} \\frac{\\partial}{\\partial y} f{\\left(x,y \\right)} + C_{3} h f{\\left(x,y \\right)} - \\frac{h^{3} f^{2}{\\left(x,y \\right)} \\frac{\\partial^{2}}{\\partial y^{2}} f{\\left(x,y \\right)}}{6} - \\frac{h^{3} f{\\left(x,y \\right)} \\left(\\frac{\\partial}{\\partial y} f{\\left(x,y \\right)}\\right)^{2}}{6} - \\frac{h^{3} f{\\left(x,y \\right)} \\frac{\\partial^{2}}{\\partial y\\partial x} f{\\left(x,y \\right)}}{3} - \\frac{h^{3} \\frac{\\partial}{\\partial x} f{\\left(x,y \\right)} \\frac{\\partial}{\\partial y} f{\\left(x,y \\right)}}{6} - \\frac{h^{3} \\frac{\\partial^{2}}{\\partial x^{2}} f{\\left(x,y \\right)}}{6} - \\frac{h^{2} f{\\left(x,y \\right)} \\frac{\\partial}{\\partial y} f{\\left(x,y \\right)}}{2} - \\frac{h^{2} \\frac{\\partial}{\\partial x} f{\\left(x,y \\right)}}{2} - h f{\\left(x,y \\right)}$"
      ],
      "text/plain": [
       "C_1*h*f(x, y) + C_2*a_2**2*h**3*Derivative(f(x, y), (x, 2))/2 + C_2*a_2*b_{21}*h**3*f(x, y)*Derivative(f(x, y), x, y) + C_2*a_2*h**2*Derivative(f(x, y), x) + C_2*b_{21}**2*h**3*f(x, y)**2*Derivative(f(x, y), (y, 2))/2 + C_2*b_{21}*h**2*f(x, y)*Derivative(f(x, y), y) + C_2*h*f(x, y) + C_3*a_2**2*b_{32}*h**4*Derivative(f(x, y), (x, 2))*Derivative(f(x, y), y)/2 + C_3*a_2*a_3*b_{32}*h**4*Derivative(f(x, y), x)*Derivative(f(x, y), x, y) + C_3*a_2*b_{21}*b_{32}*h**4*f(x, y)*Derivative(f(x, y), y)*Derivative(f(x, y), x, y) + C_3*a_2*b_{31}*b_{32}*h**4*f(x, y)*Derivative(f(x, y), x)*Derivative(f(x, y), (y, 2)) + C_3*a_2*b_{32}**2*h**4*f(x, y)*Derivative(f(x, y), x)*Derivative(f(x, y), (y, 2)) + C_3*a_2*b_{32}*h**3*Derivative(f(x, y), x)*Derivative(f(x, y), y) + C_3*a_3**2*h**3*Derivative(f(x, y), (x, 2))/2 + C_3*a_3*b_{21}*b_{32}*h**4*f(x, y)*Derivative(f(x, y), y)*Derivative(f(x, y), x, y) + C_3*a_3*b_{31}*h**3*f(x, y)*Derivative(f(x, y), x, y) + C_3*a_3*b_{32}*h**3*f(x, y)*Derivative(f(x, y), x, y) + C_3*a_3*h**2*Derivative(f(x, y), x) + C_3*b_{21}**2*b_{32}*h**4*f(x, y)**2*Derivative(f(x, y), y)*Derivative(f(x, y), (y, 2))/2 + C_3*b_{21}*b_{31}*b_{32}*h**4*f(x, y)**2*Derivative(f(x, y), y)*Derivative(f(x, y), (y, 2)) + C_3*b_{21}*b_{32}**2*h**4*f(x, y)**2*Derivative(f(x, y), y)*Derivative(f(x, y), (y, 2)) + C_3*b_{21}*b_{32}*h**3*f(x, y)*Derivative(f(x, y), y)**2 + C_3*b_{31}**2*h**3*f(x, y)**2*Derivative(f(x, y), (y, 2))/2 + C_3*b_{31}*b_{32}*h**3*f(x, y)**2*Derivative(f(x, y), (y, 2)) + C_3*b_{31}*h**2*f(x, y)*Derivative(f(x, y), y) + C_3*b_{32}**2*h**3*f(x, y)**2*Derivative(f(x, y), (y, 2))/2 + C_3*b_{32}*h**2*f(x, y)*Derivative(f(x, y), y) + C_3*h*f(x, y) - h**3*f(x, y)**2*Derivative(f(x, y), (y, 2))/6 - h**3*f(x, y)*Derivative(f(x, y), y)**2/6 - h**3*f(x, y)*Derivative(f(x, y), x, y)/3 - h**3*Derivative(f(x, y), x)*Derivative(f(x, y), y)/6 - h**3*Derivative(f(x, y), (x, 2))/6 - h**2*f(x, y)*Derivative(f(x, y), y)/2 - h**2*Derivative(f(x, y), x)/2 - h*f(x, y)"
      ]
     },
     "metadata": {},
     "output_type": "display_data"
    }
   ],
   "source": [
    "target_ynp1 = y_taylor.subs(dx, h).expand()\n",
    "diff = ynp1 - target_ynp1\n",
    "display(target_ynp1)\n",
    "display(diff)"
   ]
  },
  {
   "cell_type": "code",
   "execution_count": 92,
   "metadata": {},
   "outputs": [
    {
     "name": "stdout",
     "output_type": "stream",
     "text": [
      "8\n"
     ]
    },
    {
     "data": {
      "text/latex": [
       "$\\displaystyle C_{1} + C_{2} + C_{3} - 1$"
      ],
      "text/plain": [
       "C_1 + C_2 + C_3 - 1"
      ]
     },
     "metadata": {},
     "output_type": "display_data"
    },
    {
     "data": {
      "text/latex": [
       "$\\displaystyle C_{2} a_{2} + C_{3} a_{3} - \\frac{1}{2}$"
      ],
      "text/plain": [
       "C_2*a_2 + C_3*a_3 - 1/2"
      ]
     },
     "metadata": {},
     "output_type": "display_data"
    },
    {
     "data": {
      "text/latex": [
       "$\\displaystyle C_{2} b_{21} + C_{3} b_{31} + C_{3} b_{32} - \\frac{1}{2}$"
      ],
      "text/plain": [
       "C_2*b_{21} + C_3*b_{31} + C_3*b_{32} - 1/2"
      ]
     },
     "metadata": {},
     "output_type": "display_data"
    },
    {
     "data": {
      "text/latex": [
       "$\\displaystyle \\frac{C_{2} a_{2}^{2}}{2} + \\frac{C_{3} a_{3}^{2}}{2} - \\frac{1}{6}$"
      ],
      "text/plain": [
       "C_2*a_2**2/2 + C_3*a_3**2/2 - 1/6"
      ]
     },
     "metadata": {},
     "output_type": "display_data"
    },
    {
     "data": {
      "text/latex": [
       "$\\displaystyle C_{2} a_{2} b_{21} + C_{3} a_{3} b_{31} + C_{3} a_{3} b_{32} - \\frac{1}{3}$"
      ],
      "text/plain": [
       "C_2*a_2*b_{21} + C_3*a_3*b_{31} + C_3*a_3*b_{32} - 1/3"
      ]
     },
     "metadata": {},
     "output_type": "display_data"
    },
    {
     "data": {
      "text/latex": [
       "$\\displaystyle C_{3} b_{21} b_{32} - \\frac{1}{6}$"
      ],
      "text/plain": [
       "C_3*b_{21}*b_{32} - 1/6"
      ]
     },
     "metadata": {},
     "output_type": "display_data"
    },
    {
     "data": {
      "text/latex": [
       "$\\displaystyle \\frac{C_{2} b_{21}^{2}}{2} + \\frac{C_{3} b_{31}^{2}}{2} + C_{3} b_{31} b_{32} + \\frac{C_{3} b_{32}^{2}}{2} - \\frac{1}{6}$"
      ],
      "text/plain": [
       "C_2*b_{21}**2/2 + C_3*b_{31}**2/2 + C_3*b_{31}*b_{32} + C_3*b_{32}**2/2 - 1/6"
      ]
     },
     "metadata": {},
     "output_type": "display_data"
    },
    {
     "data": {
      "text/latex": [
       "$\\displaystyle C_{3} a_{2} b_{32} - \\frac{1}{6}$"
      ],
      "text/plain": [
       "C_3*a_2*b_{32} - 1/6"
      ]
     },
     "metadata": {},
     "output_type": "display_data"
    }
   ],
   "source": [
    "params = [C1, C2, C3, h, a2, a3, b21, b31, b32]\n",
    "conds = []\n",
    "for p in range(1, 4):\n",
    "    part_p = diff.coeff(h, p)\n",
    "    for arg in part_p.args:\n",
    "        tmp = 1\n",
    "        for parts in arg.args:\n",
    "            if not parts.is_number and not parts.has(*params):\n",
    "                tmp *= parts\n",
    "        cond = part_p.coeff(tmp, 1)\n",
    "        if cond not in conds:\n",
    "            conds.append(cond)\n",
    "print(len(conds))\n",
    "display(*conds)"
   ]
  },
  {
   "cell_type": "code",
   "execution_count": 94,
   "metadata": {},
   "outputs": [
    {
     "data": {
      "text/latex": [
       "$\\displaystyle \\frac{C_{2} \\left(a_{2} - b_{21}\\right)^{2}}{2} + \\frac{C_{3} \\left(a_{3} - b_{31} - b_{32}\\right)^{2}}{2}$"
      ],
      "text/plain": [
       "C_2*(a_2 - b_{21})**2/2 + C_3*(a_3 - b_{31} - b_{32})**2/2"
      ]
     },
     "metadata": {},
     "output_type": "display_data"
    },
    {
     "data": {
      "text/latex": [
       "$\\displaystyle \\frac{C_{2} a_{2}^{2}}{2} - C_{2} a_{2} b_{21} + \\frac{C_{2} b_{21}^{2}}{2} + \\frac{C_{3} a_{3}^{2}}{2} - C_{3} a_{3} b_{31} - C_{3} a_{3} b_{32} + \\frac{C_{3} b_{31}^{2}}{2} + C_{3} b_{31} b_{32} + \\frac{C_{3} b_{32}^{2}}{2}$"
      ],
      "text/plain": [
       "C_2*a_2**2/2 - C_2*a_2*b_{21} + C_2*b_{21}**2/2 + C_3*a_3**2/2 - C_3*a_3*b_{31} - C_3*a_3*b_{32} + C_3*b_{31}**2/2 + C_3*b_{31}*b_{32} + C_3*b_{32}**2/2"
      ]
     },
     "metadata": {},
     "output_type": "display_data"
    },
    {
     "data": {
      "text/latex": [
       "$\\displaystyle 0$"
      ],
      "text/plain": [
       "0"
      ]
     },
     "metadata": {},
     "output_type": "display_data"
    }
   ],
   "source": [
    "a = C2*(a2 - b21)**2/2 + C3*(a3 - b31 - b32)**2/2\n",
    "b = conds[3] - conds[4] + conds[6]\n",
    "display(a, b, a.expand()-b)"
   ]
  },
  {
   "cell_type": "code",
   "execution_count": 95,
   "metadata": {},
   "outputs": [
    {
     "data": {
      "text/latex": [
       "$\\displaystyle 0 = a_{2} - b_{21}$"
      ],
      "text/plain": [
       "Eq(0, a_2 - b_{21})"
      ]
     },
     "metadata": {},
     "output_type": "display_data"
    },
    {
     "data": {
      "text/latex": [
       "$\\displaystyle 0 = a_{3} - b_{31} - b_{32}$"
      ],
      "text/plain": [
       "Eq(0, a_3 - b_{31} - b_{32})"
      ]
     },
     "metadata": {},
     "output_type": "display_data"
    },
    {
     "data": {
      "text/latex": [
       "$\\displaystyle 0 = C_{1} + C_{2} + C_{3} - 1$"
      ],
      "text/plain": [
       "Eq(0, C_1 + C_2 + C_3 - 1)"
      ]
     },
     "metadata": {},
     "output_type": "display_data"
    },
    {
     "data": {
      "text/latex": [
       "$\\displaystyle 0 = C_{2} a_{2} + C_{3} a_{3} - \\frac{1}{2}$"
      ],
      "text/plain": [
       "Eq(0, C_2*a_2 + C_3*a_3 - 1/2)"
      ]
     },
     "metadata": {},
     "output_type": "display_data"
    },
    {
     "data": {
      "text/latex": [
       "$\\displaystyle 0 = C_{2} a_{2}^{2} + C_{3} a_{3}^{2} - \\frac{1}{3}$"
      ],
      "text/plain": [
       "Eq(0, C_2*a_2**2 + C_3*a_3**2 - 1/3)"
      ]
     },
     "metadata": {},
     "output_type": "display_data"
    },
    {
     "data": {
      "text/latex": [
       "$\\displaystyle 0 = C_{3} a_{2} b_{32} - \\frac{1}{6}$"
      ],
      "text/plain": [
       "Eq(0, C_3*a_2*b_{32} - 1/6)"
      ]
     },
     "metadata": {},
     "output_type": "display_data"
    }
   ],
   "source": [
    "conds_simp = [\n",
    "    sp.Eq(0, a2 - b21),\n",
    "    sp.Eq(0, a3 - b31 - b32),\n",
    "    sp.Eq(0, conds[0]),\n",
    "    sp.Eq(0, conds[1]),\n",
    "    sp.Eq(0, conds[3]*2),\n",
    "    sp.Eq(0, conds[7])\n",
    "]\n",
    "display(*conds_simp)"
   ]
  },
  {
   "cell_type": "markdown",
   "metadata": {},
   "source": [
    "## Runge-Kutta-RK4"
   ]
  },
  {
   "cell_type": "code",
   "execution_count": 2,
   "metadata": {},
   "outputs": [],
   "source": [
    "import sympy as sp\n",
    "def removeSub(expr):\n",
    "    if isinstance(expr, sp.Subs):\n",
    "        return expr.args[0].replace(expr.args[1][0], expr.args[2][0])\n",
    "    for arg in expr.args:\n",
    "        expr = expr.replace(arg, removeSub(arg))\n",
    "    return expr"
   ]
  },
  {
   "cell_type": "code",
   "execution_count": 3,
   "metadata": {},
   "outputs": [],
   "source": [
    "x, dx, y, dy = sp.symbols('x \\Delta{x} y \\Delta{y}')\n",
    "f, y_ = sp.symbols('f y', cls=sp.Function)"
   ]
  },
  {
   "cell_type": "code",
   "execution_count": 4,
   "metadata": {},
   "outputs": [
    {
     "data": {
      "text/latex": [
       "$\\displaystyle f{\\left(x,y \\right)}$"
      ],
      "text/plain": [
       "f(x, y)"
      ]
     },
     "metadata": {},
     "output_type": "display_data"
    },
    {
     "data": {
      "text/latex": [
       "$\\displaystyle f{\\left(x,y \\right)} \\frac{\\partial}{\\partial y} f{\\left(x,y \\right)} + \\frac{\\partial}{\\partial x} f{\\left(x,y \\right)}$"
      ],
      "text/plain": [
       "f(x, y)*Derivative(f(x, y), y) + Derivative(f(x, y), x)"
      ]
     },
     "metadata": {},
     "output_type": "display_data"
    },
    {
     "data": {
      "text/latex": [
       "$\\displaystyle f^{2}{\\left(x,y \\right)} \\frac{\\partial^{2}}{\\partial y^{2}} f{\\left(x,y \\right)} + f{\\left(x,y \\right)} \\left(\\frac{\\partial}{\\partial y} f{\\left(x,y \\right)}\\right)^{2} + 2 f{\\left(x,y \\right)} \\frac{\\partial^{2}}{\\partial y\\partial x} f{\\left(x,y \\right)} + \\frac{\\partial}{\\partial x} f{\\left(x,y \\right)} \\frac{\\partial}{\\partial y} f{\\left(x,y \\right)} + \\frac{\\partial^{2}}{\\partial x^{2}} f{\\left(x,y \\right)}$"
      ],
      "text/plain": [
       "f(x, y)**2*Derivative(f(x, y), (y, 2)) + f(x, y)*Derivative(f(x, y), y)**2 + 2*f(x, y)*Derivative(f(x, y), x, y) + Derivative(f(x, y), x)*Derivative(f(x, y), y) + Derivative(f(x, y), (x, 2))"
      ]
     },
     "metadata": {},
     "output_type": "display_data"
    },
    {
     "data": {
      "text/latex": [
       "$\\displaystyle f^{3}{\\left(x,y \\right)} \\frac{\\partial^{3}}{\\partial y^{3}} f{\\left(x,y \\right)} + 4 f^{2}{\\left(x,y \\right)} \\frac{\\partial}{\\partial y} f{\\left(x,y \\right)} \\frac{\\partial^{2}}{\\partial y^{2}} f{\\left(x,y \\right)} + 3 f^{2}{\\left(x,y \\right)} \\frac{\\partial^{3}}{\\partial y^{2}\\partial x} f{\\left(x,y \\right)} + 3 f{\\left(x,y \\right)} \\frac{\\partial}{\\partial x} f{\\left(x,y \\right)} \\frac{\\partial^{2}}{\\partial y^{2}} f{\\left(x,y \\right)} + f{\\left(x,y \\right)} \\left(\\frac{\\partial}{\\partial y} f{\\left(x,y \\right)}\\right)^{3} + 5 f{\\left(x,y \\right)} \\frac{\\partial}{\\partial y} f{\\left(x,y \\right)} \\frac{\\partial^{2}}{\\partial y\\partial x} f{\\left(x,y \\right)} + 3 f{\\left(x,y \\right)} \\frac{\\partial^{3}}{\\partial y\\partial x^{2}} f{\\left(x,y \\right)} + \\frac{\\partial}{\\partial x} f{\\left(x,y \\right)} \\left(\\frac{\\partial}{\\partial y} f{\\left(x,y \\right)}\\right)^{2} + 3 \\frac{\\partial}{\\partial x} f{\\left(x,y \\right)} \\frac{\\partial^{2}}{\\partial y\\partial x} f{\\left(x,y \\right)} + \\frac{\\partial^{2}}{\\partial x^{2}} f{\\left(x,y \\right)} \\frac{\\partial}{\\partial y} f{\\left(x,y \\right)} + \\frac{\\partial^{3}}{\\partial x^{3}} f{\\left(x,y \\right)}$"
      ],
      "text/plain": [
       "f(x, y)**3*Derivative(f(x, y), (y, 3)) + 4*f(x, y)**2*Derivative(f(x, y), y)*Derivative(f(x, y), (y, 2)) + 3*f(x, y)**2*Derivative(f(x, y), x, (y, 2)) + 3*f(x, y)*Derivative(f(x, y), x)*Derivative(f(x, y), (y, 2)) + f(x, y)*Derivative(f(x, y), y)**3 + 5*f(x, y)*Derivative(f(x, y), y)*Derivative(f(x, y), x, y) + 3*f(x, y)*Derivative(f(x, y), (x, 2), y) + Derivative(f(x, y), x)*Derivative(f(x, y), y)**2 + 3*Derivative(f(x, y), x)*Derivative(f(x, y), x, y) + Derivative(f(x, y), (x, 2))*Derivative(f(x, y), y) + Derivative(f(x, y), (x, 3))"
      ]
     },
     "metadata": {},
     "output_type": "display_data"
    },
    {
     "data": {
      "text/latex": [
       "$\\displaystyle \\frac{\\Delta{x}^{4} \\left(f^{3}{\\left(x,y \\right)} \\frac{\\partial^{3}}{\\partial y^{3}} f{\\left(x,y \\right)} + 4 f^{2}{\\left(x,y \\right)} \\frac{\\partial}{\\partial y} f{\\left(x,y \\right)} \\frac{\\partial^{2}}{\\partial y^{2}} f{\\left(x,y \\right)} + 3 f^{2}{\\left(x,y \\right)} \\frac{\\partial^{3}}{\\partial y^{2}\\partial x} f{\\left(x,y \\right)} + 3 f{\\left(x,y \\right)} \\frac{\\partial}{\\partial x} f{\\left(x,y \\right)} \\frac{\\partial^{2}}{\\partial y^{2}} f{\\left(x,y \\right)} + f{\\left(x,y \\right)} \\left(\\frac{\\partial}{\\partial y} f{\\left(x,y \\right)}\\right)^{3} + 5 f{\\left(x,y \\right)} \\frac{\\partial}{\\partial y} f{\\left(x,y \\right)} \\frac{\\partial^{2}}{\\partial y\\partial x} f{\\left(x,y \\right)} + 3 f{\\left(x,y \\right)} \\frac{\\partial^{3}}{\\partial y\\partial x^{2}} f{\\left(x,y \\right)} + \\frac{\\partial}{\\partial x} f{\\left(x,y \\right)} \\left(\\frac{\\partial}{\\partial y} f{\\left(x,y \\right)}\\right)^{2} + 3 \\frac{\\partial}{\\partial x} f{\\left(x,y \\right)} \\frac{\\partial^{2}}{\\partial y\\partial x} f{\\left(x,y \\right)} + \\frac{\\partial^{2}}{\\partial x^{2}} f{\\left(x,y \\right)} \\frac{\\partial}{\\partial y} f{\\left(x,y \\right)} + \\frac{\\partial^{3}}{\\partial x^{3}} f{\\left(x,y \\right)}\\right)}{24} + \\frac{\\Delta{x}^{3} \\left(f^{2}{\\left(x,y \\right)} \\frac{\\partial^{2}}{\\partial y^{2}} f{\\left(x,y \\right)} + f{\\left(x,y \\right)} \\left(\\frac{\\partial}{\\partial y} f{\\left(x,y \\right)}\\right)^{2} + 2 f{\\left(x,y \\right)} \\frac{\\partial^{2}}{\\partial y\\partial x} f{\\left(x,y \\right)} + \\frac{\\partial}{\\partial x} f{\\left(x,y \\right)} \\frac{\\partial}{\\partial y} f{\\left(x,y \\right)} + \\frac{\\partial^{2}}{\\partial x^{2}} f{\\left(x,y \\right)}\\right)}{6} + \\frac{\\Delta{x}^{2} \\left(f{\\left(x,y \\right)} \\frac{\\partial}{\\partial y} f{\\left(x,y \\right)} + \\frac{\\partial}{\\partial x} f{\\left(x,y \\right)}\\right)}{2} + \\Delta{x} f{\\left(x,y \\right)} + y{\\left(x \\right)}$"
      ],
      "text/plain": [
       "\\Delta{x}**4*(f(x, y)**3*Derivative(f(x, y), (y, 3)) + 4*f(x, y)**2*Derivative(f(x, y), y)*Derivative(f(x, y), (y, 2)) + 3*f(x, y)**2*Derivative(f(x, y), x, (y, 2)) + 3*f(x, y)*Derivative(f(x, y), x)*Derivative(f(x, y), (y, 2)) + f(x, y)*Derivative(f(x, y), y)**3 + 5*f(x, y)*Derivative(f(x, y), y)*Derivative(f(x, y), x, y) + 3*f(x, y)*Derivative(f(x, y), (x, 2), y) + Derivative(f(x, y), x)*Derivative(f(x, y), y)**2 + 3*Derivative(f(x, y), x)*Derivative(f(x, y), x, y) + Derivative(f(x, y), (x, 2))*Derivative(f(x, y), y) + Derivative(f(x, y), (x, 3)))/24 + \\Delta{x}**3*(f(x, y)**2*Derivative(f(x, y), (y, 2)) + f(x, y)*Derivative(f(x, y), y)**2 + 2*f(x, y)*Derivative(f(x, y), x, y) + Derivative(f(x, y), x)*Derivative(f(x, y), y) + Derivative(f(x, y), (x, 2)))/6 + \\Delta{x}**2*(f(x, y)*Derivative(f(x, y), y) + Derivative(f(x, y), x))/2 + \\Delta{x}*f(x, y) + y(x)"
      ]
     },
     "metadata": {},
     "output_type": "display_data"
    }
   ],
   "source": [
    "dy_dx = f(x, y)\n",
    "dy_dx2 = removeSub(f(x, y_(x)).diff(x).subs(y_(x).diff(x), dy_dx).subs(y_(x), y))\n",
    "dy_dx3 = removeSub(f(x, y_(x)).diff(x, 2).subs(y_(x).diff(x, 2), dy_dx2).subs(y_(x).diff(x), dy_dx).subs(y_(x), y)).expand().simplify()\n",
    "dy_dx4 = removeSub(f(x, y_(x)).diff(x, 3).subs(y_(x).diff(x, 3), dy_dx3).subs(y_(x).diff(x, 2), dy_dx2).subs(y_(x).diff(x), dy_dx).subs(y_(x), y)).expand().simplify()\n",
    "y_taylor = y_(x) + dy_dx*dx + dy_dx2*dx**2/2 + dy_dx3*dx**3/6 + dy_dx4*dx**4/24\n",
    "display(dy_dx, dy_dx2, dy_dx3, dy_dx4, y_taylor)"
   ]
  },
  {
   "cell_type": "code",
   "execution_count": 5,
   "metadata": {},
   "outputs": [
    {
     "data": {
      "text/latex": [
       "$\\displaystyle \\Delta{x} \\frac{\\partial}{\\partial x} f{\\left(x,y \\right)} + \\Delta{y} \\frac{\\partial}{\\partial y} f{\\left(x,y \\right)}$"
      ],
      "text/plain": [
       "\\Delta{x}*Derivative(f(x, y), x) + \\Delta{y}*Derivative(f(x, y), y)"
      ]
     },
     "metadata": {},
     "output_type": "display_data"
    },
    {
     "data": {
      "text/latex": [
       "$\\displaystyle \\Delta{x}^{2} \\frac{\\partial^{2}}{\\partial x^{2}} f{\\left(x,y \\right)} + 2 \\Delta{x} \\Delta{y} \\frac{\\partial^{2}}{\\partial y\\partial x} f{\\left(x,y \\right)} + \\Delta{y}^{2} \\frac{\\partial^{2}}{\\partial y^{2}} f{\\left(x,y \\right)}$"
      ],
      "text/plain": [
       "\\Delta{x}**2*Derivative(f(x, y), (x, 2)) + 2*\\Delta{x}*\\Delta{y}*Derivative(f(x, y), x, y) + \\Delta{y}**2*Derivative(f(x, y), (y, 2))"
      ]
     },
     "metadata": {},
     "output_type": "display_data"
    },
    {
     "data": {
      "text/latex": [
       "$\\displaystyle \\Delta{x}^{3} \\frac{\\partial^{3}}{\\partial x^{3}} f{\\left(x,y \\right)} + 3 \\Delta{x}^{2} \\Delta{y} \\frac{\\partial^{3}}{\\partial y\\partial x^{2}} f{\\left(x,y \\right)} + 3 \\Delta{x} \\Delta{y}^{2} \\frac{\\partial^{3}}{\\partial y^{2}\\partial x} f{\\left(x,y \\right)} + \\Delta{y}^{3} \\frac{\\partial^{3}}{\\partial y^{3}} f{\\left(x,y \\right)}$"
      ],
      "text/plain": [
       "\\Delta{x}**3*Derivative(f(x, y), (x, 3)) + 3*\\Delta{x}**2*\\Delta{y}*Derivative(f(x, y), (x, 2), y) + 3*\\Delta{x}*\\Delta{y}**2*Derivative(f(x, y), x, (y, 2)) + \\Delta{y}**3*Derivative(f(x, y), (y, 3))"
      ]
     },
     "metadata": {},
     "output_type": "display_data"
    },
    {
     "data": {
      "text/latex": [
       "$\\displaystyle \\frac{\\Delta{x}^{3} \\frac{\\partial^{3}}{\\partial x^{3}} f{\\left(x,y \\right)}}{6} + \\frac{\\Delta{x}^{2} \\Delta{y} \\frac{\\partial^{3}}{\\partial y\\partial x^{2}} f{\\left(x,y \\right)}}{2} + \\frac{\\Delta{x}^{2} \\frac{\\partial^{2}}{\\partial x^{2}} f{\\left(x,y \\right)}}{2} + \\frac{\\Delta{x} \\Delta{y}^{2} \\frac{\\partial^{3}}{\\partial y^{2}\\partial x} f{\\left(x,y \\right)}}{2} + \\Delta{x} \\Delta{y} \\frac{\\partial^{2}}{\\partial y\\partial x} f{\\left(x,y \\right)} + \\Delta{x} \\frac{\\partial}{\\partial x} f{\\left(x,y \\right)} + \\frac{\\Delta{y}^{3} \\frac{\\partial^{3}}{\\partial y^{3}} f{\\left(x,y \\right)}}{6} + \\frac{\\Delta{y}^{2} \\frac{\\partial^{2}}{\\partial y^{2}} f{\\left(x,y \\right)}}{2} + \\Delta{y} \\frac{\\partial}{\\partial y} f{\\left(x,y \\right)} + f{\\left(x,y \\right)}$"
      ],
      "text/plain": [
       "\\Delta{x}**3*Derivative(f(x, y), (x, 3))/6 + \\Delta{x}**2*\\Delta{y}*Derivative(f(x, y), (x, 2), y)/2 + \\Delta{x}**2*Derivative(f(x, y), (x, 2))/2 + \\Delta{x}*\\Delta{y}**2*Derivative(f(x, y), x, (y, 2))/2 + \\Delta{x}*\\Delta{y}*Derivative(f(x, y), x, y) + \\Delta{x}*Derivative(f(x, y), x) + \\Delta{y}**3*Derivative(f(x, y), (y, 3))/6 + \\Delta{y}**2*Derivative(f(x, y), (y, 2))/2 + \\Delta{y}*Derivative(f(x, y), y) + f(x, y)"
      ]
     },
     "metadata": {},
     "output_type": "display_data"
    }
   ],
   "source": [
    "pdf1 = f(x, y).diff(x)*dx + f(x, y).diff(y)*dy\n",
    "pdf2 = (pdf1.diff(x)*dx + pdf1.diff(y)*dy).expand().simplify()\n",
    "pdf3 = (pdf2.diff(x)*dx + pdf2.diff(y)*dy).expand().simplify()\n",
    "f_taylor = f(x, y) + pdf1 + pdf2/2 + pdf3/6\n",
    "display(pdf1, pdf2, pdf3, f_taylor)"
   ]
  },
  {
   "cell_type": "markdown",
   "metadata": {},
   "source": [
    "$$\n",
    "\\begin{aligned}\n",
    "y_{n+1} =& y_n + h(C_1 K_1 + C_2 K_2 + C_3 K_3 + C_4 K_4)\\\\\n",
    "K_1 =& f(x_n, y_n)\\\\\n",
    "K_2 =& f(x_n + a_2 h, y_n + b_{21} h K_1)\\\\\n",
    "K_3 =& f(x_n + a_3 h, y_n + b_{31} h K_1 + b_{32} h K_2)\\\\\n",
    "K_4 =& f(x_n + a_4 h, y_n + b_{41} h K_1 + b_{42} h K_2 + b_{43} h k_2)\n",
    "\\end{aligned}\n",
    "$$"
   ]
  },
  {
   "cell_type": "code",
   "execution_count": null,
   "metadata": {},
   "outputs": [],
   "source": [
    "C1, C2, C3, C4 = sp.symbols('C_1 C_2 C_3 C_4')\n",
    "h, a2, a3, a4 = sp.symbols('h a_2 a_3 a_4')\n",
    "b21, b31, b32, b41, b42, b43 = sp.symbols('b_{21} b_{31} b_{32} b_{41} b_{42} b_{43}')"
   ]
  },
  {
   "cell_type": "code",
   "execution_count": 94,
   "metadata": {},
   "outputs": [
    {
     "data": {
      "text/latex": [
       "$\\displaystyle \\frac{h^{4} f^{3}{\\left(x,y \\right)} \\frac{\\partial^{3}}{\\partial y^{3}} f{\\left(x,y \\right)}}{24} + \\frac{h^{4} f^{2}{\\left(x,y \\right)} \\frac{\\partial}{\\partial y} f{\\left(x,y \\right)} \\frac{\\partial^{2}}{\\partial y^{2}} f{\\left(x,y \\right)}}{6} + \\frac{h^{4} f^{2}{\\left(x,y \\right)} \\frac{\\partial^{3}}{\\partial y^{2}\\partial x} f{\\left(x,y \\right)}}{8} + \\frac{h^{4} f{\\left(x,y \\right)} \\frac{\\partial}{\\partial x} f{\\left(x,y \\right)} \\frac{\\partial^{2}}{\\partial y^{2}} f{\\left(x,y \\right)}}{8} + \\frac{h^{4} f{\\left(x,y \\right)} \\left(\\frac{\\partial}{\\partial y} f{\\left(x,y \\right)}\\right)^{3}}{24} + \\frac{5 h^{4} f{\\left(x,y \\right)} \\frac{\\partial}{\\partial y} f{\\left(x,y \\right)} \\frac{\\partial^{2}}{\\partial y\\partial x} f{\\left(x,y \\right)}}{24} + \\frac{h^{4} f{\\left(x,y \\right)} \\frac{\\partial^{3}}{\\partial y\\partial x^{2}} f{\\left(x,y \\right)}}{8} + \\frac{h^{4} \\frac{\\partial}{\\partial x} f{\\left(x,y \\right)} \\left(\\frac{\\partial}{\\partial y} f{\\left(x,y \\right)}\\right)^{2}}{24} + \\frac{h^{4} \\frac{\\partial}{\\partial x} f{\\left(x,y \\right)} \\frac{\\partial^{2}}{\\partial y\\partial x} f{\\left(x,y \\right)}}{8} + \\frac{h^{4} \\frac{\\partial^{2}}{\\partial x^{2}} f{\\left(x,y \\right)} \\frac{\\partial}{\\partial y} f{\\left(x,y \\right)}}{24} + \\frac{h^{4} \\frac{\\partial^{3}}{\\partial x^{3}} f{\\left(x,y \\right)}}{24} + \\frac{h^{3} f^{2}{\\left(x,y \\right)} \\frac{\\partial^{2}}{\\partial y^{2}} f{\\left(x,y \\right)}}{6} + \\frac{h^{3} f{\\left(x,y \\right)} \\left(\\frac{\\partial}{\\partial y} f{\\left(x,y \\right)}\\right)^{2}}{6} + \\frac{h^{3} f{\\left(x,y \\right)} \\frac{\\partial^{2}}{\\partial y\\partial x} f{\\left(x,y \\right)}}{3} + \\frac{h^{3} \\frac{\\partial}{\\partial x} f{\\left(x,y \\right)} \\frac{\\partial}{\\partial y} f{\\left(x,y \\right)}}{6} + \\frac{h^{3} \\frac{\\partial^{2}}{\\partial x^{2}} f{\\left(x,y \\right)}}{6} + \\frac{h^{2} f{\\left(x,y \\right)} \\frac{\\partial}{\\partial y} f{\\left(x,y \\right)}}{2} + \\frac{h^{2} \\frac{\\partial}{\\partial x} f{\\left(x,y \\right)}}{2} + h f{\\left(x,y \\right)} + y{\\left(x \\right)}$"
      ],
      "text/plain": [
       "h**4*f(x, y)**3*Derivative(f(x, y), (y, 3))/24 + h**4*f(x, y)**2*Derivative(f(x, y), y)*Derivative(f(x, y), (y, 2))/6 + h**4*f(x, y)**2*Derivative(f(x, y), x, (y, 2))/8 + h**4*f(x, y)*Derivative(f(x, y), x)*Derivative(f(x, y), (y, 2))/8 + h**4*f(x, y)*Derivative(f(x, y), y)**3/24 + 5*h**4*f(x, y)*Derivative(f(x, y), y)*Derivative(f(x, y), x, y)/24 + h**4*f(x, y)*Derivative(f(x, y), (x, 2), y)/8 + h**4*Derivative(f(x, y), x)*Derivative(f(x, y), y)**2/24 + h**4*Derivative(f(x, y), x)*Derivative(f(x, y), x, y)/8 + h**4*Derivative(f(x, y), (x, 2))*Derivative(f(x, y), y)/24 + h**4*Derivative(f(x, y), (x, 3))/24 + h**3*f(x, y)**2*Derivative(f(x, y), (y, 2))/6 + h**3*f(x, y)*Derivative(f(x, y), y)**2/6 + h**3*f(x, y)*Derivative(f(x, y), x, y)/3 + h**3*Derivative(f(x, y), x)*Derivative(f(x, y), y)/6 + h**3*Derivative(f(x, y), (x, 2))/6 + h**2*f(x, y)*Derivative(f(x, y), y)/2 + h**2*Derivative(f(x, y), x)/2 + h*f(x, y) + y(x)"
      ]
     },
     "metadata": {},
     "output_type": "display_data"
    }
   ],
   "source": [
    "K1 = f(x, y)\n",
    "K2 = (f_taylor.subs([(dx, a2*h), (dy, b21*h*K1)])+sp.O(h**5)).expand().removeO()\n",
    "K3 = (f_taylor.subs([(dx, a3*h), (dy, b31*h*K1 + b32*h*K2)])+sp.O(h**5)).expand().removeO()\n",
    "K4 = (f_taylor.subs([(dx, a4*h), (dy, b41*h*K1 + b42*h*K2 + b43*h*K3)])+sp.O(h**5)).expand().removeO()\n",
    "ynp1 = (y_(x) + h * (C1*K1 + C2*K2 + C3*K3 + C4*K4)).expand()\n",
    "target_ynp1 = y_taylor.subs(dx, h).expand()\n",
    "diff = ynp1 - target_ynp1\n",
    "display(target_ynp1)"
   ]
  },
  {
   "cell_type": "code",
   "execution_count": 9,
   "metadata": {},
   "outputs": [
    {
     "name": "stdout",
     "output_type": "stream",
     "text": [
      "19\n"
     ]
    },
    {
     "data": {
      "text/latex": [
       "$\\displaystyle C_{1} + C_{2} + C_{3} + C_{4} - 1$"
      ],
      "text/plain": [
       "C_1 + C_2 + C_3 + C_4 - 1"
      ]
     },
     "metadata": {},
     "output_type": "display_data"
    },
    {
     "data": {
      "text/latex": [
       "$\\displaystyle C_{2} a_{2} + C_{3} a_{3} + C_{4} a_{4} - \\frac{1}{2}$"
      ],
      "text/plain": [
       "C_2*a_2 + C_3*a_3 + C_4*a_4 - 1/2"
      ]
     },
     "metadata": {},
     "output_type": "display_data"
    },
    {
     "data": {
      "text/latex": [
       "$\\displaystyle C_{2} b_{21} + C_{3} b_{31} + C_{3} b_{32} + C_{4} b_{41} + C_{4} b_{42} + C_{4} b_{43} - \\frac{1}{2}$"
      ],
      "text/plain": [
       "C_2*b_{21} + C_3*b_{31} + C_3*b_{32} + C_4*b_{41} + C_4*b_{42} + C_4*b_{43} - 1/2"
      ]
     },
     "metadata": {},
     "output_type": "display_data"
    },
    {
     "data": {
      "text/latex": [
       "$\\displaystyle \\frac{C_{2} a_{2}^{2}}{2} + \\frac{C_{3} a_{3}^{2}}{2} + \\frac{C_{4} a_{4}^{2}}{2} - \\frac{1}{6}$"
      ],
      "text/plain": [
       "C_2*a_2**2/2 + C_3*a_3**2/2 + C_4*a_4**2/2 - 1/6"
      ]
     },
     "metadata": {},
     "output_type": "display_data"
    },
    {
     "data": {
      "text/latex": [
       "$\\displaystyle C_{2} a_{2} b_{21} + C_{3} a_{3} b_{31} + C_{3} a_{3} b_{32} + C_{4} a_{4} b_{41} + C_{4} a_{4} b_{42} + C_{4} a_{4} b_{43} - \\frac{1}{3}$"
      ],
      "text/plain": [
       "C_2*a_2*b_{21} + C_3*a_3*b_{31} + C_3*a_3*b_{32} + C_4*a_4*b_{41} + C_4*a_4*b_{42} + C_4*a_4*b_{43} - 1/3"
      ]
     },
     "metadata": {},
     "output_type": "display_data"
    },
    {
     "data": {
      "text/latex": [
       "$\\displaystyle C_{3} b_{21} b_{32} + C_{4} b_{21} b_{42} + C_{4} b_{31} b_{43} + C_{4} b_{32} b_{43} - \\frac{1}{6}$"
      ],
      "text/plain": [
       "C_3*b_{21}*b_{32} + C_4*b_{21}*b_{42} + C_4*b_{31}*b_{43} + C_4*b_{32}*b_{43} - 1/6"
      ]
     },
     "metadata": {},
     "output_type": "display_data"
    },
    {
     "data": {
      "text/latex": [
       "$\\displaystyle \\frac{C_{2} b_{21}^{2}}{2} + \\frac{C_{3} b_{31}^{2}}{2} + C_{3} b_{31} b_{32} + \\frac{C_{3} b_{32}^{2}}{2} + \\frac{C_{4} b_{41}^{2}}{2} + C_{4} b_{41} b_{42} + C_{4} b_{41} b_{43} + \\frac{C_{4} b_{42}^{2}}{2} + C_{4} b_{42} b_{43} + \\frac{C_{4} b_{43}^{2}}{2} - \\frac{1}{6}$"
      ],
      "text/plain": [
       "C_2*b_{21}**2/2 + C_3*b_{31}**2/2 + C_3*b_{31}*b_{32} + C_3*b_{32}**2/2 + C_4*b_{41}**2/2 + C_4*b_{41}*b_{42} + C_4*b_{41}*b_{43} + C_4*b_{42}**2/2 + C_4*b_{42}*b_{43} + C_4*b_{43}**2/2 - 1/6"
      ]
     },
     "metadata": {},
     "output_type": "display_data"
    },
    {
     "data": {
      "text/latex": [
       "$\\displaystyle C_{3} a_{2} b_{32} + C_{4} a_{2} b_{42} + C_{4} a_{3} b_{43} - \\frac{1}{6}$"
      ],
      "text/plain": [
       "C_3*a_2*b_{32} + C_4*a_2*b_{42} + C_4*a_3*b_{43} - 1/6"
      ]
     },
     "metadata": {},
     "output_type": "display_data"
    },
    {
     "data": {
      "text/latex": [
       "$\\displaystyle \\frac{C_{2} a_{2}^{3}}{6} + \\frac{C_{3} a_{3}^{3}}{6} + \\frac{C_{4} a_{4}^{3}}{6} - \\frac{1}{24}$"
      ],
      "text/plain": [
       "C_2*a_2**3/6 + C_3*a_3**3/6 + C_4*a_4**3/6 - 1/24"
      ]
     },
     "metadata": {},
     "output_type": "display_data"
    },
    {
     "data": {
      "text/latex": [
       "$\\displaystyle \\frac{C_{2} a_{2} b_{21}^{2}}{2} + \\frac{C_{3} a_{3} b_{31}^{2}}{2} + C_{3} a_{3} b_{31} b_{32} + \\frac{C_{3} a_{3} b_{32}^{2}}{2} + \\frac{C_{4} a_{4} b_{41}^{2}}{2} + C_{4} a_{4} b_{41} b_{42} + C_{4} a_{4} b_{41} b_{43} + \\frac{C_{4} a_{4} b_{42}^{2}}{2} + C_{4} a_{4} b_{42} b_{43} + \\frac{C_{4} a_{4} b_{43}^{2}}{2} - \\frac{1}{8}$"
      ],
      "text/plain": [
       "C_2*a_2*b_{21}**2/2 + C_3*a_3*b_{31}**2/2 + C_3*a_3*b_{31}*b_{32} + C_3*a_3*b_{32}**2/2 + C_4*a_4*b_{41}**2/2 + C_4*a_4*b_{41}*b_{42} + C_4*a_4*b_{41}*b_{43} + C_4*a_4*b_{42}**2/2 + C_4*a_4*b_{42}*b_{43} + C_4*a_4*b_{43}**2/2 - 1/8"
      ]
     },
     "metadata": {},
     "output_type": "display_data"
    },
    {
     "data": {
      "text/latex": [
       "$\\displaystyle C_{3} a_{2} a_{3} b_{32} + C_{4} a_{2} a_{4} b_{42} + C_{4} a_{3} a_{4} b_{43} - \\frac{1}{8}$"
      ],
      "text/plain": [
       "C_3*a_2*a_3*b_{32} + C_4*a_2*a_4*b_{42} + C_4*a_3*a_4*b_{43} - 1/8"
      ]
     },
     "metadata": {},
     "output_type": "display_data"
    },
    {
     "data": {
      "text/latex": [
       "$\\displaystyle \\frac{C_{2} a_{2}^{2} b_{21}}{2} + \\frac{C_{3} a_{3}^{2} b_{31}}{2} + \\frac{C_{3} a_{3}^{2} b_{32}}{2} + \\frac{C_{4} a_{4}^{2} b_{41}}{2} + \\frac{C_{4} a_{4}^{2} b_{42}}{2} + \\frac{C_{4} a_{4}^{2} b_{43}}{2} - \\frac{1}{8}$"
      ],
      "text/plain": [
       "C_2*a_2**2*b_{21}/2 + C_3*a_3**2*b_{31}/2 + C_3*a_3**2*b_{32}/2 + C_4*a_4**2*b_{41}/2 + C_4*a_4**2*b_{42}/2 + C_4*a_4**2*b_{43}/2 - 1/8"
      ]
     },
     "metadata": {},
     "output_type": "display_data"
    },
    {
     "data": {
      "text/latex": [
       "$\\displaystyle C_{4} a_{2} b_{32} b_{43} - \\frac{1}{24}$"
      ],
      "text/plain": [
       "C_4*a_2*b_{32}*b_{43} - 1/24"
      ]
     },
     "metadata": {},
     "output_type": "display_data"
    },
    {
     "data": {
      "text/latex": [
       "$\\displaystyle C_{4} b_{21} b_{32} b_{43} - \\frac{1}{24}$"
      ],
      "text/plain": [
       "C_4*b_{21}*b_{32}*b_{43} - 1/24"
      ]
     },
     "metadata": {},
     "output_type": "display_data"
    },
    {
     "data": {
      "text/latex": [
       "$\\displaystyle \\frac{C_{2} b_{21}^{3}}{6} + \\frac{C_{3} b_{31}^{3}}{6} + \\frac{C_{3} b_{31}^{2} b_{32}}{2} + \\frac{C_{3} b_{31} b_{32}^{2}}{2} + \\frac{C_{3} b_{32}^{3}}{6} + \\frac{C_{4} b_{41}^{3}}{6} + \\frac{C_{4} b_{41}^{2} b_{42}}{2} + \\frac{C_{4} b_{41}^{2} b_{43}}{2} + \\frac{C_{4} b_{41} b_{42}^{2}}{2} + C_{4} b_{41} b_{42} b_{43} + \\frac{C_{4} b_{41} b_{43}^{2}}{2} + \\frac{C_{4} b_{42}^{3}}{6} + \\frac{C_{4} b_{42}^{2} b_{43}}{2} + \\frac{C_{4} b_{42} b_{43}^{2}}{2} + \\frac{C_{4} b_{43}^{3}}{6} - \\frac{1}{24}$"
      ],
      "text/plain": [
       "C_2*b_{21}**3/6 + C_3*b_{31}**3/6 + C_3*b_{31}**2*b_{32}/2 + C_3*b_{31}*b_{32}**2/2 + C_3*b_{32}**3/6 + C_4*b_{41}**3/6 + C_4*b_{41}**2*b_{42}/2 + C_4*b_{41}**2*b_{43}/2 + C_4*b_{41}*b_{42}**2/2 + C_4*b_{41}*b_{42}*b_{43} + C_4*b_{41}*b_{43}**2/2 + C_4*b_{42}**3/6 + C_4*b_{42}**2*b_{43}/2 + C_4*b_{42}*b_{43}**2/2 + C_4*b_{43}**3/6 - 1/24"
      ]
     },
     "metadata": {},
     "output_type": "display_data"
    },
    {
     "data": {
      "text/latex": [
       "$\\displaystyle \\frac{C_{3} a_{2}^{2} b_{32}}{2} + \\frac{C_{4} a_{2}^{2} b_{42}}{2} + \\frac{C_{4} a_{3}^{2} b_{43}}{2} - \\frac{1}{24}$"
      ],
      "text/plain": [
       "C_3*a_2**2*b_{32}/2 + C_4*a_2**2*b_{42}/2 + C_4*a_3**2*b_{43}/2 - 1/24"
      ]
     },
     "metadata": {},
     "output_type": "display_data"
    },
    {
     "data": {
      "text/latex": [
       "$\\displaystyle C_{3} a_{2} b_{21} b_{32} + C_{3} a_{3} b_{21} b_{32} + C_{4} a_{2} b_{21} b_{42} + C_{4} a_{3} b_{31} b_{43} + C_{4} a_{3} b_{32} b_{43} + C_{4} a_{4} b_{21} b_{42} + C_{4} a_{4} b_{31} b_{43} + C_{4} a_{4} b_{32} b_{43} - \\frac{5}{24}$"
      ],
      "text/plain": [
       "C_3*a_2*b_{21}*b_{32} + C_3*a_3*b_{21}*b_{32} + C_4*a_2*b_{21}*b_{42} + C_4*a_3*b_{31}*b_{43} + C_4*a_3*b_{32}*b_{43} + C_4*a_4*b_{21}*b_{42} + C_4*a_4*b_{31}*b_{43} + C_4*a_4*b_{32}*b_{43} - 5/24"
      ]
     },
     "metadata": {},
     "output_type": "display_data"
    },
    {
     "data": {
      "text/latex": [
       "$\\displaystyle \\frac{C_{3} b_{21}^{2} b_{32}}{2} + C_{3} b_{21} b_{31} b_{32} + C_{3} b_{21} b_{32}^{2} + \\frac{C_{4} b_{21}^{2} b_{42}}{2} + C_{4} b_{21} b_{41} b_{42} + C_{4} b_{21} b_{42}^{2} + C_{4} b_{21} b_{42} b_{43} + \\frac{C_{4} b_{31}^{2} b_{43}}{2} + C_{4} b_{31} b_{32} b_{43} + C_{4} b_{31} b_{41} b_{43} + C_{4} b_{31} b_{42} b_{43} + C_{4} b_{31} b_{43}^{2} + \\frac{C_{4} b_{32}^{2} b_{43}}{2} + C_{4} b_{32} b_{41} b_{43} + C_{4} b_{32} b_{42} b_{43} + C_{4} b_{32} b_{43}^{2} - \\frac{1}{6}$"
      ],
      "text/plain": [
       "C_3*b_{21}**2*b_{32}/2 + C_3*b_{21}*b_{31}*b_{32} + C_3*b_{21}*b_{32}**2 + C_4*b_{21}**2*b_{42}/2 + C_4*b_{21}*b_{41}*b_{42} + C_4*b_{21}*b_{42}**2 + C_4*b_{21}*b_{42}*b_{43} + C_4*b_{31}**2*b_{43}/2 + C_4*b_{31}*b_{32}*b_{43} + C_4*b_{31}*b_{41}*b_{43} + C_4*b_{31}*b_{42}*b_{43} + C_4*b_{31}*b_{43}**2 + C_4*b_{32}**2*b_{43}/2 + C_4*b_{32}*b_{41}*b_{43} + C_4*b_{32}*b_{42}*b_{43} + C_4*b_{32}*b_{43}**2 - 1/6"
      ]
     },
     "metadata": {},
     "output_type": "display_data"
    },
    {
     "data": {
      "text/latex": [
       "$\\displaystyle C_{3} a_{2} b_{31} b_{32} + C_{3} a_{2} b_{32}^{2} + C_{4} a_{2} b_{41} b_{42} + C_{4} a_{2} b_{42}^{2} + C_{4} a_{2} b_{42} b_{43} + C_{4} a_{3} b_{41} b_{43} + C_{4} a_{3} b_{42} b_{43} + C_{4} a_{3} b_{43}^{2} - \\frac{1}{8}$"
      ],
      "text/plain": [
       "C_3*a_2*b_{31}*b_{32} + C_3*a_2*b_{32}**2 + C_4*a_2*b_{41}*b_{42} + C_4*a_2*b_{42}**2 + C_4*a_2*b_{42}*b_{43} + C_4*a_3*b_{41}*b_{43} + C_4*a_3*b_{42}*b_{43} + C_4*a_3*b_{43}**2 - 1/8"
      ]
     },
     "metadata": {},
     "output_type": "display_data"
    }
   ],
   "source": [
    "params = [C1, C2, C3, C4, h, a2, a3, a4, b21, b31, b32, b41, b42, b43]\n",
    "conds = []\n",
    "for p in range(1, 5):\n",
    "    part_p = diff.coeff(h, p)\n",
    "    for arg in part_p.args:\n",
    "        tmp = 1\n",
    "        for parts in arg.args:\n",
    "            if not parts.is_number and not parts.has(*params):\n",
    "                tmp *= parts\n",
    "        cond = part_p.coeff(tmp, 1)\n",
    "        if cond not in conds:\n",
    "            conds.append(cond)\n",
    "print(len(conds))\n",
    "display(*conds)"
   ]
  },
  {
   "cell_type": "code",
   "execution_count": 10,
   "metadata": {},
   "outputs": [
    {
     "data": {
      "text/latex": [
       "$\\displaystyle \\frac{C_{2} a_{2}^{2}}{2} - C_{2} a_{2} b_{21} + \\frac{C_{2} b_{21}^{2}}{2} + \\frac{C_{3} a_{3}^{2}}{2} - C_{3} a_{3} b_{31} - C_{3} a_{3} b_{32} + \\frac{C_{3} b_{31}^{2}}{2} + C_{3} b_{31} b_{32} + \\frac{C_{3} b_{32}^{2}}{2} + \\frac{C_{4} a_{4}^{2}}{2} - C_{4} a_{4} b_{41} - C_{4} a_{4} b_{42} - C_{4} a_{4} b_{43} + \\frac{C_{4} b_{41}^{2}}{2} + C_{4} b_{41} b_{42} + C_{4} b_{41} b_{43} + \\frac{C_{4} b_{42}^{2}}{2} + C_{4} b_{42} b_{43} + \\frac{C_{4} b_{43}^{2}}{2}$"
      ],
      "text/plain": [
       "C_2*a_2**2/2 - C_2*a_2*b_{21} + C_2*b_{21}**2/2 + C_3*a_3**2/2 - C_3*a_3*b_{31} - C_3*a_3*b_{32} + C_3*b_{31}**2/2 + C_3*b_{31}*b_{32} + C_3*b_{32}**2/2 + C_4*a_4**2/2 - C_4*a_4*b_{41} - C_4*a_4*b_{42} - C_4*a_4*b_{43} + C_4*b_{41}**2/2 + C_4*b_{41}*b_{42} + C_4*b_{41}*b_{43} + C_4*b_{42}**2/2 + C_4*b_{42}*b_{43} + C_4*b_{43}**2/2"
      ]
     },
     "execution_count": 10,
     "metadata": {},
     "output_type": "execute_result"
    }
   ],
   "source": [
    "conds[3] - conds[4] + conds[6]"
   ]
  },
  {
   "cell_type": "code",
   "execution_count": 11,
   "metadata": {},
   "outputs": [
    {
     "data": {
      "text/latex": [
       "$\\displaystyle \\frac{C_{2} \\left(a_{2} - b_{21}\\right)^{2}}{2} + \\frac{C_{3} \\left(a_{3} - b_{31} - b_{32}\\right)^{2}}{2} + \\frac{C_{4} \\left(a_{4} - b_{41} - b_{42} - b_{43}\\right)^{2}}{2}$"
      ],
      "text/plain": [
       "C_2*(a_2 - b_{21})**2/2 + C_3*(a_3 - b_{31} - b_{32})**2/2 + C_4*(a_4 - b_{41} - b_{42} - b_{43})**2/2"
      ]
     },
     "metadata": {},
     "output_type": "display_data"
    },
    {
     "data": {
      "text/latex": [
       "$\\displaystyle \\frac{C_{2} a_{2}^{2}}{2} - C_{2} a_{2} b_{21} + \\frac{C_{2} b_{21}^{2}}{2} + \\frac{C_{3} a_{3}^{2}}{2} - C_{3} a_{3} b_{31} - C_{3} a_{3} b_{32} + \\frac{C_{3} b_{31}^{2}}{2} + C_{3} b_{31} b_{32} + \\frac{C_{3} b_{32}^{2}}{2} + \\frac{C_{4} a_{4}^{2}}{2} - C_{4} a_{4} b_{41} - C_{4} a_{4} b_{42} - C_{4} a_{4} b_{43} + \\frac{C_{4} b_{41}^{2}}{2} + C_{4} b_{41} b_{42} + C_{4} b_{41} b_{43} + \\frac{C_{4} b_{42}^{2}}{2} + C_{4} b_{42} b_{43} + \\frac{C_{4} b_{43}^{2}}{2}$"
      ],
      "text/plain": [
       "C_2*a_2**2/2 - C_2*a_2*b_{21} + C_2*b_{21}**2/2 + C_3*a_3**2/2 - C_3*a_3*b_{31} - C_3*a_3*b_{32} + C_3*b_{31}**2/2 + C_3*b_{31}*b_{32} + C_3*b_{32}**2/2 + C_4*a_4**2/2 - C_4*a_4*b_{41} - C_4*a_4*b_{42} - C_4*a_4*b_{43} + C_4*b_{41}**2/2 + C_4*b_{41}*b_{42} + C_4*b_{41}*b_{43} + C_4*b_{42}**2/2 + C_4*b_{42}*b_{43} + C_4*b_{43}**2/2"
      ]
     },
     "metadata": {},
     "output_type": "display_data"
    },
    {
     "data": {
      "text/latex": [
       "$\\displaystyle 0$"
      ],
      "text/plain": [
       "0"
      ]
     },
     "metadata": {},
     "output_type": "display_data"
    }
   ],
   "source": [
    "a = C2*(a2 - b21)**2/2 + C3*(a3 - b31 - b32)**2/2 + C4*(a4 - b41 - b42 - b43)**2/2\n",
    "b = conds[3] - conds[4] + conds[6]\n",
    "display(a, b, a.expand() - b.expand())"
   ]
  },
  {
   "cell_type": "code",
   "execution_count": 89,
   "metadata": {},
   "outputs": [
    {
     "name": "stdout",
     "output_type": "stream",
     "text": [
      "11\n"
     ]
    },
    {
     "data": {
      "text/latex": [
       "$\\displaystyle a_{2} - b_{21}$"
      ],
      "text/plain": [
       "a_2 - b_{21}"
      ]
     },
     "metadata": {},
     "output_type": "display_data"
    },
    {
     "data": {
      "text/latex": [
       "$\\displaystyle a_{3} - b_{31} - b_{32}$"
      ],
      "text/plain": [
       "a_3 - b_{31} - b_{32}"
      ]
     },
     "metadata": {},
     "output_type": "display_data"
    },
    {
     "data": {
      "text/latex": [
       "$\\displaystyle a_{4} - b_{41} - b_{42} - b_{43}$"
      ],
      "text/plain": [
       "a_4 - b_{41} - b_{42} - b_{43}"
      ]
     },
     "metadata": {},
     "output_type": "display_data"
    },
    {
     "data": {
      "text/latex": [
       "$\\displaystyle C_{1} + C_{2} + C_{3} + C_{4} - 1$"
      ],
      "text/plain": [
       "C_1 + C_2 + C_3 + C_4 - 1"
      ]
     },
     "metadata": {},
     "output_type": "display_data"
    },
    {
     "data": {
      "text/latex": [
       "$\\displaystyle C_{2} a_{2} + C_{3} a_{3} + C_{4} a_{4} - \\frac{1}{2}$"
      ],
      "text/plain": [
       "C_2*a_2 + C_3*a_3 + C_4*a_4 - 1/2"
      ]
     },
     "metadata": {},
     "output_type": "display_data"
    },
    {
     "data": {
      "text/latex": [
       "$\\displaystyle C_{2} a_{2}^{2} + C_{3} a_{3}^{2} + C_{4} a_{4}^{2} - \\frac{1}{3}$"
      ],
      "text/plain": [
       "C_2*a_2**2 + C_3*a_3**2 + C_4*a_4**2 - 1/3"
      ]
     },
     "metadata": {},
     "output_type": "display_data"
    },
    {
     "data": {
      "text/latex": [
       "$\\displaystyle C_{3} a_{2} b_{32} + C_{4} a_{2} b_{42} + C_{4} a_{3} b_{43} - \\frac{1}{6}$"
      ],
      "text/plain": [
       "C_3*a_2*b_{32} + C_4*a_2*b_{42} + C_4*a_3*b_{43} - 1/6"
      ]
     },
     "metadata": {},
     "output_type": "display_data"
    },
    {
     "data": {
      "text/latex": [
       "$\\displaystyle C_{2} a_{2}^{3} + C_{3} a_{3}^{3} + C_{4} a_{4}^{3} - \\frac{1}{4}$"
      ],
      "text/plain": [
       "C_2*a_2**3 + C_3*a_3**3 + C_4*a_4**3 - 1/4"
      ]
     },
     "metadata": {},
     "output_type": "display_data"
    },
    {
     "data": {
      "text/latex": [
       "$\\displaystyle C_{3} a_{2} a_{3} b_{32} + C_{4} a_{2} a_{4} b_{42} + C_{4} a_{3} a_{4} b_{43} - \\frac{1}{8}$"
      ],
      "text/plain": [
       "C_3*a_2*a_3*b_{32} + C_4*a_2*a_4*b_{42} + C_4*a_3*a_4*b_{43} - 1/8"
      ]
     },
     "metadata": {},
     "output_type": "display_data"
    },
    {
     "data": {
      "text/latex": [
       "$\\displaystyle C_{4} a_{2} b_{32} b_{43} - \\frac{1}{24}$"
      ],
      "text/plain": [
       "C_4*a_2*b_{32}*b_{43} - 1/24"
      ]
     },
     "metadata": {},
     "output_type": "display_data"
    },
    {
     "data": {
      "text/latex": [
       "$\\displaystyle C_{3} a_{2}^{2} b_{32} + C_{4} a_{2}^{2} b_{42} + C_{4} a_{3}^{2} b_{43} - \\frac{1}{12}$"
      ],
      "text/plain": [
       "C_3*a_2**2*b_{32} + C_4*a_2**2*b_{42} + C_4*a_3**2*b_{43} - 1/12"
      ]
     },
     "metadata": {},
     "output_type": "display_data"
    }
   ],
   "source": [
    "conds2 = [\n",
    "    a2-b21,\n",
    "    a3-b31-b32,\n",
    "    a4-b41-b42-b43,\n",
    "    conds[0],\n",
    "    conds[1],\n",
    "    conds[3]*2,\n",
    "    conds[7],\n",
    "    conds[8]*6,\n",
    "    conds[10],\n",
    "    conds[12],\n",
    "    conds[15]*2,\n",
    "]\n",
    "print(len(conds2))\n",
    "display(*conds2)"
   ]
  },
  {
   "cell_type": "code",
   "execution_count": 87,
   "metadata": {},
   "outputs": [
    {
     "data": {
      "text/latex": [
       "$\\displaystyle C_{3} a_{2} a_{3} b_{32} + C_{4} a_{2} a_{4} b_{42} + C_{4} a_{3} a_{4} b_{43} - \\frac{1}{8}$"
      ],
      "text/plain": [
       "C_3*a_2*a_3*b_{32} + C_4*a_2*a_4*b_{42} + C_4*a_3*a_4*b_{43} - 1/8"
      ]
     },
     "execution_count": 87,
     "metadata": {},
     "output_type": "execute_result"
    }
   ],
   "source": [
    "conds[2].collect(C2).collect(C3).collect(C4).subs([(b21, a2), (b31+b32, a3), (b41+b42+b43, a4)])\n",
    "conds[4].collect(C2*a2).collect(C3*a3).collect(C4*a4).subs([(b21, a2), (b31+b32, a3), (b41+b42+b43, a4)])\n",
    "conds[6].collect(C3).collect(C4)\n",
    "conds[5].subs(b21, a2).collect(C4*b43).subs(b31+b32, a3)\n",
    "(conds[9]*2).subs(b21, a2).collect(C3*a3).collect(C4*a4)\n",
    "(conds[11].collect(C3*a3**2/2).collect(C4*a4**2/2).subs([(b21, a2), (b31+b32, a3), (b41+b42+b43, a4)])*2)\n",
    "conds[13].subs(b21, a2)\n",
    "(conds[14]*6).subs(b21, a2).collect(C2).collect(C3).collect(C4)\n",
    "conds[16].subs(b21, a2).collect(C4*a3*b43).collect(C4*a4*b43).subs(b31+b32, a3) - conds[15]*2 - conds[10]\n",
    "conds[17].subs(b21, a2).collect(C3*a2*b32).collect(C4*b31*b43).collect(C4*b32*b43).collect(C4*a2*b42).subs([(b31+b32, a3), (b41+b42+b43, a4)]).expand().collect(C4*a4*b43).collect(C4*b43).subs([(b31+b32, a3), (((b31+b32)**2/2).expand(), a3**2/2)]).expand()-conds[10]-conds[15]\n",
    "conds[18].collect(C3*a2*b32).collect(C4*a2*b42).collect(C4*a3*b43).subs([(b21, a2), (b31+b32, a3), (b41+b42+b43, a4)])"
   ]
  },
  {
   "cell_type": "markdown",
   "metadata": {},
   "source": [
    "$$\n",
    "\\begin{aligned}\n",
    "y_{n+1} =& y_n + h(\\frac{1}{6} K_1 + \\frac{2}{6} K_2 + \\frac{2}{6} K_3 + \\frac{1}{6} K_4)\\\\\n",
    "K_1 =& f(x_n, y_n)\\\\\n",
    "K_2 =& f(x_n + \\frac{h}{2}, y_n + \\frac{h}{2} K_1)\\\\\n",
    "K_3 =& f(x_n + \\frac{h}{2} h, y_n + \\frac{h}{2} K_2)\\\\\n",
    "K_4 =& f(x_n + h, y_n + h k_2)\n",
    "\\end{aligned}\n",
    "$$"
   ]
  },
  {
   "cell_type": "code",
   "execution_count": 93,
   "metadata": {},
   "outputs": [
    {
     "data": {
      "text/latex": [
       "$\\displaystyle 1.0 \\cdot 10^{-125}$"
      ],
      "text/plain": [
       "0.e-125"
      ]
     },
     "metadata": {},
     "output_type": "display_data"
    },
    {
     "data": {
      "text/latex": [
       "$\\displaystyle 1.0 \\cdot 10^{-125}$"
      ],
      "text/plain": [
       "0.e-125"
      ]
     },
     "metadata": {},
     "output_type": "display_data"
    },
    {
     "data": {
      "text/latex": [
       "$\\displaystyle 2.0 \\cdot 10^{-125}$"
      ],
      "text/plain": [
       "0.e-125"
      ]
     },
     "metadata": {},
     "output_type": "display_data"
    },
    {
     "data": {
      "text/latex": [
       "$\\displaystyle -6.0 \\cdot 10^{-126}$"
      ],
      "text/plain": [
       "-0.e-125"
      ]
     },
     "metadata": {},
     "output_type": "display_data"
    },
    {
     "data": {
      "text/latex": [
       "$\\displaystyle -3.0 \\cdot 10^{-126}$"
      ],
      "text/plain": [
       "-0.e-126"
      ]
     },
     "metadata": {},
     "output_type": "display_data"
    },
    {
     "data": {
      "text/latex": [
       "$\\displaystyle 6.0 \\cdot 10^{-126}$"
      ],
      "text/plain": [
       "0.e-125"
      ]
     },
     "metadata": {},
     "output_type": "display_data"
    },
    {
     "data": {
      "text/latex": [
       "$\\displaystyle 3.0 \\cdot 10^{-126}$"
      ],
      "text/plain": [
       "0.e-126"
      ]
     },
     "metadata": {},
     "output_type": "display_data"
    },
    {
     "data": {
      "text/latex": [
       "$\\displaystyle -1.0 \\cdot 10^{-126}$"
      ],
      "text/plain": [
       "-0.e-126"
      ]
     },
     "metadata": {},
     "output_type": "display_data"
    },
    {
     "data": {
      "text/latex": [
       "$\\displaystyle -7.0 \\cdot 10^{-127}$"
      ],
      "text/plain": [
       "-0.e-126"
      ]
     },
     "metadata": {},
     "output_type": "display_data"
    },
    {
     "data": {
      "text/latex": [
       "$\\displaystyle 7.0 \\cdot 10^{-127}$"
      ],
      "text/plain": [
       "0.e-126"
      ]
     },
     "metadata": {},
     "output_type": "display_data"
    },
    {
     "data": {
      "text/latex": [
       "$\\displaystyle 1.0 \\cdot 10^{-126}$"
      ],
      "text/plain": [
       "0.e-126"
      ]
     },
     "metadata": {},
     "output_type": "display_data"
    }
   ],
   "source": [
    "val_map = {\n",
    "    C1:sp.Rational(1, 6), C2:sp.Rational(2, 6), C3:sp.Rational(2, 6), C4:sp.Rational(1, 6),\n",
    "    a2:sp.Rational(1, 2), b21:sp.Rational(1, 2),\n",
    "    a3:sp.Rational(1, 2), b31:sp.Rational(0, 1), b32:sp.Rational(1, 2),\n",
    "    a4:sp.Rational(1, 1), b41:sp.Rational(0, 1), b42:sp.Rational(0, 1), b43:sp.Rational(1, 1)\n",
    "}\n",
    "for cond in conds2:\n",
    "    display(cond.evalf(subs=val_map))"
   ]
  }
 ],
 "metadata": {
  "kernelspec": {
   "display_name": "Python 3.10.6 ('.venv': poetry)",
   "language": "python",
   "name": "python3"
  },
  "language_info": {
   "codemirror_mode": {
    "name": "ipython",
    "version": 3
   },
   "file_extension": ".py",
   "mimetype": "text/x-python",
   "name": "python",
   "nbconvert_exporter": "python",
   "pygments_lexer": "ipython3",
   "version": "3.10.6"
  },
  "orig_nbformat": 4,
  "vscode": {
   "interpreter": {
    "hash": "d36654fe88650e2592491a772a5d72fae08e4ce2876c30a98a081787002388e3"
   }
  }
 },
 "nbformat": 4,
 "nbformat_minor": 2
}
