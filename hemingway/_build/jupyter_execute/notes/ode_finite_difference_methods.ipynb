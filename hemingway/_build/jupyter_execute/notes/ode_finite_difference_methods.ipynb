{
 "cells": [
  {
   "cell_type": "markdown",
   "metadata": {},
   "source": [
    "# Finite Difference Methods"
   ]
  },
  {
   "cell_type": "markdown",
   "metadata": {},
   "source": [
    "## 二阶导数估计"
   ]
  },
  {
   "cell_type": "code",
   "execution_count": 1,
   "metadata": {},
   "outputs": [],
   "source": [
    "import sympy as sp\n",
    "def removeSub(expr):\n",
    "    if isinstance(expr, sp.Subs):\n",
    "        return expr.args[0].replace(expr.args[1][0], expr.args[2][0])\n",
    "    for arg in expr.args:\n",
    "        expr = expr.replace(arg, removeSub(arg))\n",
    "    return expr\n",
    "\n",
    "def getDeviationEstimator(steps=[-1, 0, 1], k=2, verbose=False):\n",
    "    N = len(steps)\n",
    "    h, x, x0, dx = sp.symbols('h x, x_0, \\Delta{x}')\n",
    "    u = sp.Function('u')\n",
    "\n",
    "    left = u(x).diff(x, k)\n",
    "    right = 0\n",
    "    for idx, step in enumerate(steps):\n",
    "        tmp_param = sp.symbols(chr(ord('A') + idx))\n",
    "        right += tmp_param * u(x + step*h)\n",
    "\n",
    "    if verbose:\n",
    "        display(sp.Eq(left, right))\n",
    "\n",
    "    u_taylor = removeSub(u(x).series(x, x0, N).subs(x, x0+dx)).subs(x0, x)\n",
    "    taylors_dict = {}\n",
    "    for step in steps:\n",
    "        tmp = u_taylor.subs(dx, step*h)\n",
    "        taylors_dict[u(x+step*h)] = tmp\n",
    "        if step != 0 and verbose:\n",
    "            display(sp.Eq(u(x+step*h), tmp))\n",
    "    \n",
    "    right_taylor = right.xreplace(taylors_dict).expand()\n",
    "    equ_taylor = right_taylor - left\n",
    "\n",
    "    line_eqs = []\n",
    "    for idx in range(N):\n",
    "        tmp = equ_taylor.coeff(u(x).diff(x, idx))\n",
    "        if verbose:\n",
    "            display(tmp)\n",
    "        line_eqs.append(tmp)\n",
    "    params = line_eqs[0].args\n",
    "    solution = sp.linsolve(line_eqs, params)\n",
    "\n",
    "    param_dict = {}\n",
    "    for param, k in zip(params, solution.args[0]):\n",
    "        param_dict[param] = k\n",
    "    residual = equ_taylor.xreplace(param_dict)\n",
    "    if verbose:\n",
    "        display(residual)\n",
    "\n",
    "    result = 0\n",
    "    for step, k in zip(steps, solution.args[0]):\n",
    "        result += u(x+step*h) * k\n",
    "    if verbose:\n",
    "        display(sp.Eq(left, result.simplify()))\n",
    "    return result"
   ]
  },
  {
   "cell_type": "code",
   "execution_count": 2,
   "metadata": {},
   "outputs": [
    {
     "data": {
      "text/latex": [
       "$\\displaystyle - \\frac{2 u{\\left(x \\right)}}{h^{2}} + \\frac{u{\\left(- h + x \\right)}}{h^{2}} + \\frac{u{\\left(h + x \\right)}}{h^{2}}$"
      ],
      "text/plain": [
       "-2*u(x)/h**2 + u(-h + x)/h**2 + u(h + x)/h**2"
      ]
     },
     "metadata": {},
     "output_type": "display_data"
    },
    {
     "data": {
      "text/latex": [
       "$\\displaystyle \\frac{u{\\left(x \\right)}}{h^{2}} - \\frac{2 u{\\left(h + x \\right)}}{h^{2}} + \\frac{u{\\left(2 h + x \\right)}}{h^{2}}$"
      ],
      "text/plain": [
       "u(x)/h**2 - 2*u(h + x)/h**2 + u(2*h + x)/h**2"
      ]
     },
     "metadata": {},
     "output_type": "display_data"
    },
    {
     "data": {
      "text/latex": [
       "$\\displaystyle \\frac{u{\\left(x \\right)}}{h^{2}} + \\frac{u{\\left(- 2 h + x \\right)}}{h^{2}} - \\frac{2 u{\\left(- h + x \\right)}}{h^{2}}$"
      ],
      "text/plain": [
       "u(x)/h**2 + u(-2*h + x)/h**2 - 2*u(-h + x)/h**2"
      ]
     },
     "metadata": {},
     "output_type": "display_data"
    }
   ],
   "source": [
    "estimator1 = getDeviationEstimator([-1, 0, 1])\n",
    "display(estimator1)\n",
    "estimator2 = getDeviationEstimator([0, 1, 2])\n",
    "display(estimator2)\n",
    "estimator3 = getDeviationEstimator([-2, -1, 0])\n",
    "display(estimator3)"
   ]
  },
  {
   "cell_type": "code",
   "execution_count": 3,
   "metadata": {},
   "outputs": [
    {
     "data": {
      "text/latex": [
       "$\\displaystyle - \\frac{5 u{\\left(x \\right)}}{2 h^{2}} - \\frac{u{\\left(- 2 h + x \\right)}}{12 h^{2}} + \\frac{4 u{\\left(- h + x \\right)}}{3 h^{2}} + \\frac{4 u{\\left(h + x \\right)}}{3 h^{2}} - \\frac{u{\\left(2 h + x \\right)}}{12 h^{2}}$"
      ],
      "text/plain": [
       "-5*u(x)/(2*h**2) - u(-2*h + x)/(12*h**2) + 4*u(-h + x)/(3*h**2) + 4*u(h + x)/(3*h**2) - u(2*h + x)/(12*h**2)"
      ]
     },
     "metadata": {},
     "output_type": "display_data"
    },
    {
     "data": {
      "text/latex": [
       "$\\displaystyle - \\frac{5 u{\\left(x \\right)}}{3 h^{2}} + \\frac{11 u{\\left(- h + x \\right)}}{12 h^{2}} + \\frac{u{\\left(h + x \\right)}}{2 h^{2}} + \\frac{u{\\left(2 h + x \\right)}}{3 h^{2}} - \\frac{u{\\left(3 h + x \\right)}}{12 h^{2}}$"
      ],
      "text/plain": [
       "-5*u(x)/(3*h**2) + 11*u(-h + x)/(12*h**2) + u(h + x)/(2*h**2) + u(2*h + x)/(3*h**2) - u(3*h + x)/(12*h**2)"
      ]
     },
     "metadata": {},
     "output_type": "display_data"
    },
    {
     "data": {
      "text/latex": [
       "$\\displaystyle \\frac{35 u{\\left(x \\right)}}{12 h^{2}} - \\frac{26 u{\\left(h + x \\right)}}{3 h^{2}} + \\frac{19 u{\\left(2 h + x \\right)}}{2 h^{2}} - \\frac{14 u{\\left(3 h + x \\right)}}{3 h^{2}} + \\frac{11 u{\\left(4 h + x \\right)}}{12 h^{2}}$"
      ],
      "text/plain": [
       "35*u(x)/(12*h**2) - 26*u(h + x)/(3*h**2) + 19*u(2*h + x)/(2*h**2) - 14*u(3*h + x)/(3*h**2) + 11*u(4*h + x)/(12*h**2)"
      ]
     },
     "metadata": {},
     "output_type": "display_data"
    },
    {
     "data": {
      "text/latex": [
       "$\\displaystyle - \\frac{5 u{\\left(x \\right)}}{3 h^{2}} - \\frac{u{\\left(- 3 h + x \\right)}}{12 h^{2}} + \\frac{u{\\left(- 2 h + x \\right)}}{3 h^{2}} + \\frac{u{\\left(- h + x \\right)}}{2 h^{2}} + \\frac{11 u{\\left(h + x \\right)}}{12 h^{2}}$"
      ],
      "text/plain": [
       "-5*u(x)/(3*h**2) - u(-3*h + x)/(12*h**2) + u(-2*h + x)/(3*h**2) + u(-h + x)/(2*h**2) + 11*u(h + x)/(12*h**2)"
      ]
     },
     "metadata": {},
     "output_type": "display_data"
    },
    {
     "data": {
      "text/latex": [
       "$\\displaystyle \\frac{35 u{\\left(x \\right)}}{12 h^{2}} + \\frac{11 u{\\left(- 4 h + x \\right)}}{12 h^{2}} - \\frac{14 u{\\left(- 3 h + x \\right)}}{3 h^{2}} + \\frac{19 u{\\left(- 2 h + x \\right)}}{2 h^{2}} - \\frac{26 u{\\left(- h + x \\right)}}{3 h^{2}}$"
      ],
      "text/plain": [
       "35*u(x)/(12*h**2) + 11*u(-4*h + x)/(12*h**2) - 14*u(-3*h + x)/(3*h**2) + 19*u(-2*h + x)/(2*h**2) - 26*u(-h + x)/(3*h**2)"
      ]
     },
     "metadata": {},
     "output_type": "display_data"
    }
   ],
   "source": [
    "estimator1 = getDeviationEstimator([-2, -1, 0, 1, 2])\n",
    "display(estimator1)\n",
    "estimator2 = getDeviationEstimator([-1, 0, 1, 2, 3])\n",
    "display(estimator2)\n",
    "estimator3 = getDeviationEstimator([0, 1, 2, 3, 4])\n",
    "display(estimator3)\n",
    "estimator4 = getDeviationEstimator([-3, -2, -1, 0, 1])\n",
    "display(estimator4)\n",
    "estimator5 = getDeviationEstimator([-4, -3, -2, -1, 0])\n",
    "display(estimator5)"
   ]
  },
  {
   "cell_type": "code",
   "execution_count": 4,
   "metadata": {},
   "outputs": [
    {
     "data": {
      "text/latex": [
       "$\\displaystyle - \\frac{u{\\left(- h + x \\right)}}{2 h} + \\frac{u{\\left(h + x \\right)}}{2 h}$"
      ],
      "text/plain": [
       "-u(-h + x)/(2*h) + u(h + x)/(2*h)"
      ]
     },
     "metadata": {},
     "output_type": "display_data"
    },
    {
     "data": {
      "text/latex": [
       "$\\displaystyle - \\frac{3 u{\\left(x \\right)}}{2 h} + \\frac{2 u{\\left(h + x \\right)}}{h} - \\frac{u{\\left(2 h + x \\right)}}{2 h}$"
      ],
      "text/plain": [
       "-3*u(x)/(2*h) + 2*u(h + x)/h - u(2*h + x)/(2*h)"
      ]
     },
     "metadata": {},
     "output_type": "display_data"
    },
    {
     "data": {
      "text/latex": [
       "$\\displaystyle \\frac{3 u{\\left(x \\right)}}{2 h} + \\frac{u{\\left(- 2 h + x \\right)}}{2 h} - \\frac{2 u{\\left(- h + x \\right)}}{h}$"
      ],
      "text/plain": [
       "3*u(x)/(2*h) + u(-2*h + x)/(2*h) - 2*u(-h + x)/h"
      ]
     },
     "metadata": {},
     "output_type": "display_data"
    }
   ],
   "source": [
    "estimator1 = getDeviationEstimator([-1, 0, 1], k=1)\n",
    "display(estimator1)\n",
    "estimator2 = getDeviationEstimator([0, 1, 2], k=1)\n",
    "display(estimator2)\n",
    "estimator3 = getDeviationEstimator([-2, -1, 0], k=1)\n",
    "display(estimator3)"
   ]
  },
  {
   "cell_type": "code",
   "execution_count": 5,
   "metadata": {},
   "outputs": [
    {
     "data": {
      "text/latex": [
       "$\\displaystyle - \\frac{25 u{\\left(x \\right)}}{12 h} + \\frac{4 u{\\left(h + x \\right)}}{h} - \\frac{3 u{\\left(2 h + x \\right)}}{h} + \\frac{4 u{\\left(3 h + x \\right)}}{3 h} - \\frac{u{\\left(4 h + x \\right)}}{4 h}$"
      ],
      "text/plain": [
       "-25*u(x)/(12*h) + 4*u(h + x)/h - 3*u(2*h + x)/h + 4*u(3*h + x)/(3*h) - u(4*h + x)/(4*h)"
      ]
     },
     "metadata": {},
     "output_type": "display_data"
    },
    {
     "data": {
      "text/latex": [
       "$\\displaystyle - \\frac{5 u{\\left(x \\right)}}{6 h} - \\frac{u{\\left(- h + x \\right)}}{4 h} + \\frac{3 u{\\left(h + x \\right)}}{2 h} - \\frac{u{\\left(2 h + x \\right)}}{2 h} + \\frac{u{\\left(3 h + x \\right)}}{12 h}$"
      ],
      "text/plain": [
       "-5*u(x)/(6*h) - u(-h + x)/(4*h) + 3*u(h + x)/(2*h) - u(2*h + x)/(2*h) + u(3*h + x)/(12*h)"
      ]
     },
     "metadata": {},
     "output_type": "display_data"
    },
    {
     "data": {
      "text/latex": [
       "$\\displaystyle \\frac{u{\\left(- 2 h + x \\right)}}{12 h} - \\frac{2 u{\\left(- h + x \\right)}}{3 h} + \\frac{2 u{\\left(h + x \\right)}}{3 h} - \\frac{u{\\left(2 h + x \\right)}}{12 h}$"
      ],
      "text/plain": [
       "u(-2*h + x)/(12*h) - 2*u(-h + x)/(3*h) + 2*u(h + x)/(3*h) - u(2*h + x)/(12*h)"
      ]
     },
     "metadata": {},
     "output_type": "display_data"
    },
    {
     "data": {
      "text/latex": [
       "$\\displaystyle \\frac{5 u{\\left(x \\right)}}{6 h} - \\frac{u{\\left(- 3 h + x \\right)}}{12 h} + \\frac{u{\\left(- 2 h + x \\right)}}{2 h} - \\frac{3 u{\\left(- h + x \\right)}}{2 h} + \\frac{u{\\left(h + x \\right)}}{4 h}$"
      ],
      "text/plain": [
       "5*u(x)/(6*h) - u(-3*h + x)/(12*h) + u(-2*h + x)/(2*h) - 3*u(-h + x)/(2*h) + u(h + x)/(4*h)"
      ]
     },
     "metadata": {},
     "output_type": "display_data"
    },
    {
     "data": {
      "text/latex": [
       "$\\displaystyle \\frac{25 u{\\left(x \\right)}}{12 h} + \\frac{u{\\left(- 4 h + x \\right)}}{4 h} - \\frac{4 u{\\left(- 3 h + x \\right)}}{3 h} + \\frac{3 u{\\left(- 2 h + x \\right)}}{h} - \\frac{4 u{\\left(- h + x \\right)}}{h}$"
      ],
      "text/plain": [
       "25*u(x)/(12*h) + u(-4*h + x)/(4*h) - 4*u(-3*h + x)/(3*h) + 3*u(-2*h + x)/h - 4*u(-h + x)/h"
      ]
     },
     "metadata": {},
     "output_type": "display_data"
    }
   ],
   "source": [
    "estimator1 = getDeviationEstimator([0, 1, 2, 3, 4], k=1)\n",
    "display(estimator1)\n",
    "estimator2 = getDeviationEstimator([-1, 0, 1, 2, 3], k=1)\n",
    "display(estimator2)\n",
    "estimator3 = getDeviationEstimator([-2, -1, 0, 1, 2], k=1)\n",
    "display(estimator3)\n",
    "estimator4 = getDeviationEstimator([-3, -2, -1, 0, 1], k=1)\n",
    "display(estimator4)\n",
    "estimator5 = getDeviationEstimator([-4, -3, -2, -1, 0], k=1)\n",
    "display(estimator5)"
   ]
  },
  {
   "cell_type": "code",
   "execution_count": 6,
   "metadata": {},
   "outputs": [
    {
     "data": {
      "text/plain": [
       "[1.00000000000000, -2.00000000000000, 1.00000000000000]"
      ]
     },
     "execution_count": 6,
     "metadata": {},
     "output_type": "execute_result"
    }
   ],
   "source": [
    "def getDeviationEstimatorCoeff(steps=[-1, 0, 1]):\n",
    "    u = sp.Function('u')\n",
    "    x, h = sp.symbols('x, h')\n",
    "    estimator = getDeviationEstimator(steps)\n",
    "    coeff = []\n",
    "    for step in steps:\n",
    "        coeff.append(estimator.coeff(u(x + step*h)/h**2).evalf())\n",
    "    return coeff\n",
    "coeff = getDeviationEstimatorCoeff()\n",
    "coeff"
   ]
  },
  {
   "cell_type": "code",
   "execution_count": 7,
   "metadata": {},
   "outputs": [
    {
     "name": "stdout",
     "output_type": "stream",
     "text": [
      "[[ 1. -2.  1.  0.  0.]\n",
      " [ 1. -2.  1.  0.  0.]\n",
      " [ 0.  1. -2.  1.  0.]\n",
      " [ 0.  0.  1. -2.  1.]\n",
      " [ 0.  0.  1. -2.  1.]]\n",
      "[[ 1.  1.  0.  0.  0.]\n",
      " [-2. -2.  1.  0.  0.]\n",
      " [ 1.  1. -2.  1.  1.]\n",
      " [ 0.  0.  1. -2. -2.]\n",
      " [ 0.  0.  0.  1.  1.]]\n"
     ]
    }
   ],
   "source": [
    "import numpy as np\n",
    "\n",
    "def getAB(N=5, NX=10, NY=10):\n",
    "    a = np.arange(N).reshape((1, -1))\n",
    "    steps_arr = a - a.T\n",
    "    coeff_arr = []\n",
    "    for steps in steps_arr:\n",
    "        coeff = getDeviationEstimatorCoeff(steps)\n",
    "        coeff_arr.append(coeff)\n",
    "    coeff_arr = np.array(coeff_arr, dtype=np.float64)\n",
    "\n",
    "    def getDevEstMatrix(NX):\n",
    "        coeff_idx_arr = (N-1)//2 * np.ones(NX)\n",
    "        coeff_idx_arr[:(N-1)//2] = np.arange((N-1)//2)\n",
    "        coeff_idx_arr[-(N-1)//2:] = np.arange((N+1)//2, N)\n",
    "        coeff_idx_arr = coeff_idx_arr.astype(int)\n",
    "        A = np.zeros((NX, NX))\n",
    "        for idx, coeff_idx in enumerate(coeff_idx_arr):\n",
    "            A[idx, idx-coeff_idx:idx+N-coeff_idx] = coeff_arr[coeff_idx]\n",
    "        return A\n",
    "    A = getDevEstMatrix(NY)\n",
    "    B = getDevEstMatrix(NX).T\n",
    "    return A, B\n",
    "A, B = getAB(N=3, NX=5, NY=5)\n",
    "print(A)\n",
    "print(B)"
   ]
  },
  {
   "cell_type": "markdown",
   "metadata": {},
   "source": [
    "## Finite Difference Method"
   ]
  },
  {
   "cell_type": "markdown",
   "metadata": {},
   "source": [
    "$$\n",
    "\\frac{\\partial^2 u(x, y)}{\\partial x^2} + \\frac{\\partial^2 u(x, y)}{\\partial y^2} = C(x, y)\n",
    "$$\n",
    "\n",
    "$$\n",
    "\\frac{\\partial^2 u(x, y)}{\\partial x^2} = AU,\n",
    "\\frac{\\partial^2 u(x, y)}{\\partial y^2} = UB\n",
    "$$\n",
    "\n",
    "\n",
    "https://math.stackexchange.com/questions/186598/how-to-solve-matrix-equation-axxb-c-for-x\n",
    "$$\n",
    "\\begin{aligned}\n",
    "&AU + UB = C \\\\\n",
    "&(I^T_B \\otimes A) vec(U) + (B^T \\otimes I_A) vec(U) = vec(C) \\\\\n",
    "&(I^T_B \\otimes A + B^T \\otimes I_A) vec(U) = vec(C) \\\\\n",
    "&vec(U) = (I^T_B \\otimes A + B^T \\otimes I_A)^{-1} vec(C)\n",
    "\\end{aligned}\n",
    "$$"
   ]
  },
  {
   "cell_type": "markdown",
   "metadata": {},
   "source": [
    "$$\n",
    "0 < x < 1, 0 < y < 1.\n",
    "$$\n",
    "\n",
    "$$\n",
    "D = \\begin{bmatrix}\n",
    "0 & 0 & \\dots & 0 & 0 \\\\\n",
    "0 & 1 & \\dots & 0 & 0\\\\\n",
    "\\vdots & \\vdots & \\ddots & \\vdots & \\vdots \\\\\n",
    "0 & 0 & \\dots & 1 & 0 \\\\\n",
    "0 & 0 & \\dots & 0 & 0 \\\\\n",
    "\\end{bmatrix}\n",
    "$$\n",
    "\n",
    "For some boundary condition $U_0$, we have\n",
    "\n",
    "$$\n",
    "\\begin{cases}\n",
    "U - D_A U D_B = U_0 - D_A U_0 D_B \\\\\n",
    "D_AAUD_B + D_A U B D_B = D_A C D_B\\\\\n",
    "\\end{cases}\n",
    "$$\n",
    "\n",
    "$$\n",
    "\\begin{cases}\n",
    "[I_B \\otimes I_A - D_B^T \\otimes D_A] \\cdot vec(U) = vec(U_0 - D_A U_0 D_B) \\\\\n",
    "[D_B^T \\otimes (D_AA) + (BD_B)^T \\otimes D_A] \\cdot vec(U) = vec(D_A C D_B)\\\\\n",
    "\\end{cases}\n",
    "$$"
   ]
  },
  {
   "cell_type": "code",
   "execution_count": 8,
   "metadata": {},
   "outputs": [
    {
     "data": {
      "image/png": "[encoded data removed]",
      "text/plain": [
       "<Figure size 600x300 with 2 Axes>"
      ]
     },
     "metadata": {
      "filenames": {
       "image/png": "/home/peng/Documents/hemingway/hemingway/_build/jupyter_execute/notes/ode_finite_difference_methods_12_0.png"
      }
     },
     "output_type": "display_data"
    }
   ],
   "source": [
    "import numpy as np\n",
    "import matplotlib.pyplot as plt\n",
    "\n",
    "def runFinitDifferenceMethod(N=3, NX=20, NY=10):\n",
    "    xrange = np.linspace(0, 2.0, NX)\n",
    "    yrange = np.linspace(0, 1.0, NY)\n",
    "    dx = xrange[1]-xrange[0]\n",
    "    dy = yrange[1]-yrange[0]\n",
    "    X, Y = np.meshgrid(xrange, yrange)\n",
    "    C = np.zeros_like(X)\n",
    "    A, B = getAB(N, NX, NY)\n",
    "    A /= dy**2\n",
    "    B /= dx**2\n",
    "\n",
    "    IA, DA, IB, DB = np.eye(NY), np.eye(NY), np.eye(NX), np.eye(NX)\n",
    "    DA[0][0], DA[-1][-1], DB[0][0], DB[-1][-1] = 0, 0, 0, 1\n",
    "    U0 = np.zeros_like(X)\n",
    "    U0[:, 0] = 10\n",
    "\n",
    "    K1 = np.kron(IB, IA) - np.kron(DB.T, DA)\n",
    "    K2 = np.kron(DB.T, DA @ A) + np.kron((B @ DB).T, DA)\n",
    "    C1 = U0 - DA @ U0 @ DB\n",
    "    C2 = DA @ C @ DB\n",
    "    C1_vec = C1.T.reshape(-1)\n",
    "    C2_vec = C2.T.reshape(-1)\n",
    "    C_vec = C1_vec + C2_vec\n",
    "    K = K1 + K2\n",
    "    U_vec = np.linalg.inv(K) @ C_vec\n",
    "    U = U_vec.reshape((NX, -1)).T\n",
    "    return U\n",
    "\n",
    "def plotU(U):\n",
    "    NX = U.shape[1]\n",
    "    NY = U.shape[0]\n",
    "    xrange = np.linspace(0, 2.0, NX)\n",
    "    yrange = np.linspace(0, 1.0, NY)\n",
    "    dx = xrange[1]-xrange[0]\n",
    "    dy = yrange[1]-yrange[0]\n",
    "    X, Y = np.meshgrid(xrange, yrange)\n",
    "    plt.rcParams['figure.figsize'] = 6, 3\n",
    "    plt.contourf(X.T, Y.T, U.T, 10)\n",
    "    plt.colorbar()\n",
    "    plt.xlabel(r'$x$')\n",
    "    plt.ylabel(r'$y$')\n",
    "\n",
    "U = runFinitDifferenceMethod(3, 20, 10)\n",
    "plotU(U)"
   ]
  },
  {
   "cell_type": "code",
   "execution_count": 9,
   "metadata": {},
   "outputs": [
    {
     "data": {
      "image/png": "[encoded data removed]",
      "text/plain": [
       "<Figure size 600x300 with 2 Axes>"
      ]
     },
     "metadata": {
      "filenames": {
       "image/png": "/home/peng/Documents/hemingway/hemingway/_build/jupyter_execute/notes/ode_finite_difference_methods_13_0.png"
      }
     },
     "output_type": "display_data"
    }
   ],
   "source": [
    "N, NX, NY = 5, 100, 100\n",
    "U = runFinitDifferenceMethod(N, NX, NY)\n",
    "plotU(U)"
   ]
  },
  {
   "cell_type": "code",
   "execution_count": 10,
   "metadata": {},
   "outputs": [
    {
     "data": {
      "text/plain": [
       "array([[0., 0., 0., 0., 0.],\n",
       "       [0., 1., 0., 0., 0.],\n",
       "       [0., 0., 1., 0., 0.],\n",
       "       [0., 0., 0., 1., 0.],\n",
       "       [0., 0., 0., 0., 0.]])"
      ]
     },
     "metadata": {},
     "output_type": "display_data"
    },
    {
     "data": {
      "text/plain": [
       "array([[0., 0., 0., 0.],\n",
       "       [0., 1., 0., 0.],\n",
       "       [0., 0., 1., 0.],\n",
       "       [0., 0., 0., 1.]])"
      ]
     },
     "metadata": {},
     "output_type": "display_data"
    },
    {
     "data": {
      "text/plain": [
       "array([[ 0.37040525, -0.68011563, -1.07456394,  2.03584458],\n",
       "       [ 1.26483766, -1.26418632, -0.38430087, -0.98268573],\n",
       "       [-1.61966331,  0.08911528,  0.48449128, -1.29157204],\n",
       "       [ 0.06854995,  0.22642158,  1.51892589, -0.75226202],\n",
       "       [ 0.23114794, -2.62695702,  0.38198424,  0.19528542]])"
      ]
     },
     "metadata": {},
     "output_type": "display_data"
    },
    {
     "data": {
      "text/plain": [
       "array([[ 0.        ,  0.        ,  0.        ,  0.        ],\n",
       "       [ 0.        , -1.26418632, -0.38430087, -0.98268573],\n",
       "       [ 0.        ,  0.08911528,  0.48449128, -1.29157204],\n",
       "       [ 0.        ,  0.22642158,  1.51892589, -0.75226202],\n",
       "       [ 0.        ,  0.        ,  0.        ,  0.        ]])"
      ]
     },
     "metadata": {},
     "output_type": "display_data"
    },
    {
     "data": {
      "text/plain": [
       "array([[ 0.37040525, -0.68011563, -1.07456394,  2.03584458],\n",
       "       [ 1.26483766,  0.        ,  0.        ,  0.        ],\n",
       "       [-1.61966331,  0.        ,  0.        ,  0.        ],\n",
       "       [ 0.06854995,  0.        ,  0.        ,  0.        ],\n",
       "       [ 0.23114794, -2.62695702,  0.38198424,  0.19528542]])"
      ]
     },
     "metadata": {},
     "output_type": "display_data"
    }
   ],
   "source": [
    "NY, NX = 5, 4\n",
    "IA, DA = np.eye(NY), np.eye(NY)\n",
    "DA[0][0], DA[-1][-1] = 0, 0\n",
    "IB, DB = np.eye(NX), np.eye(NX)\n",
    "DB[0][0], DB[-1][-1] = 0, 1\n",
    "C = np.random.randn(NY, NX)\n",
    "display(DA, DB, C, DA @ C @ DB, C - DA @ C @ DB)"
   ]
  },
  {
   "cell_type": "code",
   "execution_count": null,
   "metadata": {},
   "outputs": [],
   "source": []
  }
 ],
 "metadata": {
  "kernelspec": {
   "display_name": "Python 3.9.15 ('d2l')",
   "language": "python",
   "name": "python3"
  },
  "language_info": {
   "codemirror_mode": {
    "name": "ipython",
    "version": 3
   },
   "file_extension": ".py",
   "mimetype": "text/x-python",
   "name": "python",
   "nbconvert_exporter": "python",
   "pygments_lexer": "ipython3",
   "version": "3.10.6"
  },
  "vscode": {
   "interpreter": {
    "hash": "324a630e7612f3dbefbcda73210eb8e98154c38cb4e8fe3354db66cd87e8e286"
   }
  }
 },
 "nbformat": 4,
 "nbformat_minor": 2
}