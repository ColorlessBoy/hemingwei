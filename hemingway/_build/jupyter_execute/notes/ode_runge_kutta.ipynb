{
 "cells": [
  {
   "cell_type": "markdown",
   "metadata": {},
   "source": [
    "# ODE-Runge-Kutta"
   ]
  },
  {
   "cell_type": "markdown",
   "metadata": {},
   "source": [
    "## Runge-Kutta-RK3"
   ]
  },
  {
   "cell_type": "code",
   "execution_count": 1,
   "metadata": {},
   "outputs": [],
   "source": [
    "import sympy as sp\n",
    "def removeSub(expr):\n",
    "    if isinstance(expr, sp.Subs):\n",
    "        return expr.args[0].replace(expr.args[1][0], expr.args[2][0])\n",
    "    for arg in expr.args:\n",
    "        expr = expr.replace(arg, removeSub(arg))\n",
    "    return expr"
   ]
  },
  {
   "cell_type": "code",
   "execution_count": 2,
   "metadata": {},
   "outputs": [],
   "source": [
    "x, dx, y, dy = sp.symbols('x \\Delta{x} y \\Delta{y}')\n",
    "f, y_ = sp.symbols('f y', cls=sp.Function)"
   ]
  },
  {
   "cell_type": "code",
   "execution_count": 3,
   "metadata": {},
   "outputs": [
    {
     "data": {
      "text/latex": [
       "$\\displaystyle f{\\left(x,y \\right)}$"
      ],
      "text/plain": [
       "f(x, y)"
      ]
     },
     "metadata": {},
     "output_type": "display_data"
    },
    {
     "data": {
      "text/latex": [
       "$\\displaystyle f{\\left(x,y \\right)} \\frac{\\partial}{\\partial y} f{\\left(x,y \\right)} + \\frac{\\partial}{\\partial x} f{\\left(x,y \\right)}$"
      ],
      "text/plain": [
       "f(x, y)*Derivative(f(x, y), y) + Derivative(f(x, y), x)"
      ]
     },
     "metadata": {},
     "output_type": "display_data"
    },
    {
     "data": {
      "text/latex": [
       "$\\displaystyle f^{2}{\\left(x,y \\right)} \\frac{\\partial^{2}}{\\partial y^{2}} f{\\left(x,y \\right)} + f{\\left(x,y \\right)} \\left(\\frac{\\partial}{\\partial y} f{\\left(x,y \\right)}\\right)^{2} + 2 f{\\left(x,y \\right)} \\frac{\\partial^{2}}{\\partial y\\partial x} f{\\left(x,y \\right)} + \\frac{\\partial}{\\partial x} f{\\left(x,y \\right)} \\frac{\\partial}{\\partial y} f{\\left(x,y \\right)} + \\frac{\\partial^{2}}{\\partial x^{2}} f{\\left(x,y \\right)}$"
      ],
      "text/plain": [
       "f(x, y)**2*Derivative(f(x, y), (y, 2)) + f(x, y)*Derivative(f(x, y), y)**2 + 2*f(x, y)*Derivative(f(x, y), x, y) + Derivative(f(x, y), x)*Derivative(f(x, y), y) + Derivative(f(x, y), (x, 2))"
      ]
     },
     "metadata": {},
     "output_type": "display_data"
    },
    {
     "data": {
      "text/latex": [
       "$\\displaystyle \\frac{\\Delta{x}^{3} \\left(f^{2}{\\left(x,y \\right)} \\frac{\\partial^{2}}{\\partial y^{2}} f{\\left(x,y \\right)} + f{\\left(x,y \\right)} \\left(\\frac{\\partial}{\\partial y} f{\\left(x,y \\right)}\\right)^{2} + 2 f{\\left(x,y \\right)} \\frac{\\partial^{2}}{\\partial y\\partial x} f{\\left(x,y \\right)} + \\frac{\\partial}{\\partial x} f{\\left(x,y \\right)} \\frac{\\partial}{\\partial y} f{\\left(x,y \\right)} + \\frac{\\partial^{2}}{\\partial x^{2}} f{\\left(x,y \\right)}\\right)}{6} + \\frac{\\Delta{x}^{2} \\left(f{\\left(x,y \\right)} \\frac{\\partial}{\\partial y} f{\\left(x,y \\right)} + \\frac{\\partial}{\\partial x} f{\\left(x,y \\right)}\\right)}{2} + \\Delta{x} f{\\left(x,y \\right)} + y{\\left(x \\right)}$"
      ],
      "text/plain": [
       "\\Delta{x}**3*(f(x, y)**2*Derivative(f(x, y), (y, 2)) + f(x, y)*Derivative(f(x, y), y)**2 + 2*f(x, y)*Derivative(f(x, y), x, y) + Derivative(f(x, y), x)*Derivative(f(x, y), y) + Derivative(f(x, y), (x, 2)))/6 + \\Delta{x}**2*(f(x, y)*Derivative(f(x, y), y) + Derivative(f(x, y), x))/2 + \\Delta{x}*f(x, y) + y(x)"
      ]
     },
     "metadata": {},
     "output_type": "display_data"
    }
   ],
   "source": [
    "dy_dx = f(x, y)\n",
    "dy_dx2 = removeSub(f(x, y_(x)).diff(x).subs(y_(x).diff(x), dy_dx).subs(y_(x), y))\n",
    "dy_dx3 = removeSub(f(x, y_(x)).diff(x, 2).subs(y_(x).diff(x, 2), dy_dx2).subs(y_(x).diff(x), dy_dx).subs(y_(x), y)).expand().simplify()\n",
    "y_taylor = y_(x) + dy_dx*dx + dy_dx2*dx**2/2 + dy_dx3*dx**3/6\n",
    "display(dy_dx, dy_dx2, dy_dx3, y_taylor)"
   ]
  },
  {
   "cell_type": "code",
   "execution_count": 4,
   "metadata": {},
   "outputs": [
    {
     "data": {
      "text/latex": [
       "$\\displaystyle \\Delta{x} \\frac{\\partial}{\\partial x} f{\\left(x,y \\right)} + \\Delta{y} \\frac{\\partial}{\\partial y} f{\\left(x,y \\right)}$"
      ],
      "text/plain": [
       "\\Delta{x}*Derivative(f(x, y), x) + \\Delta{y}*Derivative(f(x, y), y)"
      ]
     },
     "metadata": {},
     "output_type": "display_data"
    },
    {
     "data": {
      "text/latex": [
       "$\\displaystyle \\Delta{x}^{2} \\frac{\\partial^{2}}{\\partial x^{2}} f{\\left(x,y \\right)} + 2 \\Delta{x} \\Delta{y} \\frac{\\partial^{2}}{\\partial y\\partial x} f{\\left(x,y \\right)} + \\Delta{y}^{2} \\frac{\\partial^{2}}{\\partial y^{2}} f{\\left(x,y \\right)}$"
      ],
      "text/plain": [
       "\\Delta{x}**2*Derivative(f(x, y), (x, 2)) + 2*\\Delta{x}*\\Delta{y}*Derivative(f(x, y), x, y) + \\Delta{y}**2*Derivative(f(x, y), (y, 2))"
      ]
     },
     "metadata": {},
     "output_type": "display_data"
    },
    {
     "data": {
      "text/latex": [
       "$\\displaystyle \\frac{\\Delta{x}^{2} \\frac{\\partial^{2}}{\\partial x^{2}} f{\\left(x,y \\right)}}{2} + \\Delta{x} \\Delta{y} \\frac{\\partial^{2}}{\\partial y\\partial x} f{\\left(x,y \\right)} + \\Delta{x} \\frac{\\partial}{\\partial x} f{\\left(x,y \\right)} + \\frac{\\Delta{y}^{2} \\frac{\\partial^{2}}{\\partial y^{2}} f{\\left(x,y \\right)}}{2} + \\Delta{y} \\frac{\\partial}{\\partial y} f{\\left(x,y \\right)} + f{\\left(x,y \\right)}$"
      ],
      "text/plain": [
       "\\Delta{x}**2*Derivative(f(x, y), (x, 2))/2 + \\Delta{x}*\\Delta{y}*Derivative(f(x, y), x, y) + \\Delta{x}*Derivative(f(x, y), x) + \\Delta{y}**2*Derivative(f(x, y), (y, 2))/2 + \\Delta{y}*Derivative(f(x, y), y) + f(x, y)"
      ]
     },
     "metadata": {},
     "output_type": "display_data"
    }
   ],
   "source": [
    "pdf1 = f(x, y).diff(x)*dx + f(x, y).diff(y)*dy\n",
    "pdf2 = (pdf1.diff(x)*dx + pdf1.diff(y)*dy).expand().simplify()\n",
    "f_taylor = f(x, y) + pdf1 + pdf2/2\n",
    "display(pdf1, pdf2, f_taylor)"
   ]
  },
  {
   "cell_type": "markdown",
   "metadata": {},
   "source": [
    "$$\n",
    "\\begin{aligned}\n",
    "y_{n+1} =& y_n + h(C_1 K_1 + C_2 K_2 + C_3 K_3)\\\\\n",
    "K_1 =& f(x_n, y_n)\\\\\n",
    "K_2 =& f(x_n + a_2 h, y_n + b_{21} h K_1)\\\\\n",
    "K_3 =& f(x_n + a_3 h, y_n + b_{31} h K_1 + b_{32} h K_2)\n",
    "\\end{aligned}\n",
    "$$"
   ]
  },
  {
   "cell_type": "code",
   "execution_count": 5,
   "metadata": {},
   "outputs": [],
   "source": [
    "C1, C2, C3 = sp.symbols('C_1 C_2 C_3')\n",
    "h, a2, a3 = sp.symbols('h a_2 a_3')\n",
    "b21, b31, b32 = sp.symbols('b_{21} b_{31} b_{32}')"
   ]
  },
  {
   "cell_type": "code",
   "execution_count": 6,
   "metadata": {},
   "outputs": [
    {
     "data": {
      "text/latex": [
       "$\\displaystyle f{\\left(x,y \\right)}$"
      ],
      "text/plain": [
       "f(x, y)"
      ]
     },
     "metadata": {},
     "output_type": "display_data"
    },
    {
     "data": {
      "text/latex": [
       "$\\displaystyle \\frac{a_{2}^{2} h^{2} \\frac{\\partial^{2}}{\\partial x^{2}} f{\\left(x,y \\right)}}{2} + a_{2} b_{21} h^{2} f{\\left(x,y \\right)} \\frac{\\partial^{2}}{\\partial y\\partial x} f{\\left(x,y \\right)} + a_{2} h \\frac{\\partial}{\\partial x} f{\\left(x,y \\right)} + \\frac{b_{21}^{2} h^{2} f^{2}{\\left(x,y \\right)} \\frac{\\partial^{2}}{\\partial y^{2}} f{\\left(x,y \\right)}}{2} + b_{21} h f{\\left(x,y \\right)} \\frac{\\partial}{\\partial y} f{\\left(x,y \\right)} + f{\\left(x,y \\right)}$"
      ],
      "text/plain": [
       "a_2**2*h**2*Derivative(f(x, y), (x, 2))/2 + a_2*b_{21}*h**2*f(x, y)*Derivative(f(x, y), x, y) + a_2*h*Derivative(f(x, y), x) + b_{21}**2*h**2*f(x, y)**2*Derivative(f(x, y), (y, 2))/2 + b_{21}*h*f(x, y)*Derivative(f(x, y), y) + f(x, y)"
      ]
     },
     "metadata": {},
     "output_type": "display_data"
    },
    {
     "data": {
      "text/latex": [
       "$\\displaystyle \\frac{a_{2}^{2} b_{32} h^{3} \\frac{\\partial^{2}}{\\partial x^{2}} f{\\left(x,y \\right)} \\frac{\\partial}{\\partial y} f{\\left(x,y \\right)}}{2} + a_{2} a_{3} b_{32} h^{3} \\frac{\\partial}{\\partial x} f{\\left(x,y \\right)} \\frac{\\partial^{2}}{\\partial y\\partial x} f{\\left(x,y \\right)} + a_{2} b_{21} b_{32} h^{3} f{\\left(x,y \\right)} \\frac{\\partial}{\\partial y} f{\\left(x,y \\right)} \\frac{\\partial^{2}}{\\partial y\\partial x} f{\\left(x,y \\right)} + a_{2} b_{31} b_{32} h^{3} f{\\left(x,y \\right)} \\frac{\\partial}{\\partial x} f{\\left(x,y \\right)} \\frac{\\partial^{2}}{\\partial y^{2}} f{\\left(x,y \\right)} + a_{2} b_{32}^{2} h^{3} f{\\left(x,y \\right)} \\frac{\\partial}{\\partial x} f{\\left(x,y \\right)} \\frac{\\partial^{2}}{\\partial y^{2}} f{\\left(x,y \\right)} + a_{2} b_{32} h^{2} \\frac{\\partial}{\\partial x} f{\\left(x,y \\right)} \\frac{\\partial}{\\partial y} f{\\left(x,y \\right)} + \\frac{a_{3}^{2} h^{2} \\frac{\\partial^{2}}{\\partial x^{2}} f{\\left(x,y \\right)}}{2} + a_{3} b_{21} b_{32} h^{3} f{\\left(x,y \\right)} \\frac{\\partial}{\\partial y} f{\\left(x,y \\right)} \\frac{\\partial^{2}}{\\partial y\\partial x} f{\\left(x,y \\right)} + a_{3} b_{31} h^{2} f{\\left(x,y \\right)} \\frac{\\partial^{2}}{\\partial y\\partial x} f{\\left(x,y \\right)} + a_{3} b_{32} h^{2} f{\\left(x,y \\right)} \\frac{\\partial^{2}}{\\partial y\\partial x} f{\\left(x,y \\right)} + a_{3} h \\frac{\\partial}{\\partial x} f{\\left(x,y \\right)} + \\frac{b_{21}^{2} b_{32} h^{3} f^{2}{\\left(x,y \\right)} \\frac{\\partial}{\\partial y} f{\\left(x,y \\right)} \\frac{\\partial^{2}}{\\partial y^{2}} f{\\left(x,y \\right)}}{2} + b_{21} b_{31} b_{32} h^{3} f^{2}{\\left(x,y \\right)} \\frac{\\partial}{\\partial y} f{\\left(x,y \\right)} \\frac{\\partial^{2}}{\\partial y^{2}} f{\\left(x,y \\right)} + b_{21} b_{32}^{2} h^{3} f^{2}{\\left(x,y \\right)} \\frac{\\partial}{\\partial y} f{\\left(x,y \\right)} \\frac{\\partial^{2}}{\\partial y^{2}} f{\\left(x,y \\right)} + b_{21} b_{32} h^{2} f{\\left(x,y \\right)} \\left(\\frac{\\partial}{\\partial y} f{\\left(x,y \\right)}\\right)^{2} + \\frac{b_{31}^{2} h^{2} f^{2}{\\left(x,y \\right)} \\frac{\\partial^{2}}{\\partial y^{2}} f{\\left(x,y \\right)}}{2} + b_{31} b_{32} h^{2} f^{2}{\\left(x,y \\right)} \\frac{\\partial^{2}}{\\partial y^{2}} f{\\left(x,y \\right)} + b_{31} h f{\\left(x,y \\right)} \\frac{\\partial}{\\partial y} f{\\left(x,y \\right)} + \\frac{b_{32}^{2} h^{2} f^{2}{\\left(x,y \\right)} \\frac{\\partial^{2}}{\\partial y^{2}} f{\\left(x,y \\right)}}{2} + b_{32} h f{\\left(x,y \\right)} \\frac{\\partial}{\\partial y} f{\\left(x,y \\right)} + f{\\left(x,y \\right)}$"
      ],
      "text/plain": [
       "a_2**2*b_{32}*h**3*Derivative(f(x, y), (x, 2))*Derivative(f(x, y), y)/2 + a_2*a_3*b_{32}*h**3*Derivative(f(x, y), x)*Derivative(f(x, y), x, y) + a_2*b_{21}*b_{32}*h**3*f(x, y)*Derivative(f(x, y), y)*Derivative(f(x, y), x, y) + a_2*b_{31}*b_{32}*h**3*f(x, y)*Derivative(f(x, y), x)*Derivative(f(x, y), (y, 2)) + a_2*b_{32}**2*h**3*f(x, y)*Derivative(f(x, y), x)*Derivative(f(x, y), (y, 2)) + a_2*b_{32}*h**2*Derivative(f(x, y), x)*Derivative(f(x, y), y) + a_3**2*h**2*Derivative(f(x, y), (x, 2))/2 + a_3*b_{21}*b_{32}*h**3*f(x, y)*Derivative(f(x, y), y)*Derivative(f(x, y), x, y) + a_3*b_{31}*h**2*f(x, y)*Derivative(f(x, y), x, y) + a_3*b_{32}*h**2*f(x, y)*Derivative(f(x, y), x, y) + a_3*h*Derivative(f(x, y), x) + b_{21}**2*b_{32}*h**3*f(x, y)**2*Derivative(f(x, y), y)*Derivative(f(x, y), (y, 2))/2 + b_{21}*b_{31}*b_{32}*h**3*f(x, y)**2*Derivative(f(x, y), y)*Derivative(f(x, y), (y, 2)) + b_{21}*b_{32}**2*h**3*f(x, y)**2*Derivative(f(x, y), y)*Derivative(f(x, y), (y, 2)) + b_{21}*b_{32}*h**2*f(x, y)*Derivative(f(x, y), y)**2 + b_{31}**2*h**2*f(x, y)**2*Derivative(f(x, y), (y, 2))/2 + b_{31}*b_{32}*h**2*f(x, y)**2*Derivative(f(x, y), (y, 2)) + b_{31}*h*f(x, y)*Derivative(f(x, y), y) + b_{32}**2*h**2*f(x, y)**2*Derivative(f(x, y), (y, 2))/2 + b_{32}*h*f(x, y)*Derivative(f(x, y), y) + f(x, y)"
      ]
     },
     "metadata": {},
     "output_type": "display_data"
    },
    {
     "data": {
      "text/latex": [
       "$\\displaystyle C_{1} h f{\\left(x,y \\right)} + \\frac{C_{2} a_{2}^{2} h^{3} \\frac{\\partial^{2}}{\\partial x^{2}} f{\\left(x,y \\right)}}{2} + C_{2} a_{2} b_{21} h^{3} f{\\left(x,y \\right)} \\frac{\\partial^{2}}{\\partial y\\partial x} f{\\left(x,y \\right)} + C_{2} a_{2} h^{2} \\frac{\\partial}{\\partial x} f{\\left(x,y \\right)} + \\frac{C_{2} b_{21}^{2} h^{3} f^{2}{\\left(x,y \\right)} \\frac{\\partial^{2}}{\\partial y^{2}} f{\\left(x,y \\right)}}{2} + C_{2} b_{21} h^{2} f{\\left(x,y \\right)} \\frac{\\partial}{\\partial y} f{\\left(x,y \\right)} + C_{2} h f{\\left(x,y \\right)} + \\frac{C_{3} a_{2}^{2} b_{32} h^{4} \\frac{\\partial^{2}}{\\partial x^{2}} f{\\left(x,y \\right)} \\frac{\\partial}{\\partial y} f{\\left(x,y \\right)}}{2} + C_{3} a_{2} a_{3} b_{32} h^{4} \\frac{\\partial}{\\partial x} f{\\left(x,y \\right)} \\frac{\\partial^{2}}{\\partial y\\partial x} f{\\left(x,y \\right)} + C_{3} a_{2} b_{21} b_{32} h^{4} f{\\left(x,y \\right)} \\frac{\\partial}{\\partial y} f{\\left(x,y \\right)} \\frac{\\partial^{2}}{\\partial y\\partial x} f{\\left(x,y \\right)} + C_{3} a_{2} b_{31} b_{32} h^{4} f{\\left(x,y \\right)} \\frac{\\partial}{\\partial x} f{\\left(x,y \\right)} \\frac{\\partial^{2}}{\\partial y^{2}} f{\\left(x,y \\right)} + C_{3} a_{2} b_{32}^{2} h^{4} f{\\left(x,y \\right)} \\frac{\\partial}{\\partial x} f{\\left(x,y \\right)} \\frac{\\partial^{2}}{\\partial y^{2}} f{\\left(x,y \\right)} + C_{3} a_{2} b_{32} h^{3} \\frac{\\partial}{\\partial x} f{\\left(x,y \\right)} \\frac{\\partial}{\\partial y} f{\\left(x,y \\right)} + \\frac{C_{3} a_{3}^{2} h^{3} \\frac{\\partial^{2}}{\\partial x^{2}} f{\\left(x,y \\right)}}{2} + C_{3} a_{3} b_{21} b_{32} h^{4} f{\\left(x,y \\right)} \\frac{\\partial}{\\partial y} f{\\left(x,y \\right)} \\frac{\\partial^{2}}{\\partial y\\partial x} f{\\left(x,y \\right)} + C_{3} a_{3} b_{31} h^{3} f{\\left(x,y \\right)} \\frac{\\partial^{2}}{\\partial y\\partial x} f{\\left(x,y \\right)} + C_{3} a_{3} b_{32} h^{3} f{\\left(x,y \\right)} \\frac{\\partial^{2}}{\\partial y\\partial x} f{\\left(x,y \\right)} + C_{3} a_{3} h^{2} \\frac{\\partial}{\\partial x} f{\\left(x,y \\right)} + \\frac{C_{3} b_{21}^{2} b_{32} h^{4} f^{2}{\\left(x,y \\right)} \\frac{\\partial}{\\partial y} f{\\left(x,y \\right)} \\frac{\\partial^{2}}{\\partial y^{2}} f{\\left(x,y \\right)}}{2} + C_{3} b_{21} b_{31} b_{32} h^{4} f^{2}{\\left(x,y \\right)} \\frac{\\partial}{\\partial y} f{\\left(x,y \\right)} \\frac{\\partial^{2}}{\\partial y^{2}} f{\\left(x,y \\right)} + C_{3} b_{21} b_{32}^{2} h^{4} f^{2}{\\left(x,y \\right)} \\frac{\\partial}{\\partial y} f{\\left(x,y \\right)} \\frac{\\partial^{2}}{\\partial y^{2}} f{\\left(x,y \\right)} + C_{3} b_{21} b_{32} h^{3} f{\\left(x,y \\right)} \\left(\\frac{\\partial}{\\partial y} f{\\left(x,y \\right)}\\right)^{2} + \\frac{C_{3} b_{31}^{2} h^{3} f^{2}{\\left(x,y \\right)} \\frac{\\partial^{2}}{\\partial y^{2}} f{\\left(x,y \\right)}}{2} + C_{3} b_{31} b_{32} h^{3} f^{2}{\\left(x,y \\right)} \\frac{\\partial^{2}}{\\partial y^{2}} f{\\left(x,y \\right)} + C_{3} b_{31} h^{2} f{\\left(x,y \\right)} \\frac{\\partial}{\\partial y} f{\\left(x,y \\right)} + \\frac{C_{3} b_{32}^{2} h^{3} f^{2}{\\left(x,y \\right)} \\frac{\\partial^{2}}{\\partial y^{2}} f{\\left(x,y \\right)}}{2} + C_{3} b_{32} h^{2} f{\\left(x,y \\right)} \\frac{\\partial}{\\partial y} f{\\left(x,y \\right)} + C_{3} h f{\\left(x,y \\right)} + y{\\left(x \\right)}$"
      ],
      "text/plain": [
       "C_1*h*f(x, y) + C_2*a_2**2*h**3*Derivative(f(x, y), (x, 2))/2 + C_2*a_2*b_{21}*h**3*f(x, y)*Derivative(f(x, y), x, y) + C_2*a_2*h**2*Derivative(f(x, y), x) + C_2*b_{21}**2*h**3*f(x, y)**2*Derivative(f(x, y), (y, 2))/2 + C_2*b_{21}*h**2*f(x, y)*Derivative(f(x, y), y) + C_2*h*f(x, y) + C_3*a_2**2*b_{32}*h**4*Derivative(f(x, y), (x, 2))*Derivative(f(x, y), y)/2 + C_3*a_2*a_3*b_{32}*h**4*Derivative(f(x, y), x)*Derivative(f(x, y), x, y) + C_3*a_2*b_{21}*b_{32}*h**4*f(x, y)*Derivative(f(x, y), y)*Derivative(f(x, y), x, y) + C_3*a_2*b_{31}*b_{32}*h**4*f(x, y)*Derivative(f(x, y), x)*Derivative(f(x, y), (y, 2)) + C_3*a_2*b_{32}**2*h**4*f(x, y)*Derivative(f(x, y), x)*Derivative(f(x, y), (y, 2)) + C_3*a_2*b_{32}*h**3*Derivative(f(x, y), x)*Derivative(f(x, y), y) + C_3*a_3**2*h**3*Derivative(f(x, y), (x, 2))/2 + C_3*a_3*b_{21}*b_{32}*h**4*f(x, y)*Derivative(f(x, y), y)*Derivative(f(x, y), x, y) + C_3*a_3*b_{31}*h**3*f(x, y)*Derivative(f(x, y), x, y) + C_3*a_3*b_{32}*h**3*f(x, y)*Derivative(f(x, y), x, y) + C_3*a_3*h**2*Derivative(f(x, y), x) + C_3*b_{21}**2*b_{32}*h**4*f(x, y)**2*Derivative(f(x, y), y)*Derivative(f(x, y), (y, 2))/2 + C_3*b_{21}*b_{31}*b_{32}*h**4*f(x, y)**2*Derivative(f(x, y), y)*Derivative(f(x, y), (y, 2)) + C_3*b_{21}*b_{32}**2*h**4*f(x, y)**2*Derivative(f(x, y), y)*Derivative(f(x, y), (y, 2)) + C_3*b_{21}*b_{32}*h**3*f(x, y)*Derivative(f(x, y), y)**2 + C_3*b_{31}**2*h**3*f(x, y)**2*Derivative(f(x, y), (y, 2))/2 + C_3*b_{31}*b_{32}*h**3*f(x, y)**2*Derivative(f(x, y), (y, 2)) + C_3*b_{31}*h**2*f(x, y)*Derivative(f(x, y), y) + C_3*b_{32}**2*h**3*f(x, y)**2*Derivative(f(x, y), (y, 2))/2 + C_3*b_{32}*h**2*f(x, y)*Derivative(f(x, y), y) + C_3*h*f(x, y) + y(x)"
      ]
     },
     "metadata": {},
     "output_type": "display_data"
    }
   ],
   "source": [
    "K1 = f(x, y)\n",
    "K2 = (f_taylor.subs([(dx, a2*h), (dy, b21*h*K1)])+sp.O(h**4)).expand().removeO()\n",
    "K3 = (f_taylor.subs([(dx, a3*h), (dy, b31*h*K1 + b32*h*K2)])+sp.O(h**4)).expand().removeO()\n",
    "ynp1 = (y_(x) + h * (C1*K1 + C2*K2 + C3*K3)).expand()\n",
    "display(K1, K2, K3, ynp1)"
   ]
  },
  {
   "cell_type": "code",
   "execution_count": 7,
   "metadata": {},
   "outputs": [
    {
     "data": {
      "text/latex": [
       "$\\displaystyle \\frac{h^{3} f^{2}{\\left(x,y \\right)} \\frac{\\partial^{2}}{\\partial y^{2}} f{\\left(x,y \\right)}}{6} + \\frac{h^{3} f{\\left(x,y \\right)} \\left(\\frac{\\partial}{\\partial y} f{\\left(x,y \\right)}\\right)^{2}}{6} + \\frac{h^{3} f{\\left(x,y \\right)} \\frac{\\partial^{2}}{\\partial y\\partial x} f{\\left(x,y \\right)}}{3} + \\frac{h^{3} \\frac{\\partial}{\\partial x} f{\\left(x,y \\right)} \\frac{\\partial}{\\partial y} f{\\left(x,y \\right)}}{6} + \\frac{h^{3} \\frac{\\partial^{2}}{\\partial x^{2}} f{\\left(x,y \\right)}}{6} + \\frac{h^{2} f{\\left(x,y \\right)} \\frac{\\partial}{\\partial y} f{\\left(x,y \\right)}}{2} + \\frac{h^{2} \\frac{\\partial}{\\partial x} f{\\left(x,y \\right)}}{2} + h f{\\left(x,y \\right)} + y{\\left(x \\right)}$"
      ],
      "text/plain": [
       "h**3*f(x, y)**2*Derivative(f(x, y), (y, 2))/6 + h**3*f(x, y)*Derivative(f(x, y), y)**2/6 + h**3*f(x, y)*Derivative(f(x, y), x, y)/3 + h**3*Derivative(f(x, y), x)*Derivative(f(x, y), y)/6 + h**3*Derivative(f(x, y), (x, 2))/6 + h**2*f(x, y)*Derivative(f(x, y), y)/2 + h**2*Derivative(f(x, y), x)/2 + h*f(x, y) + y(x)"
      ]
     },
     "metadata": {},
     "output_type": "display_data"
    },
    {
     "data": {
      "text/latex": [
       "$\\displaystyle C_{1} h f{\\left(x,y \\right)} + \\frac{C_{2} a_{2}^{2} h^{3} \\frac{\\partial^{2}}{\\partial x^{2}} f{\\left(x,y \\right)}}{2} + C_{2} a_{2} b_{21} h^{3} f{\\left(x,y \\right)} \\frac{\\partial^{2}}{\\partial y\\partial x} f{\\left(x,y \\right)} + C_{2} a_{2} h^{2} \\frac{\\partial}{\\partial x} f{\\left(x,y \\right)} + \\frac{C_{2} b_{21}^{2} h^{3} f^{2}{\\left(x,y \\right)} \\frac{\\partial^{2}}{\\partial y^{2}} f{\\left(x,y \\right)}}{2} + C_{2} b_{21} h^{2} f{\\left(x,y \\right)} \\frac{\\partial}{\\partial y} f{\\left(x,y \\right)} + C_{2} h f{\\left(x,y \\right)} + \\frac{C_{3} a_{2}^{2} b_{32} h^{4} \\frac{\\partial^{2}}{\\partial x^{2}} f{\\left(x,y \\right)} \\frac{\\partial}{\\partial y} f{\\left(x,y \\right)}}{2} + C_{3} a_{2} a_{3} b_{32} h^{4} \\frac{\\partial}{\\partial x} f{\\left(x,y \\right)} \\frac{\\partial^{2}}{\\partial y\\partial x} f{\\left(x,y \\right)} + C_{3} a_{2} b_{21} b_{32} h^{4} f{\\left(x,y \\right)} \\frac{\\partial}{\\partial y} f{\\left(x,y \\right)} \\frac{\\partial^{2}}{\\partial y\\partial x} f{\\left(x,y \\right)} + C_{3} a_{2} b_{31} b_{32} h^{4} f{\\left(x,y \\right)} \\frac{\\partial}{\\partial x} f{\\left(x,y \\right)} \\frac{\\partial^{2}}{\\partial y^{2}} f{\\left(x,y \\right)} + C_{3} a_{2} b_{32}^{2} h^{4} f{\\left(x,y \\right)} \\frac{\\partial}{\\partial x} f{\\left(x,y \\right)} \\frac{\\partial^{2}}{\\partial y^{2}} f{\\left(x,y \\right)} + C_{3} a_{2} b_{32} h^{3} \\frac{\\partial}{\\partial x} f{\\left(x,y \\right)} \\frac{\\partial}{\\partial y} f{\\left(x,y \\right)} + \\frac{C_{3} a_{3}^{2} h^{3} \\frac{\\partial^{2}}{\\partial x^{2}} f{\\left(x,y \\right)}}{2} + C_{3} a_{3} b_{21} b_{32} h^{4} f{\\left(x,y \\right)} \\frac{\\partial}{\\partial y} f{\\left(x,y \\right)} \\frac{\\partial^{2}}{\\partial y\\partial x} f{\\left(x,y \\right)} + C_{3} a_{3} b_{31} h^{3} f{\\left(x,y \\right)} \\frac{\\partial^{2}}{\\partial y\\partial x} f{\\left(x,y \\right)} + C_{3} a_{3} b_{32} h^{3} f{\\left(x,y \\right)} \\frac{\\partial^{2}}{\\partial y\\partial x} f{\\left(x,y \\right)} + C_{3} a_{3} h^{2} \\frac{\\partial}{\\partial x} f{\\left(x,y \\right)} + \\frac{C_{3} b_{21}^{2} b_{32} h^{4} f^{2}{\\left(x,y \\right)} \\frac{\\partial}{\\partial y} f{\\left(x,y \\right)} \\frac{\\partial^{2}}{\\partial y^{2}} f{\\left(x,y \\right)}}{2} + C_{3} b_{21} b_{31} b_{32} h^{4} f^{2}{\\left(x,y \\right)} \\frac{\\partial}{\\partial y} f{\\left(x,y \\right)} \\frac{\\partial^{2}}{\\partial y^{2}} f{\\left(x,y \\right)} + C_{3} b_{21} b_{32}^{2} h^{4} f^{2}{\\left(x,y \\right)} \\frac{\\partial}{\\partial y} f{\\left(x,y \\right)} \\frac{\\partial^{2}}{\\partial y^{2}} f{\\left(x,y \\right)} + C_{3} b_{21} b_{32} h^{3} f{\\left(x,y \\right)} \\left(\\frac{\\partial}{\\partial y} f{\\left(x,y \\right)}\\right)^{2} + \\frac{C_{3} b_{31}^{2} h^{3} f^{2}{\\left(x,y \\right)} \\frac{\\partial^{2}}{\\partial y^{2}} f{\\left(x,y \\right)}}{2} + C_{3} b_{31} b_{32} h^{3} f^{2}{\\left(x,y \\right)} \\frac{\\partial^{2}}{\\partial y^{2}} f{\\left(x,y \\right)} + C_{3} b_{31} h^{2} f{\\left(x,y \\right)} \\frac{\\partial}{\\partial y} f{\\left(x,y \\right)} + \\frac{C_{3} b_{32}^{2} h^{3} f^{2}{\\left(x,y \\right)} \\frac{\\partial^{2}}{\\partial y^{2}} f{\\left(x,y \\right)}}{2} + C_{3} b_{32} h^{2} f{\\left(x,y \\right)} \\frac{\\partial}{\\partial y} f{\\left(x,y \\right)} + C_{3} h f{\\left(x,y \\right)} - \\frac{h^{3} f^{2}{\\left(x,y \\right)} \\frac{\\partial^{2}}{\\partial y^{2}} f{\\left(x,y \\right)}}{6} - \\frac{h^{3} f{\\left(x,y \\right)} \\left(\\frac{\\partial}{\\partial y} f{\\left(x,y \\right)}\\right)^{2}}{6} - \\frac{h^{3} f{\\left(x,y \\right)} \\frac{\\partial^{2}}{\\partial y\\partial x} f{\\left(x,y \\right)}}{3} - \\frac{h^{3} \\frac{\\partial}{\\partial x} f{\\left(x,y \\right)} \\frac{\\partial}{\\partial y} f{\\left(x,y \\right)}}{6} - \\frac{h^{3} \\frac{\\partial^{2}}{\\partial x^{2}} f{\\left(x,y \\right)}}{6} - \\frac{h^{2} f{\\left(x,y \\right)} \\frac{\\partial}{\\partial y} f{\\left(x,y \\right)}}{2} - \\frac{h^{2} \\frac{\\partial}{\\partial x} f{\\left(x,y \\right)}}{2} - h f{\\left(x,y \\right)}$"
      ],
      "text/plain": [
       "C_1*h*f(x, y) + C_2*a_2**2*h**3*Derivative(f(x, y), (x, 2))/2 + C_2*a_2*b_{21}*h**3*f(x, y)*Derivative(f(x, y), x, y) + C_2*a_2*h**2*Derivative(f(x, y), x) + C_2*b_{21}**2*h**3*f(x, y)**2*Derivative(f(x, y), (y, 2))/2 + C_2*b_{21}*h**2*f(x, y)*Derivative(f(x, y), y) + C_2*h*f(x, y) + C_3*a_2**2*b_{32}*h**4*Derivative(f(x, y), (x, 2))*Derivative(f(x, y), y)/2 + C_3*a_2*a_3*b_{32}*h**4*Derivative(f(x, y), x)*Derivative(f(x, y), x, y) + C_3*a_2*b_{21}*b_{32}*h**4*f(x, y)*Derivative(f(x, y), y)*Derivative(f(x, y), x, y) + C_3*a_2*b_{31}*b_{32}*h**4*f(x, y)*Derivative(f(x, y), x)*Derivative(f(x, y), (y, 2)) + C_3*a_2*b_{32}**2*h**4*f(x, y)*Derivative(f(x, y), x)*Derivative(f(x, y), (y, 2)) + C_3*a_2*b_{32}*h**3*Derivative(f(x, y), x)*Derivative(f(x, y), y) + C_3*a_3**2*h**3*Derivative(f(x, y), (x, 2))/2 + C_3*a_3*b_{21}*b_{32}*h**4*f(x, y)*Derivative(f(x, y), y)*Derivative(f(x, y), x, y) + C_3*a_3*b_{31}*h**3*f(x, y)*Derivative(f(x, y), x, y) + C_3*a_3*b_{32}*h**3*f(x, y)*Derivative(f(x, y), x, y) + C_3*a_3*h**2*Derivative(f(x, y), x) + C_3*b_{21}**2*b_{32}*h**4*f(x, y)**2*Derivative(f(x, y), y)*Derivative(f(x, y), (y, 2))/2 + C_3*b_{21}*b_{31}*b_{32}*h**4*f(x, y)**2*Derivative(f(x, y), y)*Derivative(f(x, y), (y, 2)) + C_3*b_{21}*b_{32}**2*h**4*f(x, y)**2*Derivative(f(x, y), y)*Derivative(f(x, y), (y, 2)) + C_3*b_{21}*b_{32}*h**3*f(x, y)*Derivative(f(x, y), y)**2 + C_3*b_{31}**2*h**3*f(x, y)**2*Derivative(f(x, y), (y, 2))/2 + C_3*b_{31}*b_{32}*h**3*f(x, y)**2*Derivative(f(x, y), (y, 2)) + C_3*b_{31}*h**2*f(x, y)*Derivative(f(x, y), y) + C_3*b_{32}**2*h**3*f(x, y)**2*Derivative(f(x, y), (y, 2))/2 + C_3*b_{32}*h**2*f(x, y)*Derivative(f(x, y), y) + C_3*h*f(x, y) - h**3*f(x, y)**2*Derivative(f(x, y), (y, 2))/6 - h**3*f(x, y)*Derivative(f(x, y), y)**2/6 - h**3*f(x, y)*Derivative(f(x, y), x, y)/3 - h**3*Derivative(f(x, y), x)*Derivative(f(x, y), y)/6 - h**3*Derivative(f(x, y), (x, 2))/6 - h**2*f(x, y)*Derivative(f(x, y), y)/2 - h**2*Derivative(f(x, y), x)/2 - h*f(x, y)"
      ]
     },
     "metadata": {},
     "output_type": "display_data"
    }
   ],
   "source": [
    "target_ynp1 = y_taylor.subs(dx, h).expand()\n",
    "diff = ynp1 - target_ynp1\n",
    "display(target_ynp1)\n",
    "display(diff)"
   ]
  },
  {
   "cell_type": "code",
   "execution_count": 8,
   "metadata": {},
   "outputs": [
    {
     "name": "stdout",
     "output_type": "stream",
     "text": [
      "8\n"
     ]
    },
    {
     "data": {
      "text/latex": [
       "$\\displaystyle C_{1} + C_{2} + C_{3} - 1$"
      ],
      "text/plain": [
       "C_1 + C_2 + C_3 - 1"
      ]
     },
     "metadata": {},
     "output_type": "display_data"
    },
    {
     "data": {
      "text/latex": [
       "$\\displaystyle C_{2} a_{2} + C_{3} a_{3} - \\frac{1}{2}$"
      ],
      "text/plain": [
       "C_2*a_2 + C_3*a_3 - 1/2"
      ]
     },
     "metadata": {},
     "output_type": "display_data"
    },
    {
     "data": {
      "text/latex": [
       "$\\displaystyle C_{2} b_{21} + C_{3} b_{31} + C_{3} b_{32} - \\frac{1}{2}$"
      ],
      "text/plain": [
       "C_2*b_{21} + C_3*b_{31} + C_3*b_{32} - 1/2"
      ]
     },
     "metadata": {},
     "output_type": "display_data"
    },
    {
     "data": {
      "text/latex": [
       "$\\displaystyle \\frac{C_{2} a_{2}^{2}}{2} + \\frac{C_{3} a_{3}^{2}}{2} - \\frac{1}{6}$"
      ],
      "text/plain": [
       "C_2*a_2**2/2 + C_3*a_3**2/2 - 1/6"
      ]
     },
     "metadata": {},
     "output_type": "display_data"
    },
    {
     "data": {
      "text/latex": [
       "$\\displaystyle C_{2} a_{2} b_{21} + C_{3} a_{3} b_{31} + C_{3} a_{3} b_{32} - \\frac{1}{3}$"
      ],
      "text/plain": [
       "C_2*a_2*b_{21} + C_3*a_3*b_{31} + C_3*a_3*b_{32} - 1/3"
      ]
     },
     "metadata": {},
     "output_type": "display_data"
    },
    {
     "data": {
      "text/latex": [
       "$\\displaystyle C_{3} b_{21} b_{32} - \\frac{1}{6}$"
      ],
      "text/plain": [
       "C_3*b_{21}*b_{32} - 1/6"
      ]
     },
     "metadata": {},
     "output_type": "display_data"
    },
    {
     "data": {
      "text/latex": [
       "$\\displaystyle \\frac{C_{2} b_{21}^{2}}{2} + \\frac{C_{3} b_{31}^{2}}{2} + C_{3} b_{31} b_{32} + \\frac{C_{3} b_{32}^{2}}{2} - \\frac{1}{6}$"
      ],
      "text/plain": [
       "C_2*b_{21}**2/2 + C_3*b_{31}**2/2 + C_3*b_{31}*b_{32} + C_3*b_{32}**2/2 - 1/6"
      ]
     },
     "metadata": {},
     "output_type": "display_data"
    },
    {
     "data": {
      "text/latex": [
       "$\\displaystyle C_{3} a_{2} b_{32} - \\frac{1}{6}$"
      ],
      "text/plain": [
       "C_3*a_2*b_{32} - 1/6"
      ]
     },
     "metadata": {},
     "output_type": "display_data"
    }
   ],
   "source": [
    "params = [C1, C2, C3, h, a2, a3, b21, b31, b32]\n",
    "conds = []\n",
    "for p in range(1, 4):\n",
    "    part_p = diff.coeff(h, p)\n",
    "    for arg in part_p.args:\n",
    "        tmp = 1\n",
    "        for parts in arg.args:\n",
    "            if not parts.is_number and not parts.has(*params):\n",
    "                tmp *= parts\n",
    "        cond = part_p.coeff(tmp, 1)\n",
    "        if cond not in conds:\n",
    "            conds.append(cond)\n",
    "print(len(conds))\n",
    "display(*conds)"
   ]
  },
  {
   "cell_type": "code",
   "execution_count": 9,
   "metadata": {},
   "outputs": [
    {
     "data": {
      "text/latex": [
       "$\\displaystyle \\frac{C_{2} \\left(a_{2} - b_{21}\\right)^{2}}{2} + \\frac{C_{3} \\left(a_{3} - b_{31} - b_{32}\\right)^{2}}{2}$"
      ],
      "text/plain": [
       "C_2*(a_2 - b_{21})**2/2 + C_3*(a_3 - b_{31} - b_{32})**2/2"
      ]
     },
     "metadata": {},
     "output_type": "display_data"
    },
    {
     "data": {
      "text/latex": [
       "$\\displaystyle \\frac{C_{2} a_{2}^{2}}{2} - C_{2} a_{2} b_{21} + \\frac{C_{2} b_{21}^{2}}{2} + \\frac{C_{3} a_{3}^{2}}{2} - C_{3} a_{3} b_{31} - C_{3} a_{3} b_{32} + \\frac{C_{3} b_{31}^{2}}{2} + C_{3} b_{31} b_{32} + \\frac{C_{3} b_{32}^{2}}{2}$"
      ],
      "text/plain": [
       "C_2*a_2**2/2 - C_2*a_2*b_{21} + C_2*b_{21}**2/2 + C_3*a_3**2/2 - C_3*a_3*b_{31} - C_3*a_3*b_{32} + C_3*b_{31}**2/2 + C_3*b_{31}*b_{32} + C_3*b_{32}**2/2"
      ]
     },
     "metadata": {},
     "output_type": "display_data"
    },
    {
     "data": {
      "text/latex": [
       "$\\displaystyle 0$"
      ],
      "text/plain": [
       "0"
      ]
     },
     "metadata": {},
     "output_type": "display_data"
    }
   ],
   "source": [
    "a = C2*(a2 - b21)**2/2 + C3*(a3 - b31 - b32)**2/2\n",
    "b = conds[3] - conds[4] + conds[6]\n",
    "display(a, b, a.expand()-b)"
   ]
  },
  {
   "cell_type": "code",
   "execution_count": 10,
   "metadata": {},
   "outputs": [
    {
     "data": {
      "text/latex": [
       "$\\displaystyle 0 = a_{2} - b_{21}$"
      ],
      "text/plain": [
       "Eq(0, a_2 - b_{21})"
      ]
     },
     "metadata": {},
     "output_type": "display_data"
    },
    {
     "data": {
      "text/latex": [
       "$\\displaystyle 0 = a_{3} - b_{31} - b_{32}$"
      ],
      "text/plain": [
       "Eq(0, a_3 - b_{31} - b_{32})"
      ]
     },
     "metadata": {},
     "output_type": "display_data"
    },
    {
     "data": {
      "text/latex": [
       "$\\displaystyle 0 = C_{1} + C_{2} + C_{3} - 1$"
      ],
      "text/plain": [
       "Eq(0, C_1 + C_2 + C_3 - 1)"
      ]
     },
     "metadata": {},
     "output_type": "display_data"
    },
    {
     "data": {
      "text/latex": [
       "$\\displaystyle 0 = C_{2} a_{2} + C_{3} a_{3} - \\frac{1}{2}$"
      ],
      "text/plain": [
       "Eq(0, C_2*a_2 + C_3*a_3 - 1/2)"
      ]
     },
     "metadata": {},
     "output_type": "display_data"
    },
    {
     "data": {
      "text/latex": [
       "$\\displaystyle 0 = C_{2} a_{2}^{2} + C_{3} a_{3}^{2} - \\frac{1}{3}$"
      ],
      "text/plain": [
       "Eq(0, C_2*a_2**2 + C_3*a_3**2 - 1/3)"
      ]
     },
     "metadata": {},
     "output_type": "display_data"
    },
    {
     "data": {
      "text/latex": [
       "$\\displaystyle 0 = C_{3} a_{2} b_{32} - \\frac{1}{6}$"
      ],
      "text/plain": [
       "Eq(0, C_3*a_2*b_{32} - 1/6)"
      ]
     },
     "metadata": {},
     "output_type": "display_data"
    }
   ],
   "source": [
    "conds_simp = [\n",
    "    sp.Eq(0, a2 - b21),\n",
    "    sp.Eq(0, a3 - b31 - b32),\n",
    "    sp.Eq(0, conds[0]),\n",
    "    sp.Eq(0, conds[1]),\n",
    "    sp.Eq(0, conds[3]*2),\n",
    "    sp.Eq(0, conds[7])\n",
    "]\n",
    "display(*conds_simp)"
   ]
  },
  {
   "cell_type": "markdown",
   "metadata": {},
   "source": [
    "## Runge-Kutta-RK4"
   ]
  },
  {
   "cell_type": "code",
   "execution_count": 11,
   "metadata": {},
   "outputs": [],
   "source": [
    "import sympy as sp\n",
    "def removeSub(expr):\n",
    "    if isinstance(expr, sp.Subs):\n",
    "        return expr.args[0].replace(expr.args[1][0], expr.args[2][0])\n",
    "    for arg in expr.args:\n",
    "        expr = expr.replace(arg, removeSub(arg))\n",
    "    return expr"
   ]
  },
  {
   "cell_type": "code",
   "execution_count": 12,
   "metadata": {},
   "outputs": [],
   "source": [
    "x, dx, y, dy = sp.symbols('x \\Delta{x} y \\Delta{y}')\n",
    "f, y_ = sp.symbols('f y', cls=sp.Function)"
   ]
  },
  {
   "cell_type": "code",
   "execution_count": 13,
   "metadata": {},
   "outputs": [
    {
     "data": {
      "text/latex": [
       "$\\displaystyle f{\\left(x,y \\right)}$"
      ],
      "text/plain": [
       "f(x, y)"
      ]
     },
     "metadata": {},
     "output_type": "display_data"
    },
    {
     "data": {
      "text/latex": [
       "$\\displaystyle f{\\left(x,y \\right)} \\frac{\\partial}{\\partial y} f{\\left(x,y \\right)} + \\frac{\\partial}{\\partial x} f{\\left(x,y \\right)}$"
      ],
      "text/plain": [
       "f(x, y)*Derivative(f(x, y), y) + Derivative(f(x, y), x)"
      ]
     },
     "metadata": {},
     "output_type": "display_data"
    },
    {
     "data": {
      "text/latex": [
       "$\\displaystyle f^{2}{\\left(x,y \\right)} \\frac{\\partial^{2}}{\\partial y^{2}} f{\\left(x,y \\right)} + f{\\left(x,y \\right)} \\left(\\frac{\\partial}{\\partial y} f{\\left(x,y \\right)}\\right)^{2} + 2 f{\\left(x,y \\right)} \\frac{\\partial^{2}}{\\partial y\\partial x} f{\\left(x,y \\right)} + \\frac{\\partial}{\\partial x} f{\\left(x,y \\right)} \\frac{\\partial}{\\partial y} f{\\left(x,y \\right)} + \\frac{\\partial^{2}}{\\partial x^{2}} f{\\left(x,y \\right)}$"
      ],
      "text/plain": [
       "f(x, y)**2*Derivative(f(x, y), (y, 2)) + f(x, y)*Derivative(f(x, y), y)**2 + 2*f(x, y)*Derivative(f(x, y), x, y) + Derivative(f(x, y), x)*Derivative(f(x, y), y) + Derivative(f(x, y), (x, 2))"
      ]
     },
     "metadata": {},
     "output_type": "display_data"
    },
    {
     "data": {
      "text/latex": [
       "$\\displaystyle f^{3}{\\left(x,y \\right)} \\frac{\\partial^{3}}{\\partial y^{3}} f{\\left(x,y \\right)} + 4 f^{2}{\\left(x,y \\right)} \\frac{\\partial}{\\partial y} f{\\left(x,y \\right)} \\frac{\\partial^{2}}{\\partial y^{2}} f{\\left(x,y \\right)} + 3 f^{2}{\\left(x,y \\right)} \\frac{\\partial^{3}}{\\partial y^{2}\\partial x} f{\\left(x,y \\right)} + 3 f{\\left(x,y \\right)} \\frac{\\partial}{\\partial x} f{\\left(x,y \\right)} \\frac{\\partial^{2}}{\\partial y^{2}} f{\\left(x,y \\right)} + f{\\left(x,y \\right)} \\left(\\frac{\\partial}{\\partial y} f{\\left(x,y \\right)}\\right)^{3} + 5 f{\\left(x,y \\right)} \\frac{\\partial}{\\partial y} f{\\left(x,y \\right)} \\frac{\\partial^{2}}{\\partial y\\partial x} f{\\left(x,y \\right)} + 3 f{\\left(x,y \\right)} \\frac{\\partial^{3}}{\\partial y\\partial x^{2}} f{\\left(x,y \\right)} + \\frac{\\partial}{\\partial x} f{\\left(x,y \\right)} \\left(\\frac{\\partial}{\\partial y} f{\\left(x,y \\right)}\\right)^{2} + 3 \\frac{\\partial}{\\partial x} f{\\left(x,y \\right)} \\frac{\\partial^{2}}{\\partial y\\partial x} f{\\left(x,y \\right)} + \\frac{\\partial^{2}}{\\partial x^{2}} f{\\left(x,y \\right)} \\frac{\\partial}{\\partial y} f{\\left(x,y \\right)} + \\frac{\\partial^{3}}{\\partial x^{3}} f{\\left(x,y \\right)}$"
      ],
      "text/plain": [
       "f(x, y)**3*Derivative(f(x, y), (y, 3)) + 4*f(x, y)**2*Derivative(f(x, y), y)*Derivative(f(x, y), (y, 2)) + 3*f(x, y)**2*Derivative(f(x, y), x, (y, 2)) + 3*f(x, y)*Derivative(f(x, y), x)*Derivative(f(x, y), (y, 2)) + f(x, y)*Derivative(f(x, y), y)**3 + 5*f(x, y)*Derivative(f(x, y), y)*Derivative(f(x, y), x, y) + 3*f(x, y)*Derivative(f(x, y), (x, 2), y) + Derivative(f(x, y), x)*Derivative(f(x, y), y)**2 + 3*Derivative(f(x, y), x)*Derivative(f(x, y), x, y) + Derivative(f(x, y), (x, 2))*Derivative(f(x, y), y) + Derivative(f(x, y), (x, 3))"
      ]
     },
     "metadata": {},
     "output_type": "display_data"
    },
    {
     "data": {
      "text/latex": [
       "$\\displaystyle \\frac{\\Delta{x}^{4} \\left(f^{3}{\\left(x,y \\right)} \\frac{\\partial^{3}}{\\partial y^{3}} f{\\left(x,y \\right)} + 4 f^{2}{\\left(x,y \\right)} \\frac{\\partial}{\\partial y} f{\\left(x,y \\right)} \\frac{\\partial^{2}}{\\partial y^{2}} f{\\left(x,y \\right)} + 3 f^{2}{\\left(x,y \\right)} \\frac{\\partial^{3}}{\\partial y^{2}\\partial x} f{\\left(x,y \\right)} + 3 f{\\left(x,y \\right)} \\frac{\\partial}{\\partial x} f{\\left(x,y \\right)} \\frac{\\partial^{2}}{\\partial y^{2}} f{\\left(x,y \\right)} + f{\\left(x,y \\right)} \\left(\\frac{\\partial}{\\partial y} f{\\left(x,y \\right)}\\right)^{3} + 5 f{\\left(x,y \\right)} \\frac{\\partial}{\\partial y} f{\\left(x,y \\right)} \\frac{\\partial^{2}}{\\partial y\\partial x} f{\\left(x,y \\right)} + 3 f{\\left(x,y \\right)} \\frac{\\partial^{3}}{\\partial y\\partial x^{2}} f{\\left(x,y \\right)} + \\frac{\\partial}{\\partial x} f{\\left(x,y \\right)} \\left(\\frac{\\partial}{\\partial y} f{\\left(x,y \\right)}\\right)^{2} + 3 \\frac{\\partial}{\\partial x} f{\\left(x,y \\right)} \\frac{\\partial^{2}}{\\partial y\\partial x} f{\\left(x,y \\right)} + \\frac{\\partial^{2}}{\\partial x^{2}} f{\\left(x,y \\right)} \\frac{\\partial}{\\partial y} f{\\left(x,y \\right)} + \\frac{\\partial^{3}}{\\partial x^{3}} f{\\left(x,y \\right)}\\right)}{24} + \\frac{\\Delta{x}^{3} \\left(f^{2}{\\left(x,y \\right)} \\frac{\\partial^{2}}{\\partial y^{2}} f{\\left(x,y \\right)} + f{\\left(x,y \\right)} \\left(\\frac{\\partial}{\\partial y} f{\\left(x,y \\right)}\\right)^{2} + 2 f{\\left(x,y \\right)} \\frac{\\partial^{2}}{\\partial y\\partial x} f{\\left(x,y \\right)} + \\frac{\\partial}{\\partial x} f{\\left(x,y \\right)} \\frac{\\partial}{\\partial y} f{\\left(x,y \\right)} + \\frac{\\partial^{2}}{\\partial x^{2}} f{\\left(x,y \\right)}\\right)}{6} + \\frac{\\Delta{x}^{2} \\left(f{\\left(x,y \\right)} \\frac{\\partial}{\\partial y} f{\\left(x,y \\right)} + \\frac{\\partial}{\\partial x} f{\\left(x,y \\right)}\\right)}{2} + \\Delta{x} f{\\left(x,y \\right)} + y{\\left(x \\right)}$"
      ],
      "text/plain": [
       "\\Delta{x}**4*(f(x, y)**3*Derivative(f(x, y), (y, 3)) + 4*f(x, y)**2*Derivative(f(x, y), y)*Derivative(f(x, y), (y, 2)) + 3*f(x, y)**2*Derivative(f(x, y), x, (y, 2)) + 3*f(x, y)*Derivative(f(x, y), x)*Derivative(f(x, y), (y, 2)) + f(x, y)*Derivative(f(x, y), y)**3 + 5*f(x, y)*Derivative(f(x, y), y)*Derivative(f(x, y), x, y) + 3*f(x, y)*Derivative(f(x, y), (x, 2), y) + Derivative(f(x, y), x)*Derivative(f(x, y), y)**2 + 3*Derivative(f(x, y), x)*Derivative(f(x, y), x, y) + Derivative(f(x, y), (x, 2))*Derivative(f(x, y), y) + Derivative(f(x, y), (x, 3)))/24 + \\Delta{x}**3*(f(x, y)**2*Derivative(f(x, y), (y, 2)) + f(x, y)*Derivative(f(x, y), y)**2 + 2*f(x, y)*Derivative(f(x, y), x, y) + Derivative(f(x, y), x)*Derivative(f(x, y), y) + Derivative(f(x, y), (x, 2)))/6 + \\Delta{x}**2*(f(x, y)*Derivative(f(x, y), y) + Derivative(f(x, y), x))/2 + \\Delta{x}*f(x, y) + y(x)"
      ]
     },
     "metadata": {},
     "output_type": "display_data"
    }
   ],
   "source": [
    "dy_dx = f(x, y)\n",
    "dy_dx2 = removeSub(f(x, y_(x)).diff(x).subs(y_(x).diff(x), dy_dx).subs(y_(x), y))\n",
    "dy_dx3 = removeSub(f(x, y_(x)).diff(x, 2).subs(y_(x).diff(x, 2), dy_dx2).subs(y_(x).diff(x), dy_dx).subs(y_(x), y)).expand().simplify()\n",
    "dy_dx4 = removeSub(f(x, y_(x)).diff(x, 3).subs(y_(x).diff(x, 3), dy_dx3).subs(y_(x).diff(x, 2), dy_dx2).subs(y_(x).diff(x), dy_dx).subs(y_(x), y)).expand().simplify()\n",
    "y_taylor = y_(x) + dy_dx*dx + dy_dx2*dx**2/2 + dy_dx3*dx**3/6 + dy_dx4*dx**4/24\n",
    "display(dy_dx, dy_dx2, dy_dx3, dy_dx4, y_taylor)"
   ]
  },
  {
   "cell_type": "code",
   "execution_count": 14,
   "metadata": {},
   "outputs": [
    {
     "data": {
      "text/latex": [
       "$\\displaystyle \\Delta{x} \\frac{\\partial}{\\partial x} f{\\left(x,y \\right)} + \\Delta{y} \\frac{\\partial}{\\partial y} f{\\left(x,y \\right)}$"
      ],
      "text/plain": [
       "\\Delta{x}*Derivative(f(x, y), x) + \\Delta{y}*Derivative(f(x, y), y)"
      ]
     },
     "metadata": {},
     "output_type": "display_data"
    },
    {
     "data": {
      "text/latex": [
       "$\\displaystyle \\Delta{x}^{2} \\frac{\\partial^{2}}{\\partial x^{2}} f{\\left(x,y \\right)} + 2 \\Delta{x} \\Delta{y} \\frac{\\partial^{2}}{\\partial y\\partial x} f{\\left(x,y \\right)} + \\Delta{y}^{2} \\frac{\\partial^{2}}{\\partial y^{2}} f{\\left(x,y \\right)}$"
      ],
      "text/plain": [
       "\\Delta{x}**2*Derivative(f(x, y), (x, 2)) + 2*\\Delta{x}*\\Delta{y}*Derivative(f(x, y), x, y) + \\Delta{y}**2*Derivative(f(x, y), (y, 2))"
      ]
     },
     "metadata": {},
     "output_type": "display_data"
    },
    {
     "data": {
      "text/latex": [
       "$\\displaystyle \\Delta{x}^{3} \\frac{\\partial^{3}}{\\partial x^{3}} f{\\left(x,y \\right)} + 3 \\Delta{x}^{2} \\Delta{y} \\frac{\\partial^{3}}{\\partial y\\partial x^{2}} f{\\left(x,y \\right)} + 3 \\Delta{x} \\Delta{y}^{2} \\frac{\\partial^{3}}{\\partial y^{2}\\partial x} f{\\left(x,y \\right)} + \\Delta{y}^{3} \\frac{\\partial^{3}}{\\partial y^{3}} f{\\left(x,y \\right)}$"
      ],
      "text/plain": [
       "\\Delta{x}**3*Derivative(f(x, y), (x, 3)) + 3*\\Delta{x}**2*\\Delta{y}*Derivative(f(x, y), (x, 2), y) + 3*\\Delta{x}*\\Delta{y}**2*Derivative(f(x, y), x, (y, 2)) + \\Delta{y}**3*Derivative(f(x, y), (y, 3))"
      ]
     },
     "metadata": {},
     "output_type": "display_data"
    },
    {
     "data": {
      "text/latex": [
       "$\\displaystyle \\frac{\\Delta{x}^{3} \\frac{\\partial^{3}}{\\partial x^{3}} f{\\left(x,y \\right)}}{6} + \\frac{\\Delta{x}^{2} \\Delta{y} \\frac{\\partial^{3}}{\\partial y\\partial x^{2}} f{\\left(x,y \\right)}}{2} + \\frac{\\Delta{x}^{2} \\frac{\\partial^{2}}{\\partial x^{2}} f{\\left(x,y \\right)}}{2} + \\frac{\\Delta{x} \\Delta{y}^{2} \\frac{\\partial^{3}}{\\partial y^{2}\\partial x} f{\\left(x,y \\right)}}{2} + \\Delta{x} \\Delta{y} \\frac{\\partial^{2}}{\\partial y\\partial x} f{\\left(x,y \\right)} + \\Delta{x} \\frac{\\partial}{\\partial x} f{\\left(x,y \\right)} + \\frac{\\Delta{y}^{3} \\frac{\\partial^{3}}{\\partial y^{3}} f{\\left(x,y \\right)}}{6} + \\frac{\\Delta{y}^{2} \\frac{\\partial^{2}}{\\partial y^{2}} f{\\left(x,y \\right)}}{2} + \\Delta{y} \\frac{\\partial}{\\partial y} f{\\left(x,y \\right)} + f{\\left(x,y \\right)}$"
      ],
      "text/plain": [
       "\\Delta{x}**3*Derivative(f(x, y), (x, 3))/6 + \\Delta{x}**2*\\Delta{y}*Derivative(f(x, y), (x, 2), y)/2 + \\Delta{x}**2*Derivative(f(x, y), (x, 2))/2 + \\Delta{x}*\\Delta{y}**2*Derivative(f(x, y), x, (y, 2))/2 + \\Delta{x}*\\Delta{y}*Derivative(f(x, y), x, y) + \\Delta{x}*Derivative(f(x, y), x) + \\Delta{y}**3*Derivative(f(x, y), (y, 3))/6 + \\Delta{y}**2*Derivative(f(x, y), (y, 2))/2 + \\Delta{y}*Derivative(f(x, y), y) + f(x, y)"
      ]
     },
     "metadata": {},
     "output_type": "display_data"
    }
   ],
   "source": [
    "pdf1 = f(x, y).diff(x)*dx + f(x, y).diff(y)*dy\n",
    "pdf2 = (pdf1.diff(x)*dx + pdf1.diff(y)*dy).expand().simplify()\n",
    "pdf3 = (pdf2.diff(x)*dx + pdf2.diff(y)*dy).expand().simplify()\n",
    "f_taylor = f(x, y) + pdf1 + pdf2/2 + pdf3/6\n",
    "display(pdf1, pdf2, pdf3, f_taylor)"
   ]
  },
  {
   "cell_type": "markdown",
   "metadata": {},
   "source": [
    "$$\n",
    "\\begin{aligned}\n",
    "y_{n+1} =& y_n + h(C_1 K_1 + C_2 K_2 + C_3 K_3 + C_4 K_4)\\\\\n",
    "K_1 =& f(x_n, y_n)\\\\\n",
    "K_2 =& f(x_n + a_2 h, y_n + b_{21} h K_1)\\\\\n",
    "K_3 =& f(x_n + a_3 h, y_n + b_{31} h K_1 + b_{32} h K_2)\\\\\n",
    "K_4 =& f(x_n + a_4 h, y_n + b_{41} h K_1 + b_{42} h K_2 + b_{43} h k_2)\n",
    "\\end{aligned}\n",
    "$$"
   ]
  },
  {
   "cell_type": "code",
   "execution_count": 15,
   "metadata": {},
   "outputs": [],
   "source": [
    "C1, C2, C3, C4 = sp.symbols('C_1 C_2 C_3 C_4')\n",
    "h, a2, a3, a4 = sp.symbols('h a_2 a_3 a_4')\n",
    "b21, b31, b32, b41, b42, b43 = sp.symbols('b_{21} b_{31} b_{32} b_{41} b_{42} b_{43}')"
   ]
  },
  {
   "cell_type": "code",
   "execution_count": 16,
   "metadata": {},
   "outputs": [
    {
     "ename": "KeyboardInterrupt",
     "evalue": "",
     "output_type": "error",
     "traceback": [
      "\u001b[0;31m---------------------------------------------------------------------------\u001b[0m",
      "\u001b[0;31mKeyboardInterrupt\u001b[0m                         Traceback (most recent call last)",
      "Cell \u001b[0;32mIn[16], line 4\u001b[0m\n\u001b[1;32m      2\u001b[0m K2 \u001b[38;5;241m=\u001b[39m (f_taylor\u001b[38;5;241m.\u001b[39msubs([(dx, a2\u001b[38;5;241m*\u001b[39mh), (dy, b21\u001b[38;5;241m*\u001b[39mh\u001b[38;5;241m*\u001b[39mK1)])\u001b[38;5;241m+\u001b[39msp\u001b[38;5;241m.\u001b[39mO(h\u001b[38;5;241m*\u001b[39m\u001b[38;5;241m*\u001b[39m\u001b[38;5;241m5\u001b[39m))\u001b[38;5;241m.\u001b[39mexpand()\u001b[38;5;241m.\u001b[39mremoveO()\n\u001b[1;32m      3\u001b[0m K3 \u001b[38;5;241m=\u001b[39m (f_taylor\u001b[38;5;241m.\u001b[39msubs([(dx, a3\u001b[38;5;241m*\u001b[39mh), (dy, b31\u001b[38;5;241m*\u001b[39mh\u001b[38;5;241m*\u001b[39mK1 \u001b[38;5;241m+\u001b[39m b32\u001b[38;5;241m*\u001b[39mh\u001b[38;5;241m*\u001b[39mK2)])\u001b[38;5;241m+\u001b[39msp\u001b[38;5;241m.\u001b[39mO(h\u001b[38;5;241m*\u001b[39m\u001b[38;5;241m*\u001b[39m\u001b[38;5;241m5\u001b[39m))\u001b[38;5;241m.\u001b[39mexpand()\u001b[38;5;241m.\u001b[39mremoveO()\n\u001b[0;32m----> 4\u001b[0m K4 \u001b[38;5;241m=\u001b[39m \u001b[43m(\u001b[49m\u001b[43mf_taylor\u001b[49m\u001b[38;5;241;43m.\u001b[39;49m\u001b[43msubs\u001b[49m\u001b[43m(\u001b[49m\u001b[43m[\u001b[49m\u001b[43m(\u001b[49m\u001b[43mdx\u001b[49m\u001b[43m,\u001b[49m\u001b[43m \u001b[49m\u001b[43ma4\u001b[49m\u001b[38;5;241;43m*\u001b[39;49m\u001b[43mh\u001b[49m\u001b[43m)\u001b[49m\u001b[43m,\u001b[49m\u001b[43m \u001b[49m\u001b[43m(\u001b[49m\u001b[43mdy\u001b[49m\u001b[43m,\u001b[49m\u001b[43m \u001b[49m\u001b[43mb41\u001b[49m\u001b[38;5;241;43m*\u001b[39;49m\u001b[43mh\u001b[49m\u001b[38;5;241;43m*\u001b[39;49m\u001b[43mK1\u001b[49m\u001b[43m \u001b[49m\u001b[38;5;241;43m+\u001b[39;49m\u001b[43m \u001b[49m\u001b[43mb42\u001b[49m\u001b[38;5;241;43m*\u001b[39;49m\u001b[43mh\u001b[49m\u001b[38;5;241;43m*\u001b[39;49m\u001b[43mK2\u001b[49m\u001b[43m \u001b[49m\u001b[38;5;241;43m+\u001b[39;49m\u001b[43m \u001b[49m\u001b[43mb43\u001b[49m\u001b[38;5;241;43m*\u001b[39;49m\u001b[43mh\u001b[49m\u001b[38;5;241;43m*\u001b[39;49m\u001b[43mK3\u001b[49m\u001b[43m)\u001b[49m\u001b[43m]\u001b[49m\u001b[43m)\u001b[49m\u001b[38;5;241;43m+\u001b[39;49m\u001b[43msp\u001b[49m\u001b[38;5;241;43m.\u001b[39;49m\u001b[43mO\u001b[49m\u001b[43m(\u001b[49m\u001b[43mh\u001b[49m\u001b[38;5;241;43m*\u001b[39;49m\u001b[38;5;241;43m*\u001b[39;49m\u001b[38;5;241;43m5\u001b[39;49m\u001b[43m)\u001b[49m\u001b[43m)\u001b[49m\u001b[38;5;241;43m.\u001b[39;49m\u001b[43mexpand\u001b[49m\u001b[43m(\u001b[49m\u001b[43m)\u001b[49m\u001b[38;5;241m.\u001b[39mremoveO()\n\u001b[1;32m      5\u001b[0m ynp1 \u001b[38;5;241m=\u001b[39m (y_(x) \u001b[38;5;241m+\u001b[39m h \u001b[38;5;241m*\u001b[39m (C1\u001b[38;5;241m*\u001b[39mK1 \u001b[38;5;241m+\u001b[39m C2\u001b[38;5;241m*\u001b[39mK2 \u001b[38;5;241m+\u001b[39m C3\u001b[38;5;241m*\u001b[39mK3 \u001b[38;5;241m+\u001b[39m C4\u001b[38;5;241m*\u001b[39mK4))\u001b[38;5;241m.\u001b[39mexpand()\n",
      "File \u001b[0;32m~/Documents/hemingway/.venv/lib/python3.10/site-packages/sympy/core/cache.py:70\u001b[0m, in \u001b[0;36m__cacheit.<locals>.func_wrapper.<locals>.wrapper\u001b[0;34m(*args, **kwargs)\u001b[0m\n\u001b[1;32m     67\u001b[0m \u001b[38;5;129m@wraps\u001b[39m(func)\n\u001b[1;32m     68\u001b[0m \u001b[38;5;28;01mdef\u001b[39;00m \u001b[38;5;21mwrapper\u001b[39m(\u001b[38;5;241m*\u001b[39margs, \u001b[38;5;241m*\u001b[39m\u001b[38;5;241m*\u001b[39mkwargs):\n\u001b[1;32m     69\u001b[0m     \u001b[38;5;28;01mtry\u001b[39;00m:\n\u001b[0;32m---> 70\u001b[0m         retval \u001b[38;5;241m=\u001b[39m \u001b[43mcfunc\u001b[49m\u001b[43m(\u001b[49m\u001b[38;5;241;43m*\u001b[39;49m\u001b[43margs\u001b[49m\u001b[43m,\u001b[49m\u001b[43m \u001b[49m\u001b[38;5;241;43m*\u001b[39;49m\u001b[38;5;241;43m*\u001b[39;49m\u001b[43mkwargs\u001b[49m\u001b[43m)\u001b[49m\n\u001b[1;32m     71\u001b[0m     \u001b[38;5;28;01mexcept\u001b[39;00m \u001b[38;5;167;01mTypeError\u001b[39;00m \u001b[38;5;28;01mas\u001b[39;00m e:\n\u001b[1;32m     72\u001b[0m         \u001b[38;5;28;01mif\u001b[39;00m \u001b[38;5;129;01mnot\u001b[39;00m e\u001b[38;5;241m.\u001b[39margs \u001b[38;5;129;01mor\u001b[39;00m \u001b[38;5;129;01mnot\u001b[39;00m e\u001b[38;5;241m.\u001b[39margs[\u001b[38;5;241m0\u001b[39m]\u001b[38;5;241m.\u001b[39mstartswith(\u001b[38;5;124m'\u001b[39m\u001b[38;5;124munhashable type:\u001b[39m\u001b[38;5;124m'\u001b[39m):\n",
      "File \u001b[0;32m~/Documents/hemingway/.venv/lib/python3.10/site-packages/sympy/core/expr.py:3656\u001b[0m, in \u001b[0;36mExpr.expand\u001b[0;34m(self, deep, modulus, power_base, power_exp, mul, log, multinomial, basic, **hints)\u001b[0m\n\u001b[1;32m   3654\u001b[0m was \u001b[38;5;241m=\u001b[39m expr\n\u001b[1;32m   3655\u001b[0m \u001b[38;5;28;01mif\u001b[39;00m hints\u001b[38;5;241m.\u001b[39mget(\u001b[38;5;124m'\u001b[39m\u001b[38;5;124mmultinomial\u001b[39m\u001b[38;5;124m'\u001b[39m, \u001b[38;5;28;01mFalse\u001b[39;00m):\n\u001b[0;32m-> 3656\u001b[0m     expr, _ \u001b[38;5;241m=\u001b[39m \u001b[43mExpr\u001b[49m\u001b[38;5;241;43m.\u001b[39;49m\u001b[43m_expand_hint\u001b[49m\u001b[43m(\u001b[49m\n\u001b[1;32m   3657\u001b[0m \u001b[43m        \u001b[49m\u001b[43mexpr\u001b[49m\u001b[43m,\u001b[49m\u001b[43m \u001b[49m\u001b[38;5;124;43m'\u001b[39;49m\u001b[38;5;124;43m_eval_expand_multinomial\u001b[39;49m\u001b[38;5;124;43m'\u001b[39;49m\u001b[43m,\u001b[49m\u001b[43m \u001b[49m\u001b[43mdeep\u001b[49m\u001b[38;5;241;43m=\u001b[39;49m\u001b[43mdeep\u001b[49m\u001b[43m,\u001b[49m\u001b[43m \u001b[49m\u001b[38;5;241;43m*\u001b[39;49m\u001b[38;5;241;43m*\u001b[39;49m\u001b[43mhints\u001b[49m\u001b[43m)\u001b[49m\n\u001b[1;32m   3658\u001b[0m \u001b[38;5;28;01mif\u001b[39;00m hints\u001b[38;5;241m.\u001b[39mget(\u001b[38;5;124m'\u001b[39m\u001b[38;5;124mmul\u001b[39m\u001b[38;5;124m'\u001b[39m, \u001b[38;5;28;01mFalse\u001b[39;00m):\n\u001b[1;32m   3659\u001b[0m     expr, _ \u001b[38;5;241m=\u001b[39m Expr\u001b[38;5;241m.\u001b[39m_expand_hint(\n\u001b[1;32m   3660\u001b[0m         expr, \u001b[38;5;124m'\u001b[39m\u001b[38;5;124m_eval_expand_mul\u001b[39m\u001b[38;5;124m'\u001b[39m, deep\u001b[38;5;241m=\u001b[39mdeep, \u001b[38;5;241m*\u001b[39m\u001b[38;5;241m*\u001b[39mhints)\n",
      "File \u001b[0;32m~/Documents/hemingway/.venv/lib/python3.10/site-packages/sympy/core/expr.py:3589\u001b[0m, in \u001b[0;36mExpr._expand_hint\u001b[0;34m(expr, hint, deep, **hints)\u001b[0m\n\u001b[1;32m   3586\u001b[0m         sargs\u001b[38;5;241m.\u001b[39mappend(arg)\n\u001b[1;32m   3588\u001b[0m     \u001b[38;5;28;01mif\u001b[39;00m hit:\n\u001b[0;32m-> 3589\u001b[0m         expr \u001b[38;5;241m=\u001b[39m \u001b[43mexpr\u001b[49m\u001b[38;5;241;43m.\u001b[39;49m\u001b[43mfunc\u001b[49m\u001b[43m(\u001b[49m\u001b[38;5;241;43m*\u001b[39;49m\u001b[43msargs\u001b[49m\u001b[43m)\u001b[49m\n\u001b[1;32m   3591\u001b[0m \u001b[38;5;28;01mif\u001b[39;00m \u001b[38;5;28mhasattr\u001b[39m(expr, hint):\n\u001b[1;32m   3592\u001b[0m     newexpr \u001b[38;5;241m=\u001b[39m \u001b[38;5;28mgetattr\u001b[39m(expr, hint)(\u001b[38;5;241m*\u001b[39m\u001b[38;5;241m*\u001b[39mhints)\n",
      "File \u001b[0;32m~/Documents/hemingway/.venv/lib/python3.10/site-packages/sympy/core/cache.py:70\u001b[0m, in \u001b[0;36m__cacheit.<locals>.func_wrapper.<locals>.wrapper\u001b[0;34m(*args, **kwargs)\u001b[0m\n\u001b[1;32m     67\u001b[0m \u001b[38;5;129m@wraps\u001b[39m(func)\n\u001b[1;32m     68\u001b[0m \u001b[38;5;28;01mdef\u001b[39;00m \u001b[38;5;21mwrapper\u001b[39m(\u001b[38;5;241m*\u001b[39margs, \u001b[38;5;241m*\u001b[39m\u001b[38;5;241m*\u001b[39mkwargs):\n\u001b[1;32m     69\u001b[0m     \u001b[38;5;28;01mtry\u001b[39;00m:\n\u001b[0;32m---> 70\u001b[0m         retval \u001b[38;5;241m=\u001b[39m \u001b[43mcfunc\u001b[49m\u001b[43m(\u001b[49m\u001b[38;5;241;43m*\u001b[39;49m\u001b[43margs\u001b[49m\u001b[43m,\u001b[49m\u001b[43m \u001b[49m\u001b[38;5;241;43m*\u001b[39;49m\u001b[38;5;241;43m*\u001b[39;49m\u001b[43mkwargs\u001b[49m\u001b[43m)\u001b[49m\n\u001b[1;32m     71\u001b[0m     \u001b[38;5;28;01mexcept\u001b[39;00m \u001b[38;5;167;01mTypeError\u001b[39;00m \u001b[38;5;28;01mas\u001b[39;00m e:\n\u001b[1;32m     72\u001b[0m         \u001b[38;5;28;01mif\u001b[39;00m \u001b[38;5;129;01mnot\u001b[39;00m e\u001b[38;5;241m.\u001b[39margs \u001b[38;5;129;01mor\u001b[39;00m \u001b[38;5;129;01mnot\u001b[39;00m e\u001b[38;5;241m.\u001b[39margs[\u001b[38;5;241m0\u001b[39m]\u001b[38;5;241m.\u001b[39mstartswith(\u001b[38;5;124m'\u001b[39m\u001b[38;5;124munhashable type:\u001b[39m\u001b[38;5;124m'\u001b[39m):\n",
      "File \u001b[0;32m~/Documents/hemingway/.venv/lib/python3.10/site-packages/sympy/core/operations.py:98\u001b[0m, in \u001b[0;36mAssocOp.__new__\u001b[0;34m(cls, evaluate, _sympify, *args)\u001b[0m\n\u001b[1;32m     95\u001b[0m \u001b[38;5;28;01mif\u001b[39;00m \u001b[38;5;28mlen\u001b[39m(args) \u001b[38;5;241m==\u001b[39m \u001b[38;5;241m1\u001b[39m:\n\u001b[1;32m     96\u001b[0m     \u001b[38;5;28;01mreturn\u001b[39;00m args[\u001b[38;5;241m0\u001b[39m]\n\u001b[0;32m---> 98\u001b[0m c_part, nc_part, order_symbols \u001b[38;5;241m=\u001b[39m \u001b[38;5;28;43mcls\u001b[39;49m\u001b[38;5;241;43m.\u001b[39;49m\u001b[43mflatten\u001b[49m\u001b[43m(\u001b[49m\u001b[43margs\u001b[49m\u001b[43m)\u001b[49m\n\u001b[1;32m     99\u001b[0m is_commutative \u001b[38;5;241m=\u001b[39m \u001b[38;5;129;01mnot\u001b[39;00m nc_part\n\u001b[1;32m    100\u001b[0m obj \u001b[38;5;241m=\u001b[39m \u001b[38;5;28mcls\u001b[39m\u001b[38;5;241m.\u001b[39m_from_args(c_part \u001b[38;5;241m+\u001b[39m nc_part, is_commutative)\n",
      "File \u001b[0;32m~/Documents/hemingway/.venv/lib/python3.10/site-packages/sympy/core/add.py:367\u001b[0m, in \u001b[0;36mAdd.flatten\u001b[0;34m(cls, seq)\u001b[0m\n\u001b[1;32m    364\u001b[0m \u001b[38;5;28;01mfor\u001b[39;00m t \u001b[38;5;129;01min\u001b[39;00m newseq:\n\u001b[1;32m    365\u001b[0m     \u001b[38;5;28;01mfor\u001b[39;00m o \u001b[38;5;129;01min\u001b[39;00m order_factors:\n\u001b[1;32m    366\u001b[0m         \u001b[38;5;66;03m# x + O(x) -> O(x)\u001b[39;00m\n\u001b[0;32m--> 367\u001b[0m         \u001b[38;5;28;01mif\u001b[39;00m \u001b[43mo\u001b[49m\u001b[38;5;241;43m.\u001b[39;49m\u001b[43mcontains\u001b[49m\u001b[43m(\u001b[49m\u001b[43mt\u001b[49m\u001b[43m)\u001b[49m:\n\u001b[1;32m    368\u001b[0m             t \u001b[38;5;241m=\u001b[39m \u001b[38;5;28;01mNone\u001b[39;00m\n\u001b[1;32m    369\u001b[0m             \u001b[38;5;28;01mbreak\u001b[39;00m\n",
      "File \u001b[0;32m~/Documents/hemingway/.venv/lib/python3.10/site-packages/sympy/core/cache.py:70\u001b[0m, in \u001b[0;36m__cacheit.<locals>.func_wrapper.<locals>.wrapper\u001b[0;34m(*args, **kwargs)\u001b[0m\n\u001b[1;32m     67\u001b[0m \u001b[38;5;129m@wraps\u001b[39m(func)\n\u001b[1;32m     68\u001b[0m \u001b[38;5;28;01mdef\u001b[39;00m \u001b[38;5;21mwrapper\u001b[39m(\u001b[38;5;241m*\u001b[39margs, \u001b[38;5;241m*\u001b[39m\u001b[38;5;241m*\u001b[39mkwargs):\n\u001b[1;32m     69\u001b[0m     \u001b[38;5;28;01mtry\u001b[39;00m:\n\u001b[0;32m---> 70\u001b[0m         retval \u001b[38;5;241m=\u001b[39m \u001b[43mcfunc\u001b[49m\u001b[43m(\u001b[49m\u001b[38;5;241;43m*\u001b[39;49m\u001b[43margs\u001b[49m\u001b[43m,\u001b[49m\u001b[43m \u001b[49m\u001b[38;5;241;43m*\u001b[39;49m\u001b[38;5;241;43m*\u001b[39;49m\u001b[43mkwargs\u001b[49m\u001b[43m)\u001b[49m\n\u001b[1;32m     71\u001b[0m     \u001b[38;5;28;01mexcept\u001b[39;00m \u001b[38;5;167;01mTypeError\u001b[39;00m \u001b[38;5;28;01mas\u001b[39;00m e:\n\u001b[1;32m     72\u001b[0m         \u001b[38;5;28;01mif\u001b[39;00m \u001b[38;5;129;01mnot\u001b[39;00m e\u001b[38;5;241m.\u001b[39margs \u001b[38;5;129;01mor\u001b[39;00m \u001b[38;5;129;01mnot\u001b[39;00m e\u001b[38;5;241m.\u001b[39margs[\u001b[38;5;241m0\u001b[39m]\u001b[38;5;241m.\u001b[39mstartswith(\u001b[38;5;124m'\u001b[39m\u001b[38;5;124munhashable type:\u001b[39m\u001b[38;5;124m'\u001b[39m):\n",
      "File \u001b[0;32m~/Documents/hemingway/.venv/lib/python3.10/site-packages/sympy/series/order.py:452\u001b[0m, in \u001b[0;36mOrder.contains\u001b[0;34m(self, expr)\u001b[0m\n\u001b[1;32m    449\u001b[0m             \u001b[38;5;28;01mif\u001b[39;00m rv \u001b[38;5;129;01mis\u001b[39;00m \u001b[38;5;129;01mnot\u001b[39;00m \u001b[38;5;28;01mNone\u001b[39;00m:\n\u001b[1;32m    450\u001b[0m                 \u001b[38;5;28;01mreturn\u001b[39;00m rv\n\u001b[0;32m--> 452\u001b[0m obj \u001b[38;5;241m=\u001b[39m \u001b[38;5;28;43mself\u001b[39;49m\u001b[38;5;241;43m.\u001b[39;49m\u001b[43mfunc\u001b[49m\u001b[43m(\u001b[49m\u001b[43mexpr\u001b[49m\u001b[43m,\u001b[49m\u001b[43m \u001b[49m\u001b[38;5;241;43m*\u001b[39;49m\u001b[38;5;28;43mself\u001b[39;49m\u001b[38;5;241;43m.\u001b[39;49m\u001b[43margs\u001b[49m\u001b[43m[\u001b[49m\u001b[38;5;241;43m1\u001b[39;49m\u001b[43m:\u001b[49m\u001b[43m]\u001b[49m\u001b[43m)\u001b[49m\n\u001b[1;32m    453\u001b[0m \u001b[38;5;28;01mreturn\u001b[39;00m \u001b[38;5;28mself\u001b[39m\u001b[38;5;241m.\u001b[39mcontains(obj)\n",
      "File \u001b[0;32m~/Documents/hemingway/.venv/lib/python3.10/site-packages/sympy/core/cache.py:70\u001b[0m, in \u001b[0;36m__cacheit.<locals>.func_wrapper.<locals>.wrapper\u001b[0;34m(*args, **kwargs)\u001b[0m\n\u001b[1;32m     67\u001b[0m \u001b[38;5;129m@wraps\u001b[39m(func)\n\u001b[1;32m     68\u001b[0m \u001b[38;5;28;01mdef\u001b[39;00m \u001b[38;5;21mwrapper\u001b[39m(\u001b[38;5;241m*\u001b[39margs, \u001b[38;5;241m*\u001b[39m\u001b[38;5;241m*\u001b[39mkwargs):\n\u001b[1;32m     69\u001b[0m     \u001b[38;5;28;01mtry\u001b[39;00m:\n\u001b[0;32m---> 70\u001b[0m         retval \u001b[38;5;241m=\u001b[39m \u001b[43mcfunc\u001b[49m\u001b[43m(\u001b[49m\u001b[38;5;241;43m*\u001b[39;49m\u001b[43margs\u001b[49m\u001b[43m,\u001b[49m\u001b[43m \u001b[49m\u001b[38;5;241;43m*\u001b[39;49m\u001b[38;5;241;43m*\u001b[39;49m\u001b[43mkwargs\u001b[49m\u001b[43m)\u001b[49m\n\u001b[1;32m     71\u001b[0m     \u001b[38;5;28;01mexcept\u001b[39;00m \u001b[38;5;167;01mTypeError\u001b[39;00m \u001b[38;5;28;01mas\u001b[39;00m e:\n\u001b[1;32m     72\u001b[0m         \u001b[38;5;28;01mif\u001b[39;00m \u001b[38;5;129;01mnot\u001b[39;00m e\u001b[38;5;241m.\u001b[39margs \u001b[38;5;129;01mor\u001b[39;00m \u001b[38;5;129;01mnot\u001b[39;00m e\u001b[38;5;241m.\u001b[39margs[\u001b[38;5;241m0\u001b[39m]\u001b[38;5;241m.\u001b[39mstartswith(\u001b[38;5;124m'\u001b[39m\u001b[38;5;124munhashable type:\u001b[39m\u001b[38;5;124m'\u001b[39m):\n",
      "File \u001b[0;32m~/Documents/hemingway/.venv/lib/python3.10/site-packages/sympy/series/order.py:230\u001b[0m, in \u001b[0;36mOrder.__new__\u001b[0;34m(cls, expr, *args, **kwargs)\u001b[0m\n\u001b[1;32m    228\u001b[0m \u001b[38;5;28;01melif\u001b[39;00m expr:\n\u001b[1;32m    229\u001b[0m     \u001b[38;5;28;01mtry\u001b[39;00m:\n\u001b[0;32m--> 230\u001b[0m         expr \u001b[38;5;241m=\u001b[39m \u001b[43mexpr\u001b[49m\u001b[38;5;241;43m.\u001b[39;49m\u001b[43mas_leading_term\u001b[49m\u001b[43m(\u001b[49m\u001b[38;5;241;43m*\u001b[39;49m\u001b[43margs\u001b[49m\u001b[43m)\u001b[49m\n\u001b[1;32m    231\u001b[0m     \u001b[38;5;28;01mexcept\u001b[39;00m PoleError:\n\u001b[1;32m    232\u001b[0m         \u001b[38;5;28;01mif\u001b[39;00m \u001b[38;5;28misinstance\u001b[39m(expr, Function) \u001b[38;5;129;01mor\u001b[39;00m\\\n\u001b[1;32m    233\u001b[0m                 \u001b[38;5;28mall\u001b[39m(\u001b[38;5;28misinstance\u001b[39m(arg, Function) \u001b[38;5;28;01mfor\u001b[39;00m arg \u001b[38;5;129;01min\u001b[39;00m expr\u001b[38;5;241m.\u001b[39margs):\n\u001b[1;32m    234\u001b[0m             \u001b[38;5;66;03m# It is not possible to simplify an expression\u001b[39;00m\n\u001b[1;32m    235\u001b[0m             \u001b[38;5;66;03m# containing only functions (which raise error on\u001b[39;00m\n\u001b[1;32m    236\u001b[0m             \u001b[38;5;66;03m# call to leading term) further\u001b[39;00m\n",
      "File \u001b[0;32m~/Documents/hemingway/.venv/lib/python3.10/site-packages/sympy/core/cache.py:70\u001b[0m, in \u001b[0;36m__cacheit.<locals>.func_wrapper.<locals>.wrapper\u001b[0;34m(*args, **kwargs)\u001b[0m\n\u001b[1;32m     67\u001b[0m \u001b[38;5;129m@wraps\u001b[39m(func)\n\u001b[1;32m     68\u001b[0m \u001b[38;5;28;01mdef\u001b[39;00m \u001b[38;5;21mwrapper\u001b[39m(\u001b[38;5;241m*\u001b[39margs, \u001b[38;5;241m*\u001b[39m\u001b[38;5;241m*\u001b[39mkwargs):\n\u001b[1;32m     69\u001b[0m     \u001b[38;5;28;01mtry\u001b[39;00m:\n\u001b[0;32m---> 70\u001b[0m         retval \u001b[38;5;241m=\u001b[39m \u001b[43mcfunc\u001b[49m\u001b[43m(\u001b[49m\u001b[38;5;241;43m*\u001b[39;49m\u001b[43margs\u001b[49m\u001b[43m,\u001b[49m\u001b[43m \u001b[49m\u001b[38;5;241;43m*\u001b[39;49m\u001b[38;5;241;43m*\u001b[39;49m\u001b[43mkwargs\u001b[49m\u001b[43m)\u001b[49m\n\u001b[1;32m     71\u001b[0m     \u001b[38;5;28;01mexcept\u001b[39;00m \u001b[38;5;167;01mTypeError\u001b[39;00m \u001b[38;5;28;01mas\u001b[39;00m e:\n\u001b[1;32m     72\u001b[0m         \u001b[38;5;28;01mif\u001b[39;00m \u001b[38;5;129;01mnot\u001b[39;00m e\u001b[38;5;241m.\u001b[39margs \u001b[38;5;129;01mor\u001b[39;00m \u001b[38;5;129;01mnot\u001b[39;00m e\u001b[38;5;241m.\u001b[39margs[\u001b[38;5;241m0\u001b[39m]\u001b[38;5;241m.\u001b[39mstartswith(\u001b[38;5;124m'\u001b[39m\u001b[38;5;124munhashable type:\u001b[39m\u001b[38;5;124m'\u001b[39m):\n",
      "File \u001b[0;32m~/Documents/hemingway/.venv/lib/python3.10/site-packages/sympy/core/expr.py:3470\u001b[0m, in \u001b[0;36mExpr.as_leading_term\u001b[0;34m(self, logx, cdir, *symbols)\u001b[0m\n\u001b[1;32m   3468\u001b[0m \u001b[38;5;28;01mif\u001b[39;00m x \u001b[38;5;129;01mnot\u001b[39;00m \u001b[38;5;129;01min\u001b[39;00m \u001b[38;5;28mself\u001b[39m\u001b[38;5;241m.\u001b[39mfree_symbols:\n\u001b[1;32m   3469\u001b[0m     \u001b[38;5;28;01mreturn\u001b[39;00m \u001b[38;5;28mself\u001b[39m\n\u001b[0;32m-> 3470\u001b[0m obj \u001b[38;5;241m=\u001b[39m \u001b[38;5;28;43mself\u001b[39;49m\u001b[38;5;241;43m.\u001b[39;49m\u001b[43m_eval_as_leading_term\u001b[49m\u001b[43m(\u001b[49m\u001b[43mx\u001b[49m\u001b[43m,\u001b[49m\u001b[43m \u001b[49m\u001b[43mlogx\u001b[49m\u001b[38;5;241;43m=\u001b[39;49m\u001b[43mlogx\u001b[49m\u001b[43m,\u001b[49m\u001b[43m \u001b[49m\u001b[43mcdir\u001b[49m\u001b[38;5;241;43m=\u001b[39;49m\u001b[43mcdir\u001b[49m\u001b[43m)\u001b[49m\n\u001b[1;32m   3471\u001b[0m \u001b[38;5;28;01mif\u001b[39;00m obj \u001b[38;5;129;01mis\u001b[39;00m \u001b[38;5;129;01mnot\u001b[39;00m \u001b[38;5;28;01mNone\u001b[39;00m:\n\u001b[1;32m   3472\u001b[0m     \u001b[38;5;28;01mfrom\u001b[39;00m \u001b[38;5;21;01msympy\u001b[39;00m\u001b[38;5;21;01m.\u001b[39;00m\u001b[38;5;21;01msimplify\u001b[39;00m\u001b[38;5;21;01m.\u001b[39;00m\u001b[38;5;21;01mpowsimp\u001b[39;00m \u001b[38;5;28;01mimport\u001b[39;00m powsimp\n",
      "File \u001b[0;32m~/Documents/hemingway/.venv/lib/python3.10/site-packages/sympy/core/mul.py:1973\u001b[0m, in \u001b[0;36mMul._eval_as_leading_term\u001b[0;34m(self, x, logx, cdir)\u001b[0m\n\u001b[1;32m   1972\u001b[0m \u001b[38;5;28;01mdef\u001b[39;00m \u001b[38;5;21m_eval_as_leading_term\u001b[39m(\u001b[38;5;28mself\u001b[39m, x, logx\u001b[38;5;241m=\u001b[39m\u001b[38;5;28;01mNone\u001b[39;00m, cdir\u001b[38;5;241m=\u001b[39m\u001b[38;5;241m0\u001b[39m):\n\u001b[0;32m-> 1973\u001b[0m     \u001b[38;5;28;01mreturn\u001b[39;00m \u001b[38;5;28mself\u001b[39m\u001b[38;5;241m.\u001b[39mfunc(\u001b[38;5;241m*\u001b[39m[t\u001b[38;5;241m.\u001b[39mas_leading_term(x, logx\u001b[38;5;241m=\u001b[39mlogx, cdir\u001b[38;5;241m=\u001b[39mcdir) \u001b[38;5;28;01mfor\u001b[39;00m t \u001b[38;5;129;01min\u001b[39;00m \u001b[38;5;28mself\u001b[39m\u001b[38;5;241m.\u001b[39margs])\n",
      "File \u001b[0;32m~/Documents/hemingway/.venv/lib/python3.10/site-packages/sympy/core/mul.py:1973\u001b[0m, in \u001b[0;36m<listcomp>\u001b[0;34m(.0)\u001b[0m\n\u001b[1;32m   1972\u001b[0m \u001b[38;5;28;01mdef\u001b[39;00m \u001b[38;5;21m_eval_as_leading_term\u001b[39m(\u001b[38;5;28mself\u001b[39m, x, logx\u001b[38;5;241m=\u001b[39m\u001b[38;5;28;01mNone\u001b[39;00m, cdir\u001b[38;5;241m=\u001b[39m\u001b[38;5;241m0\u001b[39m):\n\u001b[0;32m-> 1973\u001b[0m     \u001b[38;5;28;01mreturn\u001b[39;00m \u001b[38;5;28mself\u001b[39m\u001b[38;5;241m.\u001b[39mfunc(\u001b[38;5;241m*\u001b[39m[\u001b[43mt\u001b[49m\u001b[38;5;241;43m.\u001b[39;49m\u001b[43mas_leading_term\u001b[49m\u001b[43m(\u001b[49m\u001b[43mx\u001b[49m\u001b[43m,\u001b[49m\u001b[43m \u001b[49m\u001b[43mlogx\u001b[49m\u001b[38;5;241;43m=\u001b[39;49m\u001b[43mlogx\u001b[49m\u001b[43m,\u001b[49m\u001b[43m \u001b[49m\u001b[43mcdir\u001b[49m\u001b[38;5;241;43m=\u001b[39;49m\u001b[43mcdir\u001b[49m\u001b[43m)\u001b[49m \u001b[38;5;28;01mfor\u001b[39;00m t \u001b[38;5;129;01min\u001b[39;00m \u001b[38;5;28mself\u001b[39m\u001b[38;5;241m.\u001b[39margs])\n",
      "File \u001b[0;32m~/Documents/hemingway/.venv/lib/python3.10/site-packages/sympy/core/cache.py:70\u001b[0m, in \u001b[0;36m__cacheit.<locals>.func_wrapper.<locals>.wrapper\u001b[0;34m(*args, **kwargs)\u001b[0m\n\u001b[1;32m     67\u001b[0m \u001b[38;5;129m@wraps\u001b[39m(func)\n\u001b[1;32m     68\u001b[0m \u001b[38;5;28;01mdef\u001b[39;00m \u001b[38;5;21mwrapper\u001b[39m(\u001b[38;5;241m*\u001b[39margs, \u001b[38;5;241m*\u001b[39m\u001b[38;5;241m*\u001b[39mkwargs):\n\u001b[1;32m     69\u001b[0m     \u001b[38;5;28;01mtry\u001b[39;00m:\n\u001b[0;32m---> 70\u001b[0m         retval \u001b[38;5;241m=\u001b[39m \u001b[43mcfunc\u001b[49m\u001b[43m(\u001b[49m\u001b[38;5;241;43m*\u001b[39;49m\u001b[43margs\u001b[49m\u001b[43m,\u001b[49m\u001b[43m \u001b[49m\u001b[38;5;241;43m*\u001b[39;49m\u001b[38;5;241;43m*\u001b[39;49m\u001b[43mkwargs\u001b[49m\u001b[43m)\u001b[49m\n\u001b[1;32m     71\u001b[0m     \u001b[38;5;28;01mexcept\u001b[39;00m \u001b[38;5;167;01mTypeError\u001b[39;00m \u001b[38;5;28;01mas\u001b[39;00m e:\n\u001b[1;32m     72\u001b[0m         \u001b[38;5;28;01mif\u001b[39;00m \u001b[38;5;129;01mnot\u001b[39;00m e\u001b[38;5;241m.\u001b[39margs \u001b[38;5;129;01mor\u001b[39;00m \u001b[38;5;129;01mnot\u001b[39;00m e\u001b[38;5;241m.\u001b[39margs[\u001b[38;5;241m0\u001b[39m]\u001b[38;5;241m.\u001b[39mstartswith(\u001b[38;5;124m'\u001b[39m\u001b[38;5;124munhashable type:\u001b[39m\u001b[38;5;124m'\u001b[39m):\n",
      "File \u001b[0;32m~/Documents/hemingway/.venv/lib/python3.10/site-packages/sympy/core/expr.py:3470\u001b[0m, in \u001b[0;36mExpr.as_leading_term\u001b[0;34m(self, logx, cdir, *symbols)\u001b[0m\n\u001b[1;32m   3468\u001b[0m \u001b[38;5;28;01mif\u001b[39;00m x \u001b[38;5;129;01mnot\u001b[39;00m \u001b[38;5;129;01min\u001b[39;00m \u001b[38;5;28mself\u001b[39m\u001b[38;5;241m.\u001b[39mfree_symbols:\n\u001b[1;32m   3469\u001b[0m     \u001b[38;5;28;01mreturn\u001b[39;00m \u001b[38;5;28mself\u001b[39m\n\u001b[0;32m-> 3470\u001b[0m obj \u001b[38;5;241m=\u001b[39m \u001b[38;5;28;43mself\u001b[39;49m\u001b[38;5;241;43m.\u001b[39;49m\u001b[43m_eval_as_leading_term\u001b[49m\u001b[43m(\u001b[49m\u001b[43mx\u001b[49m\u001b[43m,\u001b[49m\u001b[43m \u001b[49m\u001b[43mlogx\u001b[49m\u001b[38;5;241;43m=\u001b[39;49m\u001b[43mlogx\u001b[49m\u001b[43m,\u001b[49m\u001b[43m \u001b[49m\u001b[43mcdir\u001b[49m\u001b[38;5;241;43m=\u001b[39;49m\u001b[43mcdir\u001b[49m\u001b[43m)\u001b[49m\n\u001b[1;32m   3471\u001b[0m \u001b[38;5;28;01mif\u001b[39;00m obj \u001b[38;5;129;01mis\u001b[39;00m \u001b[38;5;129;01mnot\u001b[39;00m \u001b[38;5;28;01mNone\u001b[39;00m:\n\u001b[1;32m   3472\u001b[0m     \u001b[38;5;28;01mfrom\u001b[39;00m \u001b[38;5;21;01msympy\u001b[39;00m\u001b[38;5;21;01m.\u001b[39;00m\u001b[38;5;21;01msimplify\u001b[39;00m\u001b[38;5;21;01m.\u001b[39;00m\u001b[38;5;21;01mpowsimp\u001b[39;00m \u001b[38;5;28;01mimport\u001b[39;00m powsimp\n",
      "File \u001b[0;32m~/Documents/hemingway/.venv/lib/python3.10/site-packages/sympy/core/add.py:1017\u001b[0m, in \u001b[0;36mAdd._eval_as_leading_term\u001b[0;34m(self, x, logx, cdir)\u001b[0m\n\u001b[1;32m   1013\u001b[0m     logflags \u001b[38;5;241m=\u001b[39m \u001b[38;5;28mdict\u001b[39m(deep\u001b[38;5;241m=\u001b[39m\u001b[38;5;28;01mTrue\u001b[39;00m, log\u001b[38;5;241m=\u001b[39m\u001b[38;5;28;01mTrue\u001b[39;00m, mul\u001b[38;5;241m=\u001b[39m\u001b[38;5;28;01mFalse\u001b[39;00m, power_exp\u001b[38;5;241m=\u001b[39m\u001b[38;5;28;01mFalse\u001b[39;00m,\n\u001b[1;32m   1014\u001b[0m         power_base\u001b[38;5;241m=\u001b[39m\u001b[38;5;28;01mFalse\u001b[39;00m, multinomial\u001b[38;5;241m=\u001b[39m\u001b[38;5;28;01mFalse\u001b[39;00m, basic\u001b[38;5;241m=\u001b[39m\u001b[38;5;28;01mFalse\u001b[39;00m, force\u001b[38;5;241m=\u001b[39m\u001b[38;5;28;01mFalse\u001b[39;00m,\n\u001b[1;32m   1015\u001b[0m         factor\u001b[38;5;241m=\u001b[39m\u001b[38;5;28;01mFalse\u001b[39;00m)\n\u001b[1;32m   1016\u001b[0m     old \u001b[38;5;241m=\u001b[39m old\u001b[38;5;241m.\u001b[39mexpand(\u001b[38;5;241m*\u001b[39m\u001b[38;5;241m*\u001b[39mlogflags)\n\u001b[0;32m-> 1017\u001b[0m expr \u001b[38;5;241m=\u001b[39m \u001b[43mexpand_mul\u001b[49m\u001b[43m(\u001b[49m\u001b[43mold\u001b[49m\u001b[43m)\u001b[49m\n\u001b[1;32m   1019\u001b[0m \u001b[38;5;28;01mif\u001b[39;00m \u001b[38;5;129;01mnot\u001b[39;00m expr\u001b[38;5;241m.\u001b[39mis_Add:\n\u001b[1;32m   1020\u001b[0m     \u001b[38;5;28;01mreturn\u001b[39;00m expr\u001b[38;5;241m.\u001b[39mas_leading_term(x, logx\u001b[38;5;241m=\u001b[39mlogx, cdir\u001b[38;5;241m=\u001b[39mcdir)\n",
      "File \u001b[0;32m~/Documents/hemingway/.venv/lib/python3.10/site-packages/sympy/core/function.py:2859\u001b[0m, in \u001b[0;36mexpand_mul\u001b[0;34m(expr, deep)\u001b[0m\n\u001b[1;32m   2845\u001b[0m \u001b[38;5;28;01mdef\u001b[39;00m \u001b[38;5;21mexpand_mul\u001b[39m(expr, deep\u001b[38;5;241m=\u001b[39m\u001b[38;5;28;01mTrue\u001b[39;00m):\n\u001b[1;32m   2846\u001b[0m     \u001b[38;5;124;03m\"\"\"\u001b[39;00m\n\u001b[1;32m   2847\u001b[0m \u001b[38;5;124;03m    Wrapper around expand that only uses the mul hint.  See the expand\u001b[39;00m\n\u001b[1;32m   2848\u001b[0m \u001b[38;5;124;03m    docstring for more information.\u001b[39;00m\n\u001b[0;32m   (...)\u001b[0m\n\u001b[1;32m   2857\u001b[0m \n\u001b[1;32m   2858\u001b[0m \u001b[38;5;124;03m    \"\"\"\u001b[39;00m\n\u001b[0;32m-> 2859\u001b[0m     \u001b[38;5;28;01mreturn\u001b[39;00m \u001b[43msympify\u001b[49m\u001b[43m(\u001b[49m\u001b[43mexpr\u001b[49m\u001b[43m)\u001b[49m\u001b[38;5;241;43m.\u001b[39;49m\u001b[43mexpand\u001b[49m\u001b[43m(\u001b[49m\u001b[43mdeep\u001b[49m\u001b[38;5;241;43m=\u001b[39;49m\u001b[43mdeep\u001b[49m\u001b[43m,\u001b[49m\u001b[43m \u001b[49m\u001b[43mmul\u001b[49m\u001b[38;5;241;43m=\u001b[39;49m\u001b[38;5;28;43;01mTrue\u001b[39;49;00m\u001b[43m,\u001b[49m\u001b[43m \u001b[49m\u001b[43mpower_exp\u001b[49m\u001b[38;5;241;43m=\u001b[39;49m\u001b[38;5;28;43;01mFalse\u001b[39;49;00m\u001b[43m,\u001b[49m\n\u001b[1;32m   2860\u001b[0m \u001b[43m    \u001b[49m\u001b[43mpower_base\u001b[49m\u001b[38;5;241;43m=\u001b[39;49m\u001b[38;5;28;43;01mFalse\u001b[39;49;00m\u001b[43m,\u001b[49m\u001b[43m \u001b[49m\u001b[43mbasic\u001b[49m\u001b[38;5;241;43m=\u001b[39;49m\u001b[38;5;28;43;01mFalse\u001b[39;49;00m\u001b[43m,\u001b[49m\u001b[43m \u001b[49m\u001b[43mmultinomial\u001b[49m\u001b[38;5;241;43m=\u001b[39;49m\u001b[38;5;28;43;01mFalse\u001b[39;49;00m\u001b[43m,\u001b[49m\u001b[43m \u001b[49m\u001b[43mlog\u001b[49m\u001b[38;5;241;43m=\u001b[39;49m\u001b[38;5;28;43;01mFalse\u001b[39;49;00m\u001b[43m)\u001b[49m\n",
      "File \u001b[0;32m~/Documents/hemingway/.venv/lib/python3.10/site-packages/sympy/core/cache.py:70\u001b[0m, in \u001b[0;36m__cacheit.<locals>.func_wrapper.<locals>.wrapper\u001b[0;34m(*args, **kwargs)\u001b[0m\n\u001b[1;32m     67\u001b[0m \u001b[38;5;129m@wraps\u001b[39m(func)\n\u001b[1;32m     68\u001b[0m \u001b[38;5;28;01mdef\u001b[39;00m \u001b[38;5;21mwrapper\u001b[39m(\u001b[38;5;241m*\u001b[39margs, \u001b[38;5;241m*\u001b[39m\u001b[38;5;241m*\u001b[39mkwargs):\n\u001b[1;32m     69\u001b[0m     \u001b[38;5;28;01mtry\u001b[39;00m:\n\u001b[0;32m---> 70\u001b[0m         retval \u001b[38;5;241m=\u001b[39m \u001b[43mcfunc\u001b[49m\u001b[43m(\u001b[49m\u001b[38;5;241;43m*\u001b[39;49m\u001b[43margs\u001b[49m\u001b[43m,\u001b[49m\u001b[43m \u001b[49m\u001b[38;5;241;43m*\u001b[39;49m\u001b[38;5;241;43m*\u001b[39;49m\u001b[43mkwargs\u001b[49m\u001b[43m)\u001b[49m\n\u001b[1;32m     71\u001b[0m     \u001b[38;5;28;01mexcept\u001b[39;00m \u001b[38;5;167;01mTypeError\u001b[39;00m \u001b[38;5;28;01mas\u001b[39;00m e:\n\u001b[1;32m     72\u001b[0m         \u001b[38;5;28;01mif\u001b[39;00m \u001b[38;5;129;01mnot\u001b[39;00m e\u001b[38;5;241m.\u001b[39margs \u001b[38;5;129;01mor\u001b[39;00m \u001b[38;5;129;01mnot\u001b[39;00m e\u001b[38;5;241m.\u001b[39margs[\u001b[38;5;241m0\u001b[39m]\u001b[38;5;241m.\u001b[39mstartswith(\u001b[38;5;124m'\u001b[39m\u001b[38;5;124munhashable type:\u001b[39m\u001b[38;5;124m'\u001b[39m):\n",
      "File \u001b[0;32m~/Documents/hemingway/.venv/lib/python3.10/site-packages/sympy/core/expr.py:3651\u001b[0m, in \u001b[0;36mExpr.expand\u001b[0;34m(self, deep, modulus, power_base, power_exp, mul, log, multinomial, basic, **hints)\u001b[0m\n\u001b[1;32m   3649\u001b[0m     \u001b[38;5;28;01mif\u001b[39;00m use_hint:\n\u001b[1;32m   3650\u001b[0m         hint \u001b[38;5;241m=\u001b[39m \u001b[38;5;124m'\u001b[39m\u001b[38;5;124m_eval_expand_\u001b[39m\u001b[38;5;124m'\u001b[39m \u001b[38;5;241m+\u001b[39m hint\n\u001b[0;32m-> 3651\u001b[0m         expr, hit \u001b[38;5;241m=\u001b[39m \u001b[43mExpr\u001b[49m\u001b[38;5;241;43m.\u001b[39;49m\u001b[43m_expand_hint\u001b[49m\u001b[43m(\u001b[49m\u001b[43mexpr\u001b[49m\u001b[43m,\u001b[49m\u001b[43m \u001b[49m\u001b[43mhint\u001b[49m\u001b[43m,\u001b[49m\u001b[43m \u001b[49m\u001b[43mdeep\u001b[49m\u001b[38;5;241;43m=\u001b[39;49m\u001b[43mdeep\u001b[49m\u001b[43m,\u001b[49m\u001b[43m \u001b[49m\u001b[38;5;241;43m*\u001b[39;49m\u001b[38;5;241;43m*\u001b[39;49m\u001b[43mhints\u001b[49m\u001b[43m)\u001b[49m\n\u001b[1;32m   3653\u001b[0m \u001b[38;5;28;01mwhile\u001b[39;00m \u001b[38;5;28;01mTrue\u001b[39;00m:\n\u001b[1;32m   3654\u001b[0m     was \u001b[38;5;241m=\u001b[39m expr\n",
      "File \u001b[0;32m~/Documents/hemingway/.venv/lib/python3.10/site-packages/sympy/core/expr.py:3584\u001b[0m, in \u001b[0;36mExpr._expand_hint\u001b[0;34m(expr, hint, deep, **hints)\u001b[0m\n\u001b[1;32m   3582\u001b[0m sargs \u001b[38;5;241m=\u001b[39m []\n\u001b[1;32m   3583\u001b[0m \u001b[38;5;28;01mfor\u001b[39;00m arg \u001b[38;5;129;01min\u001b[39;00m expr\u001b[38;5;241m.\u001b[39margs:\n\u001b[0;32m-> 3584\u001b[0m     arg, arghit \u001b[38;5;241m=\u001b[39m \u001b[43mExpr\u001b[49m\u001b[38;5;241;43m.\u001b[39;49m\u001b[43m_expand_hint\u001b[49m\u001b[43m(\u001b[49m\u001b[43marg\u001b[49m\u001b[43m,\u001b[49m\u001b[43m \u001b[49m\u001b[43mhint\u001b[49m\u001b[43m,\u001b[49m\u001b[43m \u001b[49m\u001b[38;5;241;43m*\u001b[39;49m\u001b[38;5;241;43m*\u001b[39;49m\u001b[43mhints\u001b[49m\u001b[43m)\u001b[49m\n\u001b[1;32m   3585\u001b[0m     hit \u001b[38;5;241m|\u001b[39m\u001b[38;5;241m=\u001b[39m arghit\n\u001b[1;32m   3586\u001b[0m     sargs\u001b[38;5;241m.\u001b[39mappend(arg)\n",
      "File \u001b[0;32m~/Documents/hemingway/.venv/lib/python3.10/site-packages/sympy/core/expr.py:3584\u001b[0m, in \u001b[0;36mExpr._expand_hint\u001b[0;34m(expr, hint, deep, **hints)\u001b[0m\n\u001b[1;32m   3582\u001b[0m sargs \u001b[38;5;241m=\u001b[39m []\n\u001b[1;32m   3583\u001b[0m \u001b[38;5;28;01mfor\u001b[39;00m arg \u001b[38;5;129;01min\u001b[39;00m expr\u001b[38;5;241m.\u001b[39margs:\n\u001b[0;32m-> 3584\u001b[0m     arg, arghit \u001b[38;5;241m=\u001b[39m \u001b[43mExpr\u001b[49m\u001b[38;5;241;43m.\u001b[39;49m\u001b[43m_expand_hint\u001b[49m\u001b[43m(\u001b[49m\u001b[43marg\u001b[49m\u001b[43m,\u001b[49m\u001b[43m \u001b[49m\u001b[43mhint\u001b[49m\u001b[43m,\u001b[49m\u001b[43m \u001b[49m\u001b[38;5;241;43m*\u001b[39;49m\u001b[38;5;241;43m*\u001b[39;49m\u001b[43mhints\u001b[49m\u001b[43m)\u001b[49m\n\u001b[1;32m   3585\u001b[0m     hit \u001b[38;5;241m|\u001b[39m\u001b[38;5;241m=\u001b[39m arghit\n\u001b[1;32m   3586\u001b[0m     sargs\u001b[38;5;241m.\u001b[39mappend(arg)\n",
      "File \u001b[0;32m~/Documents/hemingway/.venv/lib/python3.10/site-packages/sympy/core/expr.py:3584\u001b[0m, in \u001b[0;36mExpr._expand_hint\u001b[0;34m(expr, hint, deep, **hints)\u001b[0m\n\u001b[1;32m   3582\u001b[0m sargs \u001b[38;5;241m=\u001b[39m []\n\u001b[1;32m   3583\u001b[0m \u001b[38;5;28;01mfor\u001b[39;00m arg \u001b[38;5;129;01min\u001b[39;00m expr\u001b[38;5;241m.\u001b[39margs:\n\u001b[0;32m-> 3584\u001b[0m     arg, arghit \u001b[38;5;241m=\u001b[39m \u001b[43mExpr\u001b[49m\u001b[38;5;241;43m.\u001b[39;49m\u001b[43m_expand_hint\u001b[49m\u001b[43m(\u001b[49m\u001b[43marg\u001b[49m\u001b[43m,\u001b[49m\u001b[43m \u001b[49m\u001b[43mhint\u001b[49m\u001b[43m,\u001b[49m\u001b[43m \u001b[49m\u001b[38;5;241;43m*\u001b[39;49m\u001b[38;5;241;43m*\u001b[39;49m\u001b[43mhints\u001b[49m\u001b[43m)\u001b[49m\n\u001b[1;32m   3585\u001b[0m     hit \u001b[38;5;241m|\u001b[39m\u001b[38;5;241m=\u001b[39m arghit\n\u001b[1;32m   3586\u001b[0m     sargs\u001b[38;5;241m.\u001b[39mappend(arg)\n",
      "File \u001b[0;32m~/Documents/hemingway/.venv/lib/python3.10/site-packages/sympy/core/expr.py:3581\u001b[0m, in \u001b[0;36mExpr._expand_hint\u001b[0;34m(expr, hint, deep, **hints)\u001b[0m\n\u001b[1;32m   3577\u001b[0m hit \u001b[38;5;241m=\u001b[39m \u001b[38;5;28;01mFalse\u001b[39;00m\n\u001b[1;32m   3578\u001b[0m \u001b[38;5;66;03m# XXX: Hack to support non-Basic args\u001b[39;00m\n\u001b[1;32m   3579\u001b[0m \u001b[38;5;66;03m#              |\u001b[39;00m\n\u001b[1;32m   3580\u001b[0m \u001b[38;5;66;03m#              V\u001b[39;00m\n\u001b[0;32m-> 3581\u001b[0m \u001b[38;5;28;01mif\u001b[39;00m deep \u001b[38;5;129;01mand\u001b[39;00m \u001b[38;5;28;43mgetattr\u001b[39;49m\u001b[43m(\u001b[49m\u001b[43mexpr\u001b[49m\u001b[43m,\u001b[49m\u001b[43m \u001b[49m\u001b[38;5;124;43m'\u001b[39;49m\u001b[38;5;124;43margs\u001b[39;49m\u001b[38;5;124;43m'\u001b[39;49m\u001b[43m,\u001b[49m\u001b[43m \u001b[49m\u001b[43m(\u001b[49m\u001b[43m)\u001b[49m\u001b[43m)\u001b[49m \u001b[38;5;129;01mand\u001b[39;00m \u001b[38;5;129;01mnot\u001b[39;00m expr\u001b[38;5;241m.\u001b[39mis_Atom:\n\u001b[1;32m   3582\u001b[0m     sargs \u001b[38;5;241m=\u001b[39m []\n\u001b[1;32m   3583\u001b[0m     \u001b[38;5;28;01mfor\u001b[39;00m arg \u001b[38;5;129;01min\u001b[39;00m expr\u001b[38;5;241m.\u001b[39margs:\n",
      "File \u001b[0;32m~/Documents/hemingway/.venv/lib/python3.10/site-packages/sympy/core/basic.py:750\u001b[0m, in \u001b[0;36mBasic.args\u001b[0;34m(self)\u001b[0m\n\u001b[1;32m    726\u001b[0m     \u001b[38;5;124;03m\"\"\"\u001b[39;00m\n\u001b[1;32m    727\u001b[0m \u001b[38;5;124;03m    The top-level function in an expression.\u001b[39;00m\n\u001b[1;32m    728\u001b[0m \n\u001b[0;32m   (...)\u001b[0m\n\u001b[1;32m    746\u001b[0m \n\u001b[1;32m    747\u001b[0m \u001b[38;5;124;03m    \"\"\"\u001b[39;00m\n\u001b[1;32m    748\u001b[0m     \u001b[38;5;28;01mreturn\u001b[39;00m \u001b[38;5;28mself\u001b[39m\u001b[38;5;241m.\u001b[39m\u001b[38;5;18m__class__\u001b[39m\n\u001b[0;32m--> 750\u001b[0m \u001b[38;5;129m@property\u001b[39m\n\u001b[1;32m    751\u001b[0m \u001b[38;5;28;01mdef\u001b[39;00m \u001b[38;5;21margs\u001b[39m(\u001b[38;5;28mself\u001b[39m) \u001b[38;5;241m-\u001b[39m\u001b[38;5;241m>\u001b[39m \u001b[38;5;28mtuple\u001b[39m[Basic, \u001b[38;5;241m.\u001b[39m\u001b[38;5;241m.\u001b[39m\u001b[38;5;241m.\u001b[39m]:\n\u001b[1;32m    752\u001b[0m     \u001b[38;5;124;03m\"\"\"Returns a tuple of arguments of 'self'.\u001b[39;00m\n\u001b[1;32m    753\u001b[0m \n\u001b[1;32m    754\u001b[0m \u001b[38;5;124;03m    Examples\u001b[39;00m\n\u001b[0;32m   (...)\u001b[0m\n\u001b[1;32m    778\u001b[0m \u001b[38;5;124;03m    change the interface in the future if needed).\u001b[39;00m\n\u001b[1;32m    779\u001b[0m \u001b[38;5;124;03m    \"\"\"\u001b[39;00m\n\u001b[1;32m    780\u001b[0m     \u001b[38;5;28;01mreturn\u001b[39;00m \u001b[38;5;28mself\u001b[39m\u001b[38;5;241m.\u001b[39m_args\n",
      "\u001b[0;31mKeyboardInterrupt\u001b[0m: "
     ]
    }
   ],
   "source": [
    "K1 = f(x, y)\n",
    "K2 = (f_taylor.subs([(dx, a2*h), (dy, b21*h*K1)])+sp.O(h**5)).expand().removeO()\n",
    "K3 = (f_taylor.subs([(dx, a3*h), (dy, b31*h*K1 + b32*h*K2)])+sp.O(h**5)).expand().removeO()\n",
    "K4 = (f_taylor.subs([(dx, a4*h), (dy, b41*h*K1 + b42*h*K2 + b43*h*K3)])+sp.O(h**5)).expand().removeO()\n",
    "ynp1 = (y_(x) + h * (C1*K1 + C2*K2 + C3*K3 + C4*K4)).expand()"
   ]
  },
  {
   "cell_type": "code",
   "execution_count": 8,
   "metadata": {},
   "outputs": [
    {
     "data": {
      "text/latex": [
       "$\\displaystyle \\frac{h^{4} f^{3}{\\left(x,y \\right)} \\frac{\\partial^{3}}{\\partial y^{3}} f{\\left(x,y \\right)}}{24} + \\frac{h^{4} f^{2}{\\left(x,y \\right)} \\frac{\\partial}{\\partial y} f{\\left(x,y \\right)} \\frac{\\partial^{2}}{\\partial y^{2}} f{\\left(x,y \\right)}}{6} + \\frac{h^{4} f^{2}{\\left(x,y \\right)} \\frac{\\partial^{3}}{\\partial y^{2}\\partial x} f{\\left(x,y \\right)}}{8} + \\frac{h^{4} f{\\left(x,y \\right)} \\frac{\\partial}{\\partial x} f{\\left(x,y \\right)} \\frac{\\partial^{2}}{\\partial y^{2}} f{\\left(x,y \\right)}}{8} + \\frac{h^{4} f{\\left(x,y \\right)} \\left(\\frac{\\partial}{\\partial y} f{\\left(x,y \\right)}\\right)^{3}}{24} + \\frac{5 h^{4} f{\\left(x,y \\right)} \\frac{\\partial}{\\partial y} f{\\left(x,y \\right)} \\frac{\\partial^{2}}{\\partial y\\partial x} f{\\left(x,y \\right)}}{24} + \\frac{h^{4} f{\\left(x,y \\right)} \\frac{\\partial^{3}}{\\partial y\\partial x^{2}} f{\\left(x,y \\right)}}{8} + \\frac{h^{4} \\frac{\\partial}{\\partial x} f{\\left(x,y \\right)} \\left(\\frac{\\partial}{\\partial y} f{\\left(x,y \\right)}\\right)^{2}}{24} + \\frac{h^{4} \\frac{\\partial}{\\partial x} f{\\left(x,y \\right)} \\frac{\\partial^{2}}{\\partial y\\partial x} f{\\left(x,y \\right)}}{8} + \\frac{h^{4} \\frac{\\partial^{2}}{\\partial x^{2}} f{\\left(x,y \\right)} \\frac{\\partial}{\\partial y} f{\\left(x,y \\right)}}{24} + \\frac{h^{4} \\frac{\\partial^{3}}{\\partial x^{3}} f{\\left(x,y \\right)}}{24} + \\frac{h^{3} f^{2}{\\left(x,y \\right)} \\frac{\\partial^{2}}{\\partial y^{2}} f{\\left(x,y \\right)}}{6} + \\frac{h^{3} f{\\left(x,y \\right)} \\left(\\frac{\\partial}{\\partial y} f{\\left(x,y \\right)}\\right)^{2}}{6} + \\frac{h^{3} f{\\left(x,y \\right)} \\frac{\\partial^{2}}{\\partial y\\partial x} f{\\left(x,y \\right)}}{3} + \\frac{h^{3} \\frac{\\partial}{\\partial x} f{\\left(x,y \\right)} \\frac{\\partial}{\\partial y} f{\\left(x,y \\right)}}{6} + \\frac{h^{3} \\frac{\\partial^{2}}{\\partial x^{2}} f{\\left(x,y \\right)}}{6} + \\frac{h^{2} f{\\left(x,y \\right)} \\frac{\\partial}{\\partial y} f{\\left(x,y \\right)}}{2} + \\frac{h^{2} \\frac{\\partial}{\\partial x} f{\\left(x,y \\right)}}{2} + h f{\\left(x,y \\right)} + y{\\left(x \\right)}$"
      ],
      "text/plain": [
       "h**4*f(x, y)**3*Derivative(f(x, y), (y, 3))/24 + h**4*f(x, y)**2*Derivative(f(x, y), y)*Derivative(f(x, y), (y, 2))/6 + h**4*f(x, y)**2*Derivative(f(x, y), x, (y, 2))/8 + h**4*f(x, y)*Derivative(f(x, y), x)*Derivative(f(x, y), (y, 2))/8 + h**4*f(x, y)*Derivative(f(x, y), y)**3/24 + 5*h**4*f(x, y)*Derivative(f(x, y), y)*Derivative(f(x, y), x, y)/24 + h**4*f(x, y)*Derivative(f(x, y), (x, 2), y)/8 + h**4*Derivative(f(x, y), x)*Derivative(f(x, y), y)**2/24 + h**4*Derivative(f(x, y), x)*Derivative(f(x, y), x, y)/8 + h**4*Derivative(f(x, y), (x, 2))*Derivative(f(x, y), y)/24 + h**4*Derivative(f(x, y), (x, 3))/24 + h**3*f(x, y)**2*Derivative(f(x, y), (y, 2))/6 + h**3*f(x, y)*Derivative(f(x, y), y)**2/6 + h**3*f(x, y)*Derivative(f(x, y), x, y)/3 + h**3*Derivative(f(x, y), x)*Derivative(f(x, y), y)/6 + h**3*Derivative(f(x, y), (x, 2))/6 + h**2*f(x, y)*Derivative(f(x, y), y)/2 + h**2*Derivative(f(x, y), x)/2 + h*f(x, y) + y(x)"
      ]
     },
     "metadata": {},
     "output_type": "display_data"
    }
   ],
   "source": [
    "target_ynp1 = y_taylor.subs(dx, h).expand()\n",
    "diff = ynp1 - target_ynp1\n",
    "display(target_ynp1)"
   ]
  },
  {
   "cell_type": "code",
   "execution_count": 9,
   "metadata": {},
   "outputs": [
    {
     "name": "stdout",
     "output_type": "stream",
     "text": [
      "19\n"
     ]
    },
    {
     "data": {
      "text/latex": [
       "$\\displaystyle C_{1} + C_{2} + C_{3} + C_{4} - 1$"
      ],
      "text/plain": [
       "C_1 + C_2 + C_3 + C_4 - 1"
      ]
     },
     "metadata": {},
     "output_type": "display_data"
    },
    {
     "data": {
      "text/latex": [
       "$\\displaystyle C_{2} a_{2} + C_{3} a_{3} + C_{4} a_{4} - \\frac{1}{2}$"
      ],
      "text/plain": [
       "C_2*a_2 + C_3*a_3 + C_4*a_4 - 1/2"
      ]
     },
     "metadata": {},
     "output_type": "display_data"
    },
    {
     "data": {
      "text/latex": [
       "$\\displaystyle C_{2} b_{21} + C_{3} b_{31} + C_{3} b_{32} + C_{4} b_{41} + C_{4} b_{42} + C_{4} b_{43} - \\frac{1}{2}$"
      ],
      "text/plain": [
       "C_2*b_{21} + C_3*b_{31} + C_3*b_{32} + C_4*b_{41} + C_4*b_{42} + C_4*b_{43} - 1/2"
      ]
     },
     "metadata": {},
     "output_type": "display_data"
    },
    {
     "data": {
      "text/latex": [
       "$\\displaystyle \\frac{C_{2} a_{2}^{2}}{2} + \\frac{C_{3} a_{3}^{2}}{2} + \\frac{C_{4} a_{4}^{2}}{2} - \\frac{1}{6}$"
      ],
      "text/plain": [
       "C_2*a_2**2/2 + C_3*a_3**2/2 + C_4*a_4**2/2 - 1/6"
      ]
     },
     "metadata": {},
     "output_type": "display_data"
    },
    {
     "data": {
      "text/latex": [
       "$\\displaystyle C_{2} a_{2} b_{21} + C_{3} a_{3} b_{31} + C_{3} a_{3} b_{32} + C_{4} a_{4} b_{41} + C_{4} a_{4} b_{42} + C_{4} a_{4} b_{43} - \\frac{1}{3}$"
      ],
      "text/plain": [
       "C_2*a_2*b_{21} + C_3*a_3*b_{31} + C_3*a_3*b_{32} + C_4*a_4*b_{41} + C_4*a_4*b_{42} + C_4*a_4*b_{43} - 1/3"
      ]
     },
     "metadata": {},
     "output_type": "display_data"
    },
    {
     "data": {
      "text/latex": [
       "$\\displaystyle C_{3} b_{21} b_{32} + C_{4} b_{21} b_{42} + C_{4} b_{31} b_{43} + C_{4} b_{32} b_{43} - \\frac{1}{6}$"
      ],
      "text/plain": [
       "C_3*b_{21}*b_{32} + C_4*b_{21}*b_{42} + C_4*b_{31}*b_{43} + C_4*b_{32}*b_{43} - 1/6"
      ]
     },
     "metadata": {},
     "output_type": "display_data"
    },
    {
     "data": {
      "text/latex": [
       "$\\displaystyle \\frac{C_{2} b_{21}^{2}}{2} + \\frac{C_{3} b_{31}^{2}}{2} + C_{3} b_{31} b_{32} + \\frac{C_{3} b_{32}^{2}}{2} + \\frac{C_{4} b_{41}^{2}}{2} + C_{4} b_{41} b_{42} + C_{4} b_{41} b_{43} + \\frac{C_{4} b_{42}^{2}}{2} + C_{4} b_{42} b_{43} + \\frac{C_{4} b_{43}^{2}}{2} - \\frac{1}{6}$"
      ],
      "text/plain": [
       "C_2*b_{21}**2/2 + C_3*b_{31}**2/2 + C_3*b_{31}*b_{32} + C_3*b_{32}**2/2 + C_4*b_{41}**2/2 + C_4*b_{41}*b_{42} + C_4*b_{41}*b_{43} + C_4*b_{42}**2/2 + C_4*b_{42}*b_{43} + C_4*b_{43}**2/2 - 1/6"
      ]
     },
     "metadata": {},
     "output_type": "display_data"
    },
    {
     "data": {
      "text/latex": [
       "$\\displaystyle C_{3} a_{2} b_{32} + C_{4} a_{2} b_{42} + C_{4} a_{3} b_{43} - \\frac{1}{6}$"
      ],
      "text/plain": [
       "C_3*a_2*b_{32} + C_4*a_2*b_{42} + C_4*a_3*b_{43} - 1/6"
      ]
     },
     "metadata": {},
     "output_type": "display_data"
    },
    {
     "data": {
      "text/latex": [
       "$\\displaystyle \\frac{C_{2} a_{2}^{3}}{6} + \\frac{C_{3} a_{3}^{3}}{6} + \\frac{C_{4} a_{4}^{3}}{6} - \\frac{1}{24}$"
      ],
      "text/plain": [
       "C_2*a_2**3/6 + C_3*a_3**3/6 + C_4*a_4**3/6 - 1/24"
      ]
     },
     "metadata": {},
     "output_type": "display_data"
    },
    {
     "data": {
      "text/latex": [
       "$\\displaystyle \\frac{C_{2} a_{2} b_{21}^{2}}{2} + \\frac{C_{3} a_{3} b_{31}^{2}}{2} + C_{3} a_{3} b_{31} b_{32} + \\frac{C_{3} a_{3} b_{32}^{2}}{2} + \\frac{C_{4} a_{4} b_{41}^{2}}{2} + C_{4} a_{4} b_{41} b_{42} + C_{4} a_{4} b_{41} b_{43} + \\frac{C_{4} a_{4} b_{42}^{2}}{2} + C_{4} a_{4} b_{42} b_{43} + \\frac{C_{4} a_{4} b_{43}^{2}}{2} - \\frac{1}{8}$"
      ],
      "text/plain": [
       "C_2*a_2*b_{21}**2/2 + C_3*a_3*b_{31}**2/2 + C_3*a_3*b_{31}*b_{32} + C_3*a_3*b_{32}**2/2 + C_4*a_4*b_{41}**2/2 + C_4*a_4*b_{41}*b_{42} + C_4*a_4*b_{41}*b_{43} + C_4*a_4*b_{42}**2/2 + C_4*a_4*b_{42}*b_{43} + C_4*a_4*b_{43}**2/2 - 1/8"
      ]
     },
     "metadata": {},
     "output_type": "display_data"
    },
    {
     "data": {
      "text/latex": [
       "$\\displaystyle C_{3} a_{2} a_{3} b_{32} + C_{4} a_{2} a_{4} b_{42} + C_{4} a_{3} a_{4} b_{43} - \\frac{1}{8}$"
      ],
      "text/plain": [
       "C_3*a_2*a_3*b_{32} + C_4*a_2*a_4*b_{42} + C_4*a_3*a_4*b_{43} - 1/8"
      ]
     },
     "metadata": {},
     "output_type": "display_data"
    },
    {
     "data": {
      "text/latex": [
       "$\\displaystyle \\frac{C_{2} a_{2}^{2} b_{21}}{2} + \\frac{C_{3} a_{3}^{2} b_{31}}{2} + \\frac{C_{3} a_{3}^{2} b_{32}}{2} + \\frac{C_{4} a_{4}^{2} b_{41}}{2} + \\frac{C_{4} a_{4}^{2} b_{42}}{2} + \\frac{C_{4} a_{4}^{2} b_{43}}{2} - \\frac{1}{8}$"
      ],
      "text/plain": [
       "C_2*a_2**2*b_{21}/2 + C_3*a_3**2*b_{31}/2 + C_3*a_3**2*b_{32}/2 + C_4*a_4**2*b_{41}/2 + C_4*a_4**2*b_{42}/2 + C_4*a_4**2*b_{43}/2 - 1/8"
      ]
     },
     "metadata": {},
     "output_type": "display_data"
    },
    {
     "data": {
      "text/latex": [
       "$\\displaystyle C_{4} a_{2} b_{32} b_{43} - \\frac{1}{24}$"
      ],
      "text/plain": [
       "C_4*a_2*b_{32}*b_{43} - 1/24"
      ]
     },
     "metadata": {},
     "output_type": "display_data"
    },
    {
     "data": {
      "text/latex": [
       "$\\displaystyle C_{4} b_{21} b_{32} b_{43} - \\frac{1}{24}$"
      ],
      "text/plain": [
       "C_4*b_{21}*b_{32}*b_{43} - 1/24"
      ]
     },
     "metadata": {},
     "output_type": "display_data"
    },
    {
     "data": {
      "text/latex": [
       "$\\displaystyle \\frac{C_{2} b_{21}^{3}}{6} + \\frac{C_{3} b_{31}^{3}}{6} + \\frac{C_{3} b_{31}^{2} b_{32}}{2} + \\frac{C_{3} b_{31} b_{32}^{2}}{2} + \\frac{C_{3} b_{32}^{3}}{6} + \\frac{C_{4} b_{41}^{3}}{6} + \\frac{C_{4} b_{41}^{2} b_{42}}{2} + \\frac{C_{4} b_{41}^{2} b_{43}}{2} + \\frac{C_{4} b_{41} b_{42}^{2}}{2} + C_{4} b_{41} b_{42} b_{43} + \\frac{C_{4} b_{41} b_{43}^{2}}{2} + \\frac{C_{4} b_{42}^{3}}{6} + \\frac{C_{4} b_{42}^{2} b_{43}}{2} + \\frac{C_{4} b_{42} b_{43}^{2}}{2} + \\frac{C_{4} b_{43}^{3}}{6} - \\frac{1}{24}$"
      ],
      "text/plain": [
       "C_2*b_{21}**3/6 + C_3*b_{31}**3/6 + C_3*b_{31}**2*b_{32}/2 + C_3*b_{31}*b_{32}**2/2 + C_3*b_{32}**3/6 + C_4*b_{41}**3/6 + C_4*b_{41}**2*b_{42}/2 + C_4*b_{41}**2*b_{43}/2 + C_4*b_{41}*b_{42}**2/2 + C_4*b_{41}*b_{42}*b_{43} + C_4*b_{41}*b_{43}**2/2 + C_4*b_{42}**3/6 + C_4*b_{42}**2*b_{43}/2 + C_4*b_{42}*b_{43}**2/2 + C_4*b_{43}**3/6 - 1/24"
      ]
     },
     "metadata": {},
     "output_type": "display_data"
    },
    {
     "data": {
      "text/latex": [
       "$\\displaystyle \\frac{C_{3} a_{2}^{2} b_{32}}{2} + \\frac{C_{4} a_{2}^{2} b_{42}}{2} + \\frac{C_{4} a_{3}^{2} b_{43}}{2} - \\frac{1}{24}$"
      ],
      "text/plain": [
       "C_3*a_2**2*b_{32}/2 + C_4*a_2**2*b_{42}/2 + C_4*a_3**2*b_{43}/2 - 1/24"
      ]
     },
     "metadata": {},
     "output_type": "display_data"
    },
    {
     "data": {
      "text/latex": [
       "$\\displaystyle C_{3} a_{2} b_{21} b_{32} + C_{3} a_{3} b_{21} b_{32} + C_{4} a_{2} b_{21} b_{42} + C_{4} a_{3} b_{31} b_{43} + C_{4} a_{3} b_{32} b_{43} + C_{4} a_{4} b_{21} b_{42} + C_{4} a_{4} b_{31} b_{43} + C_{4} a_{4} b_{32} b_{43} - \\frac{5}{24}$"
      ],
      "text/plain": [
       "C_3*a_2*b_{21}*b_{32} + C_3*a_3*b_{21}*b_{32} + C_4*a_2*b_{21}*b_{42} + C_4*a_3*b_{31}*b_{43} + C_4*a_3*b_{32}*b_{43} + C_4*a_4*b_{21}*b_{42} + C_4*a_4*b_{31}*b_{43} + C_4*a_4*b_{32}*b_{43} - 5/24"
      ]
     },
     "metadata": {},
     "output_type": "display_data"
    },
    {
     "data": {
      "text/latex": [
       "$\\displaystyle \\frac{C_{3} b_{21}^{2} b_{32}}{2} + C_{3} b_{21} b_{31} b_{32} + C_{3} b_{21} b_{32}^{2} + \\frac{C_{4} b_{21}^{2} b_{42}}{2} + C_{4} b_{21} b_{41} b_{42} + C_{4} b_{21} b_{42}^{2} + C_{4} b_{21} b_{42} b_{43} + \\frac{C_{4} b_{31}^{2} b_{43}}{2} + C_{4} b_{31} b_{32} b_{43} + C_{4} b_{31} b_{41} b_{43} + C_{4} b_{31} b_{42} b_{43} + C_{4} b_{31} b_{43}^{2} + \\frac{C_{4} b_{32}^{2} b_{43}}{2} + C_{4} b_{32} b_{41} b_{43} + C_{4} b_{32} b_{42} b_{43} + C_{4} b_{32} b_{43}^{2} - \\frac{1}{6}$"
      ],
      "text/plain": [
       "C_3*b_{21}**2*b_{32}/2 + C_3*b_{21}*b_{31}*b_{32} + C_3*b_{21}*b_{32}**2 + C_4*b_{21}**2*b_{42}/2 + C_4*b_{21}*b_{41}*b_{42} + C_4*b_{21}*b_{42}**2 + C_4*b_{21}*b_{42}*b_{43} + C_4*b_{31}**2*b_{43}/2 + C_4*b_{31}*b_{32}*b_{43} + C_4*b_{31}*b_{41}*b_{43} + C_4*b_{31}*b_{42}*b_{43} + C_4*b_{31}*b_{43}**2 + C_4*b_{32}**2*b_{43}/2 + C_4*b_{32}*b_{41}*b_{43} + C_4*b_{32}*b_{42}*b_{43} + C_4*b_{32}*b_{43}**2 - 1/6"
      ]
     },
     "metadata": {},
     "output_type": "display_data"
    },
    {
     "data": {
      "text/latex": [
       "$\\displaystyle C_{3} a_{2} b_{31} b_{32} + C_{3} a_{2} b_{32}^{2} + C_{4} a_{2} b_{41} b_{42} + C_{4} a_{2} b_{42}^{2} + C_{4} a_{2} b_{42} b_{43} + C_{4} a_{3} b_{41} b_{43} + C_{4} a_{3} b_{42} b_{43} + C_{4} a_{3} b_{43}^{2} - \\frac{1}{8}$"
      ],
      "text/plain": [
       "C_3*a_2*b_{31}*b_{32} + C_3*a_2*b_{32}**2 + C_4*a_2*b_{41}*b_{42} + C_4*a_2*b_{42}**2 + C_4*a_2*b_{42}*b_{43} + C_4*a_3*b_{41}*b_{43} + C_4*a_3*b_{42}*b_{43} + C_4*a_3*b_{43}**2 - 1/8"
      ]
     },
     "metadata": {},
     "output_type": "display_data"
    }
   ],
   "source": [
    "params = [C1, C2, C3, C4, h, a2, a3, a4, b21, b31, b32, b41, b42, b43]\n",
    "conds = []\n",
    "for p in range(1, 5):\n",
    "    part_p = diff.coeff(h, p)\n",
    "    for arg in part_p.args:\n",
    "        tmp = 1\n",
    "        for parts in arg.args:\n",
    "            if not parts.is_number and not parts.has(*params):\n",
    "                tmp *= parts\n",
    "        cond = part_p.coeff(tmp, 1)\n",
    "        if cond not in conds:\n",
    "            conds.append(cond)\n",
    "print(len(conds))\n",
    "display(*conds)"
   ]
  },
  {
   "cell_type": "code",
   "execution_count": 10,
   "metadata": {},
   "outputs": [
    {
     "data": {
      "text/latex": [
       "$\\displaystyle \\frac{C_{2} a_{2}^{2}}{2} - C_{2} a_{2} b_{21} + \\frac{C_{2} b_{21}^{2}}{2} + \\frac{C_{3} a_{3}^{2}}{2} - C_{3} a_{3} b_{31} - C_{3} a_{3} b_{32} + \\frac{C_{3} b_{31}^{2}}{2} + C_{3} b_{31} b_{32} + \\frac{C_{3} b_{32}^{2}}{2} + \\frac{C_{4} a_{4}^{2}}{2} - C_{4} a_{4} b_{41} - C_{4} a_{4} b_{42} - C_{4} a_{4} b_{43} + \\frac{C_{4} b_{41}^{2}}{2} + C_{4} b_{41} b_{42} + C_{4} b_{41} b_{43} + \\frac{C_{4} b_{42}^{2}}{2} + C_{4} b_{42} b_{43} + \\frac{C_{4} b_{43}^{2}}{2}$"
      ],
      "text/plain": [
       "C_2*a_2**2/2 - C_2*a_2*b_{21} + C_2*b_{21}**2/2 + C_3*a_3**2/2 - C_3*a_3*b_{31} - C_3*a_3*b_{32} + C_3*b_{31}**2/2 + C_3*b_{31}*b_{32} + C_3*b_{32}**2/2 + C_4*a_4**2/2 - C_4*a_4*b_{41} - C_4*a_4*b_{42} - C_4*a_4*b_{43} + C_4*b_{41}**2/2 + C_4*b_{41}*b_{42} + C_4*b_{41}*b_{43} + C_4*b_{42}**2/2 + C_4*b_{42}*b_{43} + C_4*b_{43}**2/2"
      ]
     },
     "execution_count": 10,
     "metadata": {},
     "output_type": "execute_result"
    }
   ],
   "source": [
    "conds[3] - conds[4] + conds[6]"
   ]
  },
  {
   "cell_type": "code",
   "execution_count": 11,
   "metadata": {},
   "outputs": [
    {
     "data": {
      "text/latex": [
       "$\\displaystyle \\frac{C_{2} \\left(a_{2} - b_{21}\\right)^{2}}{2} + \\frac{C_{3} \\left(a_{3} - b_{31} - b_{32}\\right)^{2}}{2} + \\frac{C_{4} \\left(a_{4} - b_{41} - b_{42} - b_{43}\\right)^{2}}{2}$"
      ],
      "text/plain": [
       "C_2*(a_2 - b_{21})**2/2 + C_3*(a_3 - b_{31} - b_{32})**2/2 + C_4*(a_4 - b_{41} - b_{42} - b_{43})**2/2"
      ]
     },
     "metadata": {},
     "output_type": "display_data"
    },
    {
     "data": {
      "text/latex": [
       "$\\displaystyle \\frac{C_{2} a_{2}^{2}}{2} - C_{2} a_{2} b_{21} + \\frac{C_{2} b_{21}^{2}}{2} + \\frac{C_{3} a_{3}^{2}}{2} - C_{3} a_{3} b_{31} - C_{3} a_{3} b_{32} + \\frac{C_{3} b_{31}^{2}}{2} + C_{3} b_{31} b_{32} + \\frac{C_{3} b_{32}^{2}}{2} + \\frac{C_{4} a_{4}^{2}}{2} - C_{4} a_{4} b_{41} - C_{4} a_{4} b_{42} - C_{4} a_{4} b_{43} + \\frac{C_{4} b_{41}^{2}}{2} + C_{4} b_{41} b_{42} + C_{4} b_{41} b_{43} + \\frac{C_{4} b_{42}^{2}}{2} + C_{4} b_{42} b_{43} + \\frac{C_{4} b_{43}^{2}}{2}$"
      ],
      "text/plain": [
       "C_2*a_2**2/2 - C_2*a_2*b_{21} + C_2*b_{21}**2/2 + C_3*a_3**2/2 - C_3*a_3*b_{31} - C_3*a_3*b_{32} + C_3*b_{31}**2/2 + C_3*b_{31}*b_{32} + C_3*b_{32}**2/2 + C_4*a_4**2/2 - C_4*a_4*b_{41} - C_4*a_4*b_{42} - C_4*a_4*b_{43} + C_4*b_{41}**2/2 + C_4*b_{41}*b_{42} + C_4*b_{41}*b_{43} + C_4*b_{42}**2/2 + C_4*b_{42}*b_{43} + C_4*b_{43}**2/2"
      ]
     },
     "metadata": {},
     "output_type": "display_data"
    },
    {
     "data": {
      "text/latex": [
       "$\\displaystyle 0$"
      ],
      "text/plain": [
       "0"
      ]
     },
     "metadata": {},
     "output_type": "display_data"
    }
   ],
   "source": [
    "a = C2*(a2 - b21)**2/2 + C3*(a3 - b31 - b32)**2/2 + C4*(a4 - b41 - b42 - b43)**2/2\n",
    "b = conds[3] - conds[4] + conds[6]\n",
    "display(a, b, a.expand() - b.expand())"
   ]
  },
  {
   "cell_type": "code",
   "execution_count": 89,
   "metadata": {},
   "outputs": [
    {
     "name": "stdout",
     "output_type": "stream",
     "text": [
      "11\n"
     ]
    },
    {
     "data": {
      "text/latex": [
       "$\\displaystyle a_{2} - b_{21}$"
      ],
      "text/plain": [
       "a_2 - b_{21}"
      ]
     },
     "metadata": {},
     "output_type": "display_data"
    },
    {
     "data": {
      "text/latex": [
       "$\\displaystyle a_{3} - b_{31} - b_{32}$"
      ],
      "text/plain": [
       "a_3 - b_{31} - b_{32}"
      ]
     },
     "metadata": {},
     "output_type": "display_data"
    },
    {
     "data": {
      "text/latex": [
       "$\\displaystyle a_{4} - b_{41} - b_{42} - b_{43}$"
      ],
      "text/plain": [
       "a_4 - b_{41} - b_{42} - b_{43}"
      ]
     },
     "metadata": {},
     "output_type": "display_data"
    },
    {
     "data": {
      "text/latex": [
       "$\\displaystyle C_{1} + C_{2} + C_{3} + C_{4} - 1$"
      ],
      "text/plain": [
       "C_1 + C_2 + C_3 + C_4 - 1"
      ]
     },
     "metadata": {},
     "output_type": "display_data"
    },
    {
     "data": {
      "text/latex": [
       "$\\displaystyle C_{2} a_{2} + C_{3} a_{3} + C_{4} a_{4} - \\frac{1}{2}$"
      ],
      "text/plain": [
       "C_2*a_2 + C_3*a_3 + C_4*a_4 - 1/2"
      ]
     },
     "metadata": {},
     "output_type": "display_data"
    },
    {
     "data": {
      "text/latex": [
       "$\\displaystyle C_{2} a_{2}^{2} + C_{3} a_{3}^{2} + C_{4} a_{4}^{2} - \\frac{1}{3}$"
      ],
      "text/plain": [
       "C_2*a_2**2 + C_3*a_3**2 + C_4*a_4**2 - 1/3"
      ]
     },
     "metadata": {},
     "output_type": "display_data"
    },
    {
     "data": {
      "text/latex": [
       "$\\displaystyle C_{3} a_{2} b_{32} + C_{4} a_{2} b_{42} + C_{4} a_{3} b_{43} - \\frac{1}{6}$"
      ],
      "text/plain": [
       "C_3*a_2*b_{32} + C_4*a_2*b_{42} + C_4*a_3*b_{43} - 1/6"
      ]
     },
     "metadata": {},
     "output_type": "display_data"
    },
    {
     "data": {
      "text/latex": [
       "$\\displaystyle C_{2} a_{2}^{3} + C_{3} a_{3}^{3} + C_{4} a_{4}^{3} - \\frac{1}{4}$"
      ],
      "text/plain": [
       "C_2*a_2**3 + C_3*a_3**3 + C_4*a_4**3 - 1/4"
      ]
     },
     "metadata": {},
     "output_type": "display_data"
    },
    {
     "data": {
      "text/latex": [
       "$\\displaystyle C_{3} a_{2} a_{3} b_{32} + C_{4} a_{2} a_{4} b_{42} + C_{4} a_{3} a_{4} b_{43} - \\frac{1}{8}$"
      ],
      "text/plain": [
       "C_3*a_2*a_3*b_{32} + C_4*a_2*a_4*b_{42} + C_4*a_3*a_4*b_{43} - 1/8"
      ]
     },
     "metadata": {},
     "output_type": "display_data"
    },
    {
     "data": {
      "text/latex": [
       "$\\displaystyle C_{4} a_{2} b_{32} b_{43} - \\frac{1}{24}$"
      ],
      "text/plain": [
       "C_4*a_2*b_{32}*b_{43} - 1/24"
      ]
     },
     "metadata": {},
     "output_type": "display_data"
    },
    {
     "data": {
      "text/latex": [
       "$\\displaystyle C_{3} a_{2}^{2} b_{32} + C_{4} a_{2}^{2} b_{42} + C_{4} a_{3}^{2} b_{43} - \\frac{1}{12}$"
      ],
      "text/plain": [
       "C_3*a_2**2*b_{32} + C_4*a_2**2*b_{42} + C_4*a_3**2*b_{43} - 1/12"
      ]
     },
     "metadata": {},
     "output_type": "display_data"
    }
   ],
   "source": [
    "conds2 = [\n",
    "    a2-b21,\n",
    "    a3-b31-b32,\n",
    "    a4-b41-b42-b43,\n",
    "    conds[0],\n",
    "    conds[1],\n",
    "    conds[3]*2,\n",
    "    conds[7],\n",
    "    conds[8]*6,\n",
    "    conds[10],\n",
    "    conds[12],\n",
    "    conds[15]*2,\n",
    "]\n",
    "print(len(conds2))\n",
    "display(*conds2)"
   ]
  },
  {
   "cell_type": "code",
   "execution_count": 87,
   "metadata": {},
   "outputs": [
    {
     "data": {
      "text/latex": [
       "$\\displaystyle C_{3} a_{2} a_{3} b_{32} + C_{4} a_{2} a_{4} b_{42} + C_{4} a_{3} a_{4} b_{43} - \\frac{1}{8}$"
      ],
      "text/plain": [
       "C_3*a_2*a_3*b_{32} + C_4*a_2*a_4*b_{42} + C_4*a_3*a_4*b_{43} - 1/8"
      ]
     },
     "execution_count": 87,
     "metadata": {},
     "output_type": "execute_result"
    }
   ],
   "source": [
    "conds[2].collect(C2).collect(C3).collect(C4).subs([(b21, a2), (b31+b32, a3), (b41+b42+b43, a4)])\n",
    "conds[4].collect(C2*a2).collect(C3*a3).collect(C4*a4).subs([(b21, a2), (b31+b32, a3), (b41+b42+b43, a4)])\n",
    "conds[6].collect(C3).collect(C4)\n",
    "conds[5].subs(b21, a2).collect(C4*b43).subs(b31+b32, a3)\n",
    "(conds[9]*2).subs(b21, a2).collect(C3*a3).collect(C4*a4)\n",
    "(conds[11].collect(C3*a3**2/2).collect(C4*a4**2/2).subs([(b21, a2), (b31+b32, a3), (b41+b42+b43, a4)])*2)\n",
    "conds[13].subs(b21, a2)\n",
    "(conds[14]*6).subs(b21, a2).collect(C2).collect(C3).collect(C4)\n",
    "conds[16].subs(b21, a2).collect(C4*a3*b43).collect(C4*a4*b43).subs(b31+b32, a3) - conds[15]*2 - conds[10]\n",
    "conds[17].subs(b21, a2).collect(C3*a2*b32).collect(C4*b31*b43).collect(C4*b32*b43).collect(C4*a2*b42).subs([(b31+b32, a3), (b41+b42+b43, a4)]).expand().collect(C4*a4*b43).collect(C4*b43).subs([(b31+b32, a3), (((b31+b32)**2/2).expand(), a3**2/2)]).expand()-conds[10]-conds[15]\n",
    "conds[18].collect(C3*a2*b32).collect(C4*a2*b42).collect(C4*a3*b43).subs([(b21, a2), (b31+b32, a3), (b41+b42+b43, a4)])"
   ]
  },
  {
   "cell_type": "markdown",
   "metadata": {},
   "source": [
    "$$\n",
    "\\begin{aligned}\n",
    "y_{n+1} =& y_n + h(\\frac{1}{6} K_1 + \\frac{2}{6} K_2 + \\frac{2}{6} K_3 + \\frac{1}{6} K_4)\\\\\n",
    "K_1 =& f(x_n, y_n)\\\\\n",
    "K_2 =& f(x_n + \\frac{h}{2}, y_n + \\frac{h}{2} K_1)\\\\\n",
    "K_3 =& f(x_n + \\frac{h}{2} h, y_n + \\frac{h}{2} K_2)\\\\\n",
    "K_4 =& f(x_n + h, y_n + h k_2)\n",
    "\\end{aligned}\n",
    "$$"
   ]
  },
  {
   "cell_type": "code",
   "execution_count": 93,
   "metadata": {},
   "outputs": [
    {
     "data": {
      "text/latex": [
       "$\\displaystyle 1.0 \\cdot 10^{-125}$"
      ],
      "text/plain": [
       "0.e-125"
      ]
     },
     "metadata": {},
     "output_type": "display_data"
    },
    {
     "data": {
      "text/latex": [
       "$\\displaystyle 1.0 \\cdot 10^{-125}$"
      ],
      "text/plain": [
       "0.e-125"
      ]
     },
     "metadata": {},
     "output_type": "display_data"
    },
    {
     "data": {
      "text/latex": [
       "$\\displaystyle 2.0 \\cdot 10^{-125}$"
      ],
      "text/plain": [
       "0.e-125"
      ]
     },
     "metadata": {},
     "output_type": "display_data"
    },
    {
     "data": {
      "text/latex": [
       "$\\displaystyle -6.0 \\cdot 10^{-126}$"
      ],
      "text/plain": [
       "-0.e-125"
      ]
     },
     "metadata": {},
     "output_type": "display_data"
    },
    {
     "data": {
      "text/latex": [
       "$\\displaystyle -3.0 \\cdot 10^{-126}$"
      ],
      "text/plain": [
       "-0.e-126"
      ]
     },
     "metadata": {},
     "output_type": "display_data"
    },
    {
     "data": {
      "text/latex": [
       "$\\displaystyle 6.0 \\cdot 10^{-126}$"
      ],
      "text/plain": [
       "0.e-125"
      ]
     },
     "metadata": {},
     "output_type": "display_data"
    },
    {
     "data": {
      "text/latex": [
       "$\\displaystyle 3.0 \\cdot 10^{-126}$"
      ],
      "text/plain": [
       "0.e-126"
      ]
     },
     "metadata": {},
     "output_type": "display_data"
    },
    {
     "data": {
      "text/latex": [
       "$\\displaystyle -1.0 \\cdot 10^{-126}$"
      ],
      "text/plain": [
       "-0.e-126"
      ]
     },
     "metadata": {},
     "output_type": "display_data"
    },
    {
     "data": {
      "text/latex": [
       "$\\displaystyle -7.0 \\cdot 10^{-127}$"
      ],
      "text/plain": [
       "-0.e-126"
      ]
     },
     "metadata": {},
     "output_type": "display_data"
    },
    {
     "data": {
      "text/latex": [
       "$\\displaystyle 7.0 \\cdot 10^{-127}$"
      ],
      "text/plain": [
       "0.e-126"
      ]
     },
     "metadata": {},
     "output_type": "display_data"
    },
    {
     "data": {
      "text/latex": [
       "$\\displaystyle 1.0 \\cdot 10^{-126}$"
      ],
      "text/plain": [
       "0.e-126"
      ]
     },
     "metadata": {},
     "output_type": "display_data"
    }
   ],
   "source": [
    "val_map = {\n",
    "    C1:sp.Rational(1, 6), C2:sp.Rational(2, 6), C3:sp.Rational(2, 6), C4:sp.Rational(1, 6),\n",
    "    a2:sp.Rational(1, 2), b21:sp.Rational(1, 2),\n",
    "    a3:sp.Rational(1, 2), b31:sp.Rational(0, 1), b32:sp.Rational(1, 2),\n",
    "    a4:sp.Rational(1, 1), b41:sp.Rational(0, 1), b42:sp.Rational(0, 1), b43:sp.Rational(1, 1)\n",
    "}\n",
    "for cond in conds2:\n",
    "    display(cond.evalf(subs=val_map))"
   ]
  }
 ],
 "metadata": {
  "kernelspec": {
   "display_name": "Python 3.10.6 ('.venv': poetry)",
   "language": "python",
   "name": "python3"
  },
  "language_info": {
   "codemirror_mode": {
    "name": "ipython",
    "version": 3
   },
   "file_extension": ".py",
   "mimetype": "text/x-python",
   "name": "python",
   "nbconvert_exporter": "python",
   "pygments_lexer": "ipython3",
   "version": "3.10.6"
  },
  "vscode": {
   "interpreter": {
    "hash": "d36654fe88650e2592491a772a5d72fae08e4ce2876c30a98a081787002388e3"
   }
  }
 },
 "nbformat": 4,
 "nbformat_minor": 2
}