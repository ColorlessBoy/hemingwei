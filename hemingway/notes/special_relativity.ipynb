{
 "cells": [
  {
   "cell_type": "code",
   "execution_count": 2,
   "metadata": {},
   "outputs": [],
   "source": [
    "import sympy as sp\n",
    "c, v = sp.symbols('c v')\n",
    "K = sp.MatrixSymbol('K', 2, 2).as_explicit()\n",
    "\n",
    "def generateEq(origin, target, K):\n",
    "    n = len(origin)\n",
    "    vecOrigin = sp.Matrix(origin).reshape(n, 1)\n",
    "    vecTarget = sp.Matrix(target).reshape(n, 1)\n",
    "    eq = (vecTarget.T * K * vecOrigin)\n",
    "    return eq"
   ]
  },
  {
   "cell_type": "code",
   "execution_count": 3,
   "metadata": {},
   "outputs": [
    {
     "data": {
      "text/plain": [
       "{K[0, 0]: K[1, 1], K[0, 1]: -I*v*K[1, 1]/c**2, K[1, 0]: I*v*K[1, 1]}"
      ]
     },
     "metadata": {},
     "output_type": "display_data"
    }
   ],
   "source": [
    "rst = sp.solve([\n",
    "    generateEq([sp.I, -c], [sp.I * (-c), 1], K),\n",
    "    generateEq([sp.I,  c], [sp.I * c, 1], K),\n",
    "    generateEq([sp.I,  v], [0, 1], K),\n",
    "    generateEq([sp.I,  0], [sp.I * (-v), 1], K)\n",
    "], K)\n",
    "display(rst)"
   ]
  },
  {
   "cell_type": "code",
   "execution_count": 6,
   "metadata": {},
   "outputs": [
    {
     "data": {
      "text/latex": [
       "$\\displaystyle \\left[\\begin{matrix}k^{2} - \\frac{k^{2} v^{2}}{c^{2}} & 0\\\\0 & k^{2} - \\frac{k^{2} v^{2}}{c^{2}}\\end{matrix}\\right]$"
      ],
      "text/plain": [
       "Matrix([\n",
       "[k**2 - k**2*v**2/c**2,                     0],\n",
       "[                    0, k**2 - k**2*v**2/c**2]])"
      ]
     },
     "metadata": {},
     "output_type": "display_data"
    },
    {
     "data": {
      "text/latex": [
       "$\\displaystyle \\left[\\begin{matrix}1 & 0\\\\0 & 1\\end{matrix}\\right]$"
      ],
      "text/plain": [
       "Matrix([\n",
       "[1, 0],\n",
       "[0, 1]])"
      ]
     },
     "metadata": {},
     "output_type": "display_data"
    },
    {
     "data": {
      "text/plain": [
       "[(-c*sqrt(-1/((-c + v)*(c + v))),), (c*sqrt(-1/((-c + v)*(c + v))),)]"
      ]
     },
     "execution_count": 6,
     "metadata": {},
     "output_type": "execute_result"
    }
   ],
   "source": [
    "k = sp.symbols('k')\n",
    "m1 = sp.Matrix([[k, -sp.I * v * k / c**2], [sp.I * v * k, k]])\n",
    "m2 = sp.Matrix([[k, sp.I * v * k / c**2], [-sp.I * v * k, k]])\n",
    "I = sp.eye(*m1.shape)\n",
    "display(m2 * m1, I)\n",
    "ret = sp.solve([m2 * m1 - I], k)\n",
    "ret"
   ]
  },
  {
   "cell_type": "markdown",
   "metadata": {},
   "source": []
  }
 ],
 "metadata": {
  "kernelspec": {
   "display_name": ".venv",
   "language": "python",
   "name": "python3"
  },
  "language_info": {
   "codemirror_mode": {
    "name": "ipython",
    "version": 3
   },
   "file_extension": ".py",
   "mimetype": "text/x-python",
   "name": "python",
   "nbconvert_exporter": "python",
   "pygments_lexer": "ipython3",
   "version": "3.11.4"
  }
 },
 "nbformat": 4,
 "nbformat_minor": 2
}
